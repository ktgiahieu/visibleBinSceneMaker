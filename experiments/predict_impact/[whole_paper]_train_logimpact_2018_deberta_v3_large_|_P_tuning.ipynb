{
  "metadata": {
    "kernelspec": {
      "display_name": "Python 3",
      "name": "python3"
    },
    "language_info": {
      "name": "python",
      "version": "3.10.10",
      "mimetype": "text/x-python",
      "codemirror_mode": {
        "name": "ipython",
        "version": 3
      },
      "pygments_lexer": "ipython3",
      "nbconvert_exporter": "python",
      "file_extension": ".py"
    },
    "colab": {
      "provenance": [],
      "machine_shape": "hm",
      "gpuType": "A100",
      "include_colab_link": true
    },
    "accelerator": "GPU",
    "widgets": {
      "application/vnd.jupyter.widget-state+json": {
        "5dab7e9e16b746ddaeffc712bcb78f98": {
          "model_module": "@jupyter-widgets/controls",
          "model_name": "HBoxModel",
          "model_module_version": "1.5.0",
          "state": {
            "_dom_classes": [],
            "_model_module": "@jupyter-widgets/controls",
            "_model_module_version": "1.5.0",
            "_model_name": "HBoxModel",
            "_view_count": null,
            "_view_module": "@jupyter-widgets/controls",
            "_view_module_version": "1.5.0",
            "_view_name": "HBoxView",
            "box_style": "",
            "children": [
              "IPY_MODEL_2daeea34f223424dae5d84dc817be920",
              "IPY_MODEL_918e839ef26b48939bbff96a9e0500ef",
              "IPY_MODEL_73c13dc05b4543abb9901b550111c7fb"
            ],
            "layout": "IPY_MODEL_b608bbfb6e494e2cb6b5dcd2d8290156"
          }
        },
        "2daeea34f223424dae5d84dc817be920": {
          "model_module": "@jupyter-widgets/controls",
          "model_name": "HTMLModel",
          "model_module_version": "1.5.0",
          "state": {
            "_dom_classes": [],
            "_model_module": "@jupyter-widgets/controls",
            "_model_module_version": "1.5.0",
            "_model_name": "HTMLModel",
            "_view_count": null,
            "_view_module": "@jupyter-widgets/controls",
            "_view_module_version": "1.5.0",
            "_view_name": "HTMLView",
            "description": "",
            "description_tooltip": null,
            "layout": "IPY_MODEL_32adb20e9f89476183306d6c49e9fd7f",
            "placeholder": "​",
            "style": "IPY_MODEL_4f54135e719446b49f50a007c588496b",
            "value": "100%"
          }
        },
        "918e839ef26b48939bbff96a9e0500ef": {
          "model_module": "@jupyter-widgets/controls",
          "model_name": "FloatProgressModel",
          "model_module_version": "1.5.0",
          "state": {
            "_dom_classes": [],
            "_model_module": "@jupyter-widgets/controls",
            "_model_module_version": "1.5.0",
            "_model_name": "FloatProgressModel",
            "_view_count": null,
            "_view_module": "@jupyter-widgets/controls",
            "_view_module_version": "1.5.0",
            "_view_name": "ProgressView",
            "bar_style": "success",
            "description": "",
            "description_tooltip": null,
            "layout": "IPY_MODEL_497f3a2c66e348daa5b627cbea3be13f",
            "max": 591,
            "min": 0,
            "orientation": "horizontal",
            "style": "IPY_MODEL_ccec6d19a6364f258c554baf7a42cae9",
            "value": 591
          }
        },
        "73c13dc05b4543abb9901b550111c7fb": {
          "model_module": "@jupyter-widgets/controls",
          "model_name": "HTMLModel",
          "model_module_version": "1.5.0",
          "state": {
            "_dom_classes": [],
            "_model_module": "@jupyter-widgets/controls",
            "_model_module_version": "1.5.0",
            "_model_name": "HTMLModel",
            "_view_count": null,
            "_view_module": "@jupyter-widgets/controls",
            "_view_module_version": "1.5.0",
            "_view_name": "HTMLView",
            "description": "",
            "description_tooltip": null,
            "layout": "IPY_MODEL_cb20495d3bab490bae3d8980deccfb33",
            "placeholder": "​",
            "style": "IPY_MODEL_6811c1d3b2834599930e207769413c38",
            "value": " 591/591 [06:45&lt;00:00,  8.77it/s]"
          }
        },
        "b608bbfb6e494e2cb6b5dcd2d8290156": {
          "model_module": "@jupyter-widgets/base",
          "model_name": "LayoutModel",
          "model_module_version": "1.2.0",
          "state": {
            "_model_module": "@jupyter-widgets/base",
            "_model_module_version": "1.2.0",
            "_model_name": "LayoutModel",
            "_view_count": null,
            "_view_module": "@jupyter-widgets/base",
            "_view_module_version": "1.2.0",
            "_view_name": "LayoutView",
            "align_content": null,
            "align_items": null,
            "align_self": null,
            "border": null,
            "bottom": null,
            "display": null,
            "flex": null,
            "flex_flow": null,
            "grid_area": null,
            "grid_auto_columns": null,
            "grid_auto_flow": null,
            "grid_auto_rows": null,
            "grid_column": null,
            "grid_gap": null,
            "grid_row": null,
            "grid_template_areas": null,
            "grid_template_columns": null,
            "grid_template_rows": null,
            "height": null,
            "justify_content": null,
            "justify_items": null,
            "left": null,
            "margin": null,
            "max_height": null,
            "max_width": null,
            "min_height": null,
            "min_width": null,
            "object_fit": null,
            "object_position": null,
            "order": null,
            "overflow": null,
            "overflow_x": null,
            "overflow_y": null,
            "padding": null,
            "right": null,
            "top": null,
            "visibility": null,
            "width": null
          }
        },
        "32adb20e9f89476183306d6c49e9fd7f": {
          "model_module": "@jupyter-widgets/base",
          "model_name": "LayoutModel",
          "model_module_version": "1.2.0",
          "state": {
            "_model_module": "@jupyter-widgets/base",
            "_model_module_version": "1.2.0",
            "_model_name": "LayoutModel",
            "_view_count": null,
            "_view_module": "@jupyter-widgets/base",
            "_view_module_version": "1.2.0",
            "_view_name": "LayoutView",
            "align_content": null,
            "align_items": null,
            "align_self": null,
            "border": null,
            "bottom": null,
            "display": null,
            "flex": null,
            "flex_flow": null,
            "grid_area": null,
            "grid_auto_columns": null,
            "grid_auto_flow": null,
            "grid_auto_rows": null,
            "grid_column": null,
            "grid_gap": null,
            "grid_row": null,
            "grid_template_areas": null,
            "grid_template_columns": null,
            "grid_template_rows": null,
            "height": null,
            "justify_content": null,
            "justify_items": null,
            "left": null,
            "margin": null,
            "max_height": null,
            "max_width": null,
            "min_height": null,
            "min_width": null,
            "object_fit": null,
            "object_position": null,
            "order": null,
            "overflow": null,
            "overflow_x": null,
            "overflow_y": null,
            "padding": null,
            "right": null,
            "top": null,
            "visibility": null,
            "width": null
          }
        },
        "4f54135e719446b49f50a007c588496b": {
          "model_module": "@jupyter-widgets/controls",
          "model_name": "DescriptionStyleModel",
          "model_module_version": "1.5.0",
          "state": {
            "_model_module": "@jupyter-widgets/controls",
            "_model_module_version": "1.5.0",
            "_model_name": "DescriptionStyleModel",
            "_view_count": null,
            "_view_module": "@jupyter-widgets/base",
            "_view_module_version": "1.2.0",
            "_view_name": "StyleView",
            "description_width": ""
          }
        },
        "497f3a2c66e348daa5b627cbea3be13f": {
          "model_module": "@jupyter-widgets/base",
          "model_name": "LayoutModel",
          "model_module_version": "1.2.0",
          "state": {
            "_model_module": "@jupyter-widgets/base",
            "_model_module_version": "1.2.0",
            "_model_name": "LayoutModel",
            "_view_count": null,
            "_view_module": "@jupyter-widgets/base",
            "_view_module_version": "1.2.0",
            "_view_name": "LayoutView",
            "align_content": null,
            "align_items": null,
            "align_self": null,
            "border": null,
            "bottom": null,
            "display": null,
            "flex": null,
            "flex_flow": null,
            "grid_area": null,
            "grid_auto_columns": null,
            "grid_auto_flow": null,
            "grid_auto_rows": null,
            "grid_column": null,
            "grid_gap": null,
            "grid_row": null,
            "grid_template_areas": null,
            "grid_template_columns": null,
            "grid_template_rows": null,
            "height": null,
            "justify_content": null,
            "justify_items": null,
            "left": null,
            "margin": null,
            "max_height": null,
            "max_width": null,
            "min_height": null,
            "min_width": null,
            "object_fit": null,
            "object_position": null,
            "order": null,
            "overflow": null,
            "overflow_x": null,
            "overflow_y": null,
            "padding": null,
            "right": null,
            "top": null,
            "visibility": null,
            "width": null
          }
        },
        "ccec6d19a6364f258c554baf7a42cae9": {
          "model_module": "@jupyter-widgets/controls",
          "model_name": "ProgressStyleModel",
          "model_module_version": "1.5.0",
          "state": {
            "_model_module": "@jupyter-widgets/controls",
            "_model_module_version": "1.5.0",
            "_model_name": "ProgressStyleModel",
            "_view_count": null,
            "_view_module": "@jupyter-widgets/base",
            "_view_module_version": "1.2.0",
            "_view_name": "StyleView",
            "bar_color": null,
            "description_width": ""
          }
        },
        "cb20495d3bab490bae3d8980deccfb33": {
          "model_module": "@jupyter-widgets/base",
          "model_name": "LayoutModel",
          "model_module_version": "1.2.0",
          "state": {
            "_model_module": "@jupyter-widgets/base",
            "_model_module_version": "1.2.0",
            "_model_name": "LayoutModel",
            "_view_count": null,
            "_view_module": "@jupyter-widgets/base",
            "_view_module_version": "1.2.0",
            "_view_name": "LayoutView",
            "align_content": null,
            "align_items": null,
            "align_self": null,
            "border": null,
            "bottom": null,
            "display": null,
            "flex": null,
            "flex_flow": null,
            "grid_area": null,
            "grid_auto_columns": null,
            "grid_auto_flow": null,
            "grid_auto_rows": null,
            "grid_column": null,
            "grid_gap": null,
            "grid_row": null,
            "grid_template_areas": null,
            "grid_template_columns": null,
            "grid_template_rows": null,
            "height": null,
            "justify_content": null,
            "justify_items": null,
            "left": null,
            "margin": null,
            "max_height": null,
            "max_width": null,
            "min_height": null,
            "min_width": null,
            "object_fit": null,
            "object_position": null,
            "order": null,
            "overflow": null,
            "overflow_x": null,
            "overflow_y": null,
            "padding": null,
            "right": null,
            "top": null,
            "visibility": null,
            "width": null
          }
        },
        "6811c1d3b2834599930e207769413c38": {
          "model_module": "@jupyter-widgets/controls",
          "model_name": "DescriptionStyleModel",
          "model_module_version": "1.5.0",
          "state": {
            "_model_module": "@jupyter-widgets/controls",
            "_model_module_version": "1.5.0",
            "_model_name": "DescriptionStyleModel",
            "_view_count": null,
            "_view_module": "@jupyter-widgets/base",
            "_view_module_version": "1.2.0",
            "_view_name": "StyleView",
            "description_width": ""
          }
        },
        "84de599be20b4e73bff36260407c3ada": {
          "model_module": "@jupyter-widgets/controls",
          "model_name": "HBoxModel",
          "model_module_version": "1.5.0",
          "state": {
            "_dom_classes": [],
            "_model_module": "@jupyter-widgets/controls",
            "_model_module_version": "1.5.0",
            "_model_name": "HBoxModel",
            "_view_count": null,
            "_view_module": "@jupyter-widgets/controls",
            "_view_module_version": "1.5.0",
            "_view_name": "HBoxView",
            "box_style": "",
            "children": [
              "IPY_MODEL_b91c52fb84014f339eaa144789e6dba5",
              "IPY_MODEL_86d72fff9a324398bd5b677019b7fb0e",
              "IPY_MODEL_f4ba3cbade3e44889ebfc2b597e028f8"
            ],
            "layout": "IPY_MODEL_fa6d889f6b7d4f50b59c2b4de39415e6"
          }
        },
        "b91c52fb84014f339eaa144789e6dba5": {
          "model_module": "@jupyter-widgets/controls",
          "model_name": "HTMLModel",
          "model_module_version": "1.5.0",
          "state": {
            "_dom_classes": [],
            "_model_module": "@jupyter-widgets/controls",
            "_model_module_version": "1.5.0",
            "_model_name": "HTMLModel",
            "_view_count": null,
            "_view_module": "@jupyter-widgets/controls",
            "_view_module_version": "1.5.0",
            "_view_name": "HTMLView",
            "description": "",
            "description_tooltip": null,
            "layout": "IPY_MODEL_f6dbbbef57734bda8eda2c952a40a299",
            "placeholder": "​",
            "style": "IPY_MODEL_173ba3e3543b424b875caff299ccd0f6",
            "value": "Upload 2 LFS files: 100%"
          }
        },
        "86d72fff9a324398bd5b677019b7fb0e": {
          "model_module": "@jupyter-widgets/controls",
          "model_name": "FloatProgressModel",
          "model_module_version": "1.5.0",
          "state": {
            "_dom_classes": [],
            "_model_module": "@jupyter-widgets/controls",
            "_model_module_version": "1.5.0",
            "_model_name": "FloatProgressModel",
            "_view_count": null,
            "_view_module": "@jupyter-widgets/controls",
            "_view_module_version": "1.5.0",
            "_view_name": "ProgressView",
            "bar_style": "success",
            "description": "",
            "description_tooltip": null,
            "layout": "IPY_MODEL_ca49a391c5a9486790828d0a0a5ba830",
            "max": 2,
            "min": 0,
            "orientation": "horizontal",
            "style": "IPY_MODEL_fbf483d123884382ac3839463577bbf7",
            "value": 2
          }
        },
        "f4ba3cbade3e44889ebfc2b597e028f8": {
          "model_module": "@jupyter-widgets/controls",
          "model_name": "HTMLModel",
          "model_module_version": "1.5.0",
          "state": {
            "_dom_classes": [],
            "_model_module": "@jupyter-widgets/controls",
            "_model_module_version": "1.5.0",
            "_model_name": "HTMLModel",
            "_view_count": null,
            "_view_module": "@jupyter-widgets/controls",
            "_view_module_version": "1.5.0",
            "_view_name": "HTMLView",
            "description": "",
            "description_tooltip": null,
            "layout": "IPY_MODEL_42a680b98a4a4807aeef8c41ed7c5f85",
            "placeholder": "​",
            "style": "IPY_MODEL_8a86f79e8d654996a6ab071954922688",
            "value": " 2/2 [00:01&lt;00:00,  1.75s/it]"
          }
        },
        "fa6d889f6b7d4f50b59c2b4de39415e6": {
          "model_module": "@jupyter-widgets/base",
          "model_name": "LayoutModel",
          "model_module_version": "1.2.0",
          "state": {
            "_model_module": "@jupyter-widgets/base",
            "_model_module_version": "1.2.0",
            "_model_name": "LayoutModel",
            "_view_count": null,
            "_view_module": "@jupyter-widgets/base",
            "_view_module_version": "1.2.0",
            "_view_name": "LayoutView",
            "align_content": null,
            "align_items": null,
            "align_self": null,
            "border": null,
            "bottom": null,
            "display": null,
            "flex": null,
            "flex_flow": null,
            "grid_area": null,
            "grid_auto_columns": null,
            "grid_auto_flow": null,
            "grid_auto_rows": null,
            "grid_column": null,
            "grid_gap": null,
            "grid_row": null,
            "grid_template_areas": null,
            "grid_template_columns": null,
            "grid_template_rows": null,
            "height": null,
            "justify_content": null,
            "justify_items": null,
            "left": null,
            "margin": null,
            "max_height": null,
            "max_width": null,
            "min_height": null,
            "min_width": null,
            "object_fit": null,
            "object_position": null,
            "order": null,
            "overflow": null,
            "overflow_x": null,
            "overflow_y": null,
            "padding": null,
            "right": null,
            "top": null,
            "visibility": null,
            "width": null
          }
        },
        "f6dbbbef57734bda8eda2c952a40a299": {
          "model_module": "@jupyter-widgets/base",
          "model_name": "LayoutModel",
          "model_module_version": "1.2.0",
          "state": {
            "_model_module": "@jupyter-widgets/base",
            "_model_module_version": "1.2.0",
            "_model_name": "LayoutModel",
            "_view_count": null,
            "_view_module": "@jupyter-widgets/base",
            "_view_module_version": "1.2.0",
            "_view_name": "LayoutView",
            "align_content": null,
            "align_items": null,
            "align_self": null,
            "border": null,
            "bottom": null,
            "display": null,
            "flex": null,
            "flex_flow": null,
            "grid_area": null,
            "grid_auto_columns": null,
            "grid_auto_flow": null,
            "grid_auto_rows": null,
            "grid_column": null,
            "grid_gap": null,
            "grid_row": null,
            "grid_template_areas": null,
            "grid_template_columns": null,
            "grid_template_rows": null,
            "height": null,
            "justify_content": null,
            "justify_items": null,
            "left": null,
            "margin": null,
            "max_height": null,
            "max_width": null,
            "min_height": null,
            "min_width": null,
            "object_fit": null,
            "object_position": null,
            "order": null,
            "overflow": null,
            "overflow_x": null,
            "overflow_y": null,
            "padding": null,
            "right": null,
            "top": null,
            "visibility": null,
            "width": null
          }
        },
        "173ba3e3543b424b875caff299ccd0f6": {
          "model_module": "@jupyter-widgets/controls",
          "model_name": "DescriptionStyleModel",
          "model_module_version": "1.5.0",
          "state": {
            "_model_module": "@jupyter-widgets/controls",
            "_model_module_version": "1.5.0",
            "_model_name": "DescriptionStyleModel",
            "_view_count": null,
            "_view_module": "@jupyter-widgets/base",
            "_view_module_version": "1.2.0",
            "_view_name": "StyleView",
            "description_width": ""
          }
        },
        "ca49a391c5a9486790828d0a0a5ba830": {
          "model_module": "@jupyter-widgets/base",
          "model_name": "LayoutModel",
          "model_module_version": "1.2.0",
          "state": {
            "_model_module": "@jupyter-widgets/base",
            "_model_module_version": "1.2.0",
            "_model_name": "LayoutModel",
            "_view_count": null,
            "_view_module": "@jupyter-widgets/base",
            "_view_module_version": "1.2.0",
            "_view_name": "LayoutView",
            "align_content": null,
            "align_items": null,
            "align_self": null,
            "border": null,
            "bottom": null,
            "display": null,
            "flex": null,
            "flex_flow": null,
            "grid_area": null,
            "grid_auto_columns": null,
            "grid_auto_flow": null,
            "grid_auto_rows": null,
            "grid_column": null,
            "grid_gap": null,
            "grid_row": null,
            "grid_template_areas": null,
            "grid_template_columns": null,
            "grid_template_rows": null,
            "height": null,
            "justify_content": null,
            "justify_items": null,
            "left": null,
            "margin": null,
            "max_height": null,
            "max_width": null,
            "min_height": null,
            "min_width": null,
            "object_fit": null,
            "object_position": null,
            "order": null,
            "overflow": null,
            "overflow_x": null,
            "overflow_y": null,
            "padding": null,
            "right": null,
            "top": null,
            "visibility": null,
            "width": null
          }
        },
        "fbf483d123884382ac3839463577bbf7": {
          "model_module": "@jupyter-widgets/controls",
          "model_name": "ProgressStyleModel",
          "model_module_version": "1.5.0",
          "state": {
            "_model_module": "@jupyter-widgets/controls",
            "_model_module_version": "1.5.0",
            "_model_name": "ProgressStyleModel",
            "_view_count": null,
            "_view_module": "@jupyter-widgets/base",
            "_view_module_version": "1.2.0",
            "_view_name": "StyleView",
            "bar_color": null,
            "description_width": ""
          }
        },
        "42a680b98a4a4807aeef8c41ed7c5f85": {
          "model_module": "@jupyter-widgets/base",
          "model_name": "LayoutModel",
          "model_module_version": "1.2.0",
          "state": {
            "_model_module": "@jupyter-widgets/base",
            "_model_module_version": "1.2.0",
            "_model_name": "LayoutModel",
            "_view_count": null,
            "_view_module": "@jupyter-widgets/base",
            "_view_module_version": "1.2.0",
            "_view_name": "LayoutView",
            "align_content": null,
            "align_items": null,
            "align_self": null,
            "border": null,
            "bottom": null,
            "display": null,
            "flex": null,
            "flex_flow": null,
            "grid_area": null,
            "grid_auto_columns": null,
            "grid_auto_flow": null,
            "grid_auto_rows": null,
            "grid_column": null,
            "grid_gap": null,
            "grid_row": null,
            "grid_template_areas": null,
            "grid_template_columns": null,
            "grid_template_rows": null,
            "height": null,
            "justify_content": null,
            "justify_items": null,
            "left": null,
            "margin": null,
            "max_height": null,
            "max_width": null,
            "min_height": null,
            "min_width": null,
            "object_fit": null,
            "object_position": null,
            "order": null,
            "overflow": null,
            "overflow_x": null,
            "overflow_y": null,
            "padding": null,
            "right": null,
            "top": null,
            "visibility": null,
            "width": null
          }
        },
        "8a86f79e8d654996a6ab071954922688": {
          "model_module": "@jupyter-widgets/controls",
          "model_name": "DescriptionStyleModel",
          "model_module_version": "1.5.0",
          "state": {
            "_model_module": "@jupyter-widgets/controls",
            "_model_module_version": "1.5.0",
            "_model_name": "DescriptionStyleModel",
            "_view_count": null,
            "_view_module": "@jupyter-widgets/base",
            "_view_module_version": "1.2.0",
            "_view_name": "StyleView",
            "description_width": ""
          }
        },
        "79a3f21ec7034317968c2ef8d39ba6a6": {
          "model_module": "@jupyter-widgets/controls",
          "model_name": "HBoxModel",
          "model_module_version": "1.5.0",
          "state": {
            "_dom_classes": [],
            "_model_module": "@jupyter-widgets/controls",
            "_model_module_version": "1.5.0",
            "_model_name": "HBoxModel",
            "_view_count": null,
            "_view_module": "@jupyter-widgets/controls",
            "_view_module_version": "1.5.0",
            "_view_name": "HBoxView",
            "box_style": "",
            "children": [
              "IPY_MODEL_26a597cd6c91419c872dc2d25c9047bb",
              "IPY_MODEL_cc4b73a61e4c4b4abba1bdfc65ccb2b8",
              "IPY_MODEL_ab0c25c4f5d949c895803bbd6f2e2ab7"
            ],
            "layout": "IPY_MODEL_51d7b3d549e1436e9baaf3e29d74c4b9"
          }
        },
        "26a597cd6c91419c872dc2d25c9047bb": {
          "model_module": "@jupyter-widgets/controls",
          "model_name": "HTMLModel",
          "model_module_version": "1.5.0",
          "state": {
            "_dom_classes": [],
            "_model_module": "@jupyter-widgets/controls",
            "_model_module_version": "1.5.0",
            "_model_name": "HTMLModel",
            "_view_count": null,
            "_view_module": "@jupyter-widgets/controls",
            "_view_module_version": "1.5.0",
            "_view_name": "HTMLView",
            "description": "",
            "description_tooltip": null,
            "layout": "IPY_MODEL_6c65c834704943ac9b5c4c4c00399ea8",
            "placeholder": "​",
            "style": "IPY_MODEL_488c6102a64b44dba2a5aed275280728",
            "value": "adapter_model.bin: 100%"
          }
        },
        "cc4b73a61e4c4b4abba1bdfc65ccb2b8": {
          "model_module": "@jupyter-widgets/controls",
          "model_name": "FloatProgressModel",
          "model_module_version": "1.5.0",
          "state": {
            "_dom_classes": [],
            "_model_module": "@jupyter-widgets/controls",
            "_model_module_version": "1.5.0",
            "_model_name": "FloatProgressModel",
            "_view_count": null,
            "_view_module": "@jupyter-widgets/controls",
            "_view_module_version": "1.5.0",
            "_view_name": "ProgressView",
            "bar_style": "success",
            "description": "",
            "description_tooltip": null,
            "layout": "IPY_MODEL_becf0a2bd90640b4bdfd7cce3f22db6d",
            "max": 87361,
            "min": 0,
            "orientation": "horizontal",
            "style": "IPY_MODEL_4eeb78d5ae30419fbf51cf1778f91479",
            "value": 87361
          }
        },
        "ab0c25c4f5d949c895803bbd6f2e2ab7": {
          "model_module": "@jupyter-widgets/controls",
          "model_name": "HTMLModel",
          "model_module_version": "1.5.0",
          "state": {
            "_dom_classes": [],
            "_model_module": "@jupyter-widgets/controls",
            "_model_module_version": "1.5.0",
            "_model_name": "HTMLModel",
            "_view_count": null,
            "_view_module": "@jupyter-widgets/controls",
            "_view_module_version": "1.5.0",
            "_view_name": "HTMLView",
            "description": "",
            "description_tooltip": null,
            "layout": "IPY_MODEL_e4b5ae31578945ed9841264bd07cd6cd",
            "placeholder": "​",
            "style": "IPY_MODEL_dca64d09cd874219af51e2c9c771acf7",
            "value": " 87.4k/87.4k [00:01&lt;00:00, 11.4kB/s]"
          }
        },
        "51d7b3d549e1436e9baaf3e29d74c4b9": {
          "model_module": "@jupyter-widgets/base",
          "model_name": "LayoutModel",
          "model_module_version": "1.2.0",
          "state": {
            "_model_module": "@jupyter-widgets/base",
            "_model_module_version": "1.2.0",
            "_model_name": "LayoutModel",
            "_view_count": null,
            "_view_module": "@jupyter-widgets/base",
            "_view_module_version": "1.2.0",
            "_view_name": "LayoutView",
            "align_content": null,
            "align_items": null,
            "align_self": null,
            "border": null,
            "bottom": null,
            "display": null,
            "flex": null,
            "flex_flow": null,
            "grid_area": null,
            "grid_auto_columns": null,
            "grid_auto_flow": null,
            "grid_auto_rows": null,
            "grid_column": null,
            "grid_gap": null,
            "grid_row": null,
            "grid_template_areas": null,
            "grid_template_columns": null,
            "grid_template_rows": null,
            "height": null,
            "justify_content": null,
            "justify_items": null,
            "left": null,
            "margin": null,
            "max_height": null,
            "max_width": null,
            "min_height": null,
            "min_width": null,
            "object_fit": null,
            "object_position": null,
            "order": null,
            "overflow": null,
            "overflow_x": null,
            "overflow_y": null,
            "padding": null,
            "right": null,
            "top": null,
            "visibility": null,
            "width": null
          }
        },
        "6c65c834704943ac9b5c4c4c00399ea8": {
          "model_module": "@jupyter-widgets/base",
          "model_name": "LayoutModel",
          "model_module_version": "1.2.0",
          "state": {
            "_model_module": "@jupyter-widgets/base",
            "_model_module_version": "1.2.0",
            "_model_name": "LayoutModel",
            "_view_count": null,
            "_view_module": "@jupyter-widgets/base",
            "_view_module_version": "1.2.0",
            "_view_name": "LayoutView",
            "align_content": null,
            "align_items": null,
            "align_self": null,
            "border": null,
            "bottom": null,
            "display": null,
            "flex": null,
            "flex_flow": null,
            "grid_area": null,
            "grid_auto_columns": null,
            "grid_auto_flow": null,
            "grid_auto_rows": null,
            "grid_column": null,
            "grid_gap": null,
            "grid_row": null,
            "grid_template_areas": null,
            "grid_template_columns": null,
            "grid_template_rows": null,
            "height": null,
            "justify_content": null,
            "justify_items": null,
            "left": null,
            "margin": null,
            "max_height": null,
            "max_width": null,
            "min_height": null,
            "min_width": null,
            "object_fit": null,
            "object_position": null,
            "order": null,
            "overflow": null,
            "overflow_x": null,
            "overflow_y": null,
            "padding": null,
            "right": null,
            "top": null,
            "visibility": null,
            "width": null
          }
        },
        "488c6102a64b44dba2a5aed275280728": {
          "model_module": "@jupyter-widgets/controls",
          "model_name": "DescriptionStyleModel",
          "model_module_version": "1.5.0",
          "state": {
            "_model_module": "@jupyter-widgets/controls",
            "_model_module_version": "1.5.0",
            "_model_name": "DescriptionStyleModel",
            "_view_count": null,
            "_view_module": "@jupyter-widgets/base",
            "_view_module_version": "1.2.0",
            "_view_name": "StyleView",
            "description_width": ""
          }
        },
        "becf0a2bd90640b4bdfd7cce3f22db6d": {
          "model_module": "@jupyter-widgets/base",
          "model_name": "LayoutModel",
          "model_module_version": "1.2.0",
          "state": {
            "_model_module": "@jupyter-widgets/base",
            "_model_module_version": "1.2.0",
            "_model_name": "LayoutModel",
            "_view_count": null,
            "_view_module": "@jupyter-widgets/base",
            "_view_module_version": "1.2.0",
            "_view_name": "LayoutView",
            "align_content": null,
            "align_items": null,
            "align_self": null,
            "border": null,
            "bottom": null,
            "display": null,
            "flex": null,
            "flex_flow": null,
            "grid_area": null,
            "grid_auto_columns": null,
            "grid_auto_flow": null,
            "grid_auto_rows": null,
            "grid_column": null,
            "grid_gap": null,
            "grid_row": null,
            "grid_template_areas": null,
            "grid_template_columns": null,
            "grid_template_rows": null,
            "height": null,
            "justify_content": null,
            "justify_items": null,
            "left": null,
            "margin": null,
            "max_height": null,
            "max_width": null,
            "min_height": null,
            "min_width": null,
            "object_fit": null,
            "object_position": null,
            "order": null,
            "overflow": null,
            "overflow_x": null,
            "overflow_y": null,
            "padding": null,
            "right": null,
            "top": null,
            "visibility": null,
            "width": null
          }
        },
        "4eeb78d5ae30419fbf51cf1778f91479": {
          "model_module": "@jupyter-widgets/controls",
          "model_name": "ProgressStyleModel",
          "model_module_version": "1.5.0",
          "state": {
            "_model_module": "@jupyter-widgets/controls",
            "_model_module_version": "1.5.0",
            "_model_name": "ProgressStyleModel",
            "_view_count": null,
            "_view_module": "@jupyter-widgets/base",
            "_view_module_version": "1.2.0",
            "_view_name": "StyleView",
            "bar_color": null,
            "description_width": ""
          }
        },
        "e4b5ae31578945ed9841264bd07cd6cd": {
          "model_module": "@jupyter-widgets/base",
          "model_name": "LayoutModel",
          "model_module_version": "1.2.0",
          "state": {
            "_model_module": "@jupyter-widgets/base",
            "_model_module_version": "1.2.0",
            "_model_name": "LayoutModel",
            "_view_count": null,
            "_view_module": "@jupyter-widgets/base",
            "_view_module_version": "1.2.0",
            "_view_name": "LayoutView",
            "align_content": null,
            "align_items": null,
            "align_self": null,
            "border": null,
            "bottom": null,
            "display": null,
            "flex": null,
            "flex_flow": null,
            "grid_area": null,
            "grid_auto_columns": null,
            "grid_auto_flow": null,
            "grid_auto_rows": null,
            "grid_column": null,
            "grid_gap": null,
            "grid_row": null,
            "grid_template_areas": null,
            "grid_template_columns": null,
            "grid_template_rows": null,
            "height": null,
            "justify_content": null,
            "justify_items": null,
            "left": null,
            "margin": null,
            "max_height": null,
            "max_width": null,
            "min_height": null,
            "min_width": null,
            "object_fit": null,
            "object_position": null,
            "order": null,
            "overflow": null,
            "overflow_x": null,
            "overflow_y": null,
            "padding": null,
            "right": null,
            "top": null,
            "visibility": null,
            "width": null
          }
        },
        "dca64d09cd874219af51e2c9c771acf7": {
          "model_module": "@jupyter-widgets/controls",
          "model_name": "DescriptionStyleModel",
          "model_module_version": "1.5.0",
          "state": {
            "_model_module": "@jupyter-widgets/controls",
            "_model_module_version": "1.5.0",
            "_model_name": "DescriptionStyleModel",
            "_view_count": null,
            "_view_module": "@jupyter-widgets/base",
            "_view_module_version": "1.2.0",
            "_view_name": "StyleView",
            "description_width": ""
          }
        },
        "9d5d7a1603384071ada34fbae7e838c7": {
          "model_module": "@jupyter-widgets/controls",
          "model_name": "HBoxModel",
          "model_module_version": "1.5.0",
          "state": {
            "_dom_classes": [],
            "_model_module": "@jupyter-widgets/controls",
            "_model_module_version": "1.5.0",
            "_model_name": "HBoxModel",
            "_view_count": null,
            "_view_module": "@jupyter-widgets/controls",
            "_view_module_version": "1.5.0",
            "_view_name": "HBoxView",
            "box_style": "",
            "children": [
              "IPY_MODEL_1f197c65657f4d3a9e1edca33404f583",
              "IPY_MODEL_2013cb7eabd248c2aca14e6116199819",
              "IPY_MODEL_0f8010b4cb1c4c0d83060235d60f75f7"
            ],
            "layout": "IPY_MODEL_b8edfca6ff1049a9b906ad8c3fc21ca5"
          }
        },
        "1f197c65657f4d3a9e1edca33404f583": {
          "model_module": "@jupyter-widgets/controls",
          "model_name": "HTMLModel",
          "model_module_version": "1.5.0",
          "state": {
            "_dom_classes": [],
            "_model_module": "@jupyter-widgets/controls",
            "_model_module_version": "1.5.0",
            "_model_name": "HTMLModel",
            "_view_count": null,
            "_view_module": "@jupyter-widgets/controls",
            "_view_module_version": "1.5.0",
            "_view_name": "HTMLView",
            "description": "",
            "description_tooltip": null,
            "layout": "IPY_MODEL_51c9ff8dc7a7489d9a932dea0c8ff6e1",
            "placeholder": "​",
            "style": "IPY_MODEL_3f6f99d37e2e40a7993b3e47d91ec6c5",
            "value": "adapter_model.bin: 100%"
          }
        },
        "2013cb7eabd248c2aca14e6116199819": {
          "model_module": "@jupyter-widgets/controls",
          "model_name": "FloatProgressModel",
          "model_module_version": "1.5.0",
          "state": {
            "_dom_classes": [],
            "_model_module": "@jupyter-widgets/controls",
            "_model_module_version": "1.5.0",
            "_model_name": "FloatProgressModel",
            "_view_count": null,
            "_view_module": "@jupyter-widgets/controls",
            "_view_module_version": "1.5.0",
            "_view_name": "ProgressView",
            "bar_style": "success",
            "description": "",
            "description_tooltip": null,
            "layout": "IPY_MODEL_43a0d9139e3c4046885a1589433c8ba6",
            "max": 87361,
            "min": 0,
            "orientation": "horizontal",
            "style": "IPY_MODEL_0e8993770fa84a9dae706ba2bc652f70",
            "value": 87361
          }
        },
        "0f8010b4cb1c4c0d83060235d60f75f7": {
          "model_module": "@jupyter-widgets/controls",
          "model_name": "HTMLModel",
          "model_module_version": "1.5.0",
          "state": {
            "_dom_classes": [],
            "_model_module": "@jupyter-widgets/controls",
            "_model_module_version": "1.5.0",
            "_model_name": "HTMLModel",
            "_view_count": null,
            "_view_module": "@jupyter-widgets/controls",
            "_view_module_version": "1.5.0",
            "_view_name": "HTMLView",
            "description": "",
            "description_tooltip": null,
            "layout": "IPY_MODEL_6712230e4c044409a84db1daf2290581",
            "placeholder": "​",
            "style": "IPY_MODEL_68b34ea76585473bb5fd02be9af5d737",
            "value": " 87.4k/87.4k [00:01&lt;00:00, 11.7kB/s]"
          }
        },
        "b8edfca6ff1049a9b906ad8c3fc21ca5": {
          "model_module": "@jupyter-widgets/base",
          "model_name": "LayoutModel",
          "model_module_version": "1.2.0",
          "state": {
            "_model_module": "@jupyter-widgets/base",
            "_model_module_version": "1.2.0",
            "_model_name": "LayoutModel",
            "_view_count": null,
            "_view_module": "@jupyter-widgets/base",
            "_view_module_version": "1.2.0",
            "_view_name": "LayoutView",
            "align_content": null,
            "align_items": null,
            "align_self": null,
            "border": null,
            "bottom": null,
            "display": null,
            "flex": null,
            "flex_flow": null,
            "grid_area": null,
            "grid_auto_columns": null,
            "grid_auto_flow": null,
            "grid_auto_rows": null,
            "grid_column": null,
            "grid_gap": null,
            "grid_row": null,
            "grid_template_areas": null,
            "grid_template_columns": null,
            "grid_template_rows": null,
            "height": null,
            "justify_content": null,
            "justify_items": null,
            "left": null,
            "margin": null,
            "max_height": null,
            "max_width": null,
            "min_height": null,
            "min_width": null,
            "object_fit": null,
            "object_position": null,
            "order": null,
            "overflow": null,
            "overflow_x": null,
            "overflow_y": null,
            "padding": null,
            "right": null,
            "top": null,
            "visibility": null,
            "width": null
          }
        },
        "51c9ff8dc7a7489d9a932dea0c8ff6e1": {
          "model_module": "@jupyter-widgets/base",
          "model_name": "LayoutModel",
          "model_module_version": "1.2.0",
          "state": {
            "_model_module": "@jupyter-widgets/base",
            "_model_module_version": "1.2.0",
            "_model_name": "LayoutModel",
            "_view_count": null,
            "_view_module": "@jupyter-widgets/base",
            "_view_module_version": "1.2.0",
            "_view_name": "LayoutView",
            "align_content": null,
            "align_items": null,
            "align_self": null,
            "border": null,
            "bottom": null,
            "display": null,
            "flex": null,
            "flex_flow": null,
            "grid_area": null,
            "grid_auto_columns": null,
            "grid_auto_flow": null,
            "grid_auto_rows": null,
            "grid_column": null,
            "grid_gap": null,
            "grid_row": null,
            "grid_template_areas": null,
            "grid_template_columns": null,
            "grid_template_rows": null,
            "height": null,
            "justify_content": null,
            "justify_items": null,
            "left": null,
            "margin": null,
            "max_height": null,
            "max_width": null,
            "min_height": null,
            "min_width": null,
            "object_fit": null,
            "object_position": null,
            "order": null,
            "overflow": null,
            "overflow_x": null,
            "overflow_y": null,
            "padding": null,
            "right": null,
            "top": null,
            "visibility": null,
            "width": null
          }
        },
        "3f6f99d37e2e40a7993b3e47d91ec6c5": {
          "model_module": "@jupyter-widgets/controls",
          "model_name": "DescriptionStyleModel",
          "model_module_version": "1.5.0",
          "state": {
            "_model_module": "@jupyter-widgets/controls",
            "_model_module_version": "1.5.0",
            "_model_name": "DescriptionStyleModel",
            "_view_count": null,
            "_view_module": "@jupyter-widgets/base",
            "_view_module_version": "1.2.0",
            "_view_name": "StyleView",
            "description_width": ""
          }
        },
        "43a0d9139e3c4046885a1589433c8ba6": {
          "model_module": "@jupyter-widgets/base",
          "model_name": "LayoutModel",
          "model_module_version": "1.2.0",
          "state": {
            "_model_module": "@jupyter-widgets/base",
            "_model_module_version": "1.2.0",
            "_model_name": "LayoutModel",
            "_view_count": null,
            "_view_module": "@jupyter-widgets/base",
            "_view_module_version": "1.2.0",
            "_view_name": "LayoutView",
            "align_content": null,
            "align_items": null,
            "align_self": null,
            "border": null,
            "bottom": null,
            "display": null,
            "flex": null,
            "flex_flow": null,
            "grid_area": null,
            "grid_auto_columns": null,
            "grid_auto_flow": null,
            "grid_auto_rows": null,
            "grid_column": null,
            "grid_gap": null,
            "grid_row": null,
            "grid_template_areas": null,
            "grid_template_columns": null,
            "grid_template_rows": null,
            "height": null,
            "justify_content": null,
            "justify_items": null,
            "left": null,
            "margin": null,
            "max_height": null,
            "max_width": null,
            "min_height": null,
            "min_width": null,
            "object_fit": null,
            "object_position": null,
            "order": null,
            "overflow": null,
            "overflow_x": null,
            "overflow_y": null,
            "padding": null,
            "right": null,
            "top": null,
            "visibility": null,
            "width": null
          }
        },
        "0e8993770fa84a9dae706ba2bc652f70": {
          "model_module": "@jupyter-widgets/controls",
          "model_name": "ProgressStyleModel",
          "model_module_version": "1.5.0",
          "state": {
            "_model_module": "@jupyter-widgets/controls",
            "_model_module_version": "1.5.0",
            "_model_name": "ProgressStyleModel",
            "_view_count": null,
            "_view_module": "@jupyter-widgets/base",
            "_view_module_version": "1.2.0",
            "_view_name": "StyleView",
            "bar_color": null,
            "description_width": ""
          }
        },
        "6712230e4c044409a84db1daf2290581": {
          "model_module": "@jupyter-widgets/base",
          "model_name": "LayoutModel",
          "model_module_version": "1.2.0",
          "state": {
            "_model_module": "@jupyter-widgets/base",
            "_model_module_version": "1.2.0",
            "_model_name": "LayoutModel",
            "_view_count": null,
            "_view_module": "@jupyter-widgets/base",
            "_view_module_version": "1.2.0",
            "_view_name": "LayoutView",
            "align_content": null,
            "align_items": null,
            "align_self": null,
            "border": null,
            "bottom": null,
            "display": null,
            "flex": null,
            "flex_flow": null,
            "grid_area": null,
            "grid_auto_columns": null,
            "grid_auto_flow": null,
            "grid_auto_rows": null,
            "grid_column": null,
            "grid_gap": null,
            "grid_row": null,
            "grid_template_areas": null,
            "grid_template_columns": null,
            "grid_template_rows": null,
            "height": null,
            "justify_content": null,
            "justify_items": null,
            "left": null,
            "margin": null,
            "max_height": null,
            "max_width": null,
            "min_height": null,
            "min_width": null,
            "object_fit": null,
            "object_position": null,
            "order": null,
            "overflow": null,
            "overflow_x": null,
            "overflow_y": null,
            "padding": null,
            "right": null,
            "top": null,
            "visibility": null,
            "width": null
          }
        },
        "68b34ea76585473bb5fd02be9af5d737": {
          "model_module": "@jupyter-widgets/controls",
          "model_name": "DescriptionStyleModel",
          "model_module_version": "1.5.0",
          "state": {
            "_model_module": "@jupyter-widgets/controls",
            "_model_module_version": "1.5.0",
            "_model_name": "DescriptionStyleModel",
            "_view_count": null,
            "_view_module": "@jupyter-widgets/base",
            "_view_module_version": "1.2.0",
            "_view_name": "StyleView",
            "description_width": ""
          }
        }
      }
    }
  },
  "nbformat_minor": 0,
  "nbformat": 4,
  "cells": [
    {
      "cell_type": "markdown",
      "metadata": {
        "id": "view-in-github",
        "colab_type": "text"
      },
      "source": [
        "<a href=\"https://colab.research.google.com/github/ktgiahieu/BinPickingSimulation/blob/master/experiments/predict_impact/%5Bwhole_paper%5D_train_logimpact_2018_deberta_v3_large_%7C_P_tuning.ipynb\" target=\"_parent\"><img src=\"https://colab.research.google.com/assets/colab-badge.svg\" alt=\"Open In Colab\"/></a>"
      ]
    },
    {
      "cell_type": "markdown",
      "source": [
        "# Initialization\n",
        "## Check the current environment"
      ],
      "metadata": {
        "id": "nZfvnzMUcD0O"
      }
    },
    {
      "cell_type": "code",
      "source": [
        "!pip install -q git+https://github.com/huggingface/peft"
      ],
      "metadata": {
        "colab": {
          "base_uri": "https://localhost:8080/"
        },
        "id": "p8hoXlMX0CHA",
        "outputId": "42647bcd-09ba-459d-ebe2-f3ba6a5f7d2c"
      },
      "execution_count": 5,
      "outputs": [
        {
          "output_type": "stream",
          "name": "stdout",
          "text": [
            "  Installing build dependencies ... \u001b[?25l\u001b[?25hdone\n",
            "  Getting requirements to build wheel ... \u001b[?25l\u001b[?25hdone\n",
            "  Preparing metadata (pyproject.toml) ... \u001b[?25l\u001b[?25hdone\n",
            "\u001b[2K     \u001b[90m━━━━━━━━━━━━━━━━━━━━━━━━━━━━━━━━━━━━━━━━\u001b[0m \u001b[32m7.2/7.2 MB\u001b[0m \u001b[31m111.7 MB/s\u001b[0m eta \u001b[36m0:00:00\u001b[0m\n",
            "\u001b[2K     \u001b[90m━━━━━━━━━━━━━━━━━━━━━━━━━━━━━━━━━━━━━━\u001b[0m \u001b[32m227.6/227.6 kB\u001b[0m \u001b[31m28.9 MB/s\u001b[0m eta \u001b[36m0:00:00\u001b[0m\n",
            "\u001b[2K     \u001b[90m━━━━━━━━━━━━━━━━━━━━━━━━━━━━━━━━━━━━━━━━\u001b[0m \u001b[32m1.3/1.3 MB\u001b[0m \u001b[31m82.0 MB/s\u001b[0m eta \u001b[36m0:00:00\u001b[0m\n",
            "\u001b[2K     \u001b[90m━━━━━━━━━━━━━━━━━━━━━━━━━━━━━━━━━━━━━━\u001b[0m \u001b[32m236.8/236.8 kB\u001b[0m \u001b[31m32.4 MB/s\u001b[0m eta \u001b[36m0:00:00\u001b[0m\n",
            "\u001b[2K     \u001b[90m━━━━━━━━━━━━━━━━━━━━━━━━━━━━━━━━━━━━━━━━\u001b[0m \u001b[32m7.8/7.8 MB\u001b[0m \u001b[31m114.3 MB/s\u001b[0m eta \u001b[36m0:00:00\u001b[0m\n",
            "\u001b[?25h  Building wheel for peft (pyproject.toml) ... \u001b[?25l\u001b[?25hdone\n"
          ]
        }
      ]
    },
    {
      "cell_type": "code",
      "source": [
        "!pip install -q datasets evaluate transformers sentencepiece cpm_kernels iterative-stratification==0.1.7 accelerate jiwer bitsandbytes"
      ],
      "metadata": {
        "colab": {
          "base_uri": "https://localhost:8080/"
        },
        "id": "y04Cyk0L0L4f",
        "outputId": "4faab776-3bd7-43bc-b7ce-52f9156c7a5e"
      },
      "execution_count": 6,
      "outputs": [
        {
          "output_type": "stream",
          "name": "stdout",
          "text": [
            "\u001b[?25l     \u001b[90m━━━━━━━━━━━━━━━━━━━━━━━━━━━━━━━━━━━━━━━━\u001b[0m \u001b[32m0.0/474.6 kB\u001b[0m \u001b[31m?\u001b[0m eta \u001b[36m-:--:--\u001b[0m\r\u001b[2K     \u001b[90m━━━━━━━━━━━━━━━━━━━━━━━━━━━━━━━━━━━━━━\u001b[0m \u001b[32m474.6/474.6 kB\u001b[0m \u001b[31m31.0 MB/s\u001b[0m eta \u001b[36m0:00:00\u001b[0m\n",
            "\u001b[2K     \u001b[90m━━━━━━━━━━━━━━━━━━━━━━━━━━━━━━━━━━━━━━━━\u001b[0m \u001b[32m81.4/81.4 kB\u001b[0m \u001b[31m12.6 MB/s\u001b[0m eta \u001b[36m0:00:00\u001b[0m\n",
            "\u001b[2K     \u001b[90m━━━━━━━━━━━━━━━━━━━━━━━━━━━━━━━━━━━━━━━━\u001b[0m \u001b[32m1.3/1.3 MB\u001b[0m \u001b[31m72.0 MB/s\u001b[0m eta \u001b[36m0:00:00\u001b[0m\n",
            "\u001b[2K     \u001b[90m━━━━━━━━━━━━━━━━━━━━━━━━━━━━━━━━━━━━━━\u001b[0m \u001b[32m416.6/416.6 kB\u001b[0m \u001b[31m45.6 MB/s\u001b[0m eta \u001b[36m0:00:00\u001b[0m\n",
            "\u001b[2K     \u001b[90m━━━━━━━━━━━━━━━━━━━━━━━━━━━━━━━━━━━━━━━━\u001b[0m \u001b[32m92.2/92.2 MB\u001b[0m \u001b[31m19.7 MB/s\u001b[0m eta \u001b[36m0:00:00\u001b[0m\n",
            "\u001b[2K     \u001b[90m━━━━━━━━━━━━━━━━━━━━━━━━━━━━━━━━━━━━━━\u001b[0m \u001b[32m110.5/110.5 kB\u001b[0m \u001b[31m16.8 MB/s\u001b[0m eta \u001b[36m0:00:00\u001b[0m\n",
            "\u001b[2K     \u001b[90m━━━━━━━━━━━━━━━━━━━━━━━━━━━━━━━━━━━━━━\u001b[0m \u001b[32m212.5/212.5 kB\u001b[0m \u001b[31m28.3 MB/s\u001b[0m eta \u001b[36m0:00:00\u001b[0m\n",
            "\u001b[2K     \u001b[90m━━━━━━━━━━━━━━━━━━━━━━━━━━━━━━━━━━━━━━\u001b[0m \u001b[32m134.3/134.3 kB\u001b[0m \u001b[31m14.5 MB/s\u001b[0m eta \u001b[36m0:00:00\u001b[0m\n",
            "\u001b[2K     \u001b[90m━━━━━━━━━━━━━━━━━━━━━━━━━━━━━━━━━━━━━━━━\u001b[0m \u001b[32m1.0/1.0 MB\u001b[0m \u001b[31m74.0 MB/s\u001b[0m eta \u001b[36m0:00:00\u001b[0m\n",
            "\u001b[2K     \u001b[90m━━━━━━━━━━━━━━━━━━━━━━━━━━━━━━━━━━━━━━━━\u001b[0m \u001b[32m2.2/2.2 MB\u001b[0m \u001b[31m91.0 MB/s\u001b[0m eta \u001b[36m0:00:00\u001b[0m\n",
            "\u001b[2K     \u001b[90m━━━━━━━━━━━━━━━━━━━━━━━━━━━━━━━━━━━━━━\u001b[0m \u001b[32m114.5/114.5 kB\u001b[0m \u001b[31m17.0 MB/s\u001b[0m eta \u001b[36m0:00:00\u001b[0m\n",
            "\u001b[2K     \u001b[90m━━━━━━━━━━━━━━━━━━━━━━━━━━━━━━━━━━━━━━\u001b[0m \u001b[32m268.8/268.8 kB\u001b[0m \u001b[31m34.1 MB/s\u001b[0m eta \u001b[36m0:00:00\u001b[0m\n",
            "\u001b[2K     \u001b[90m━━━━━━━━━━━━━━━━━━━━━━━━━━━━━━━━━━━━━━\u001b[0m \u001b[32m149.6/149.6 kB\u001b[0m \u001b[31m20.9 MB/s\u001b[0m eta \u001b[36m0:00:00\u001b[0m\n",
            "\u001b[?25h"
          ]
        }
      ]
    },
    {
      "cell_type": "code",
      "source": [
        "import os\n",
        "root_data_dir = None\n",
        "ENVIRONMENT = None\n",
        "api_key_dir = None\n",
        "\n",
        "if 'google.colab' in str(get_ipython()):\n",
        "    print(\"Running on Colab\")\n",
        "    from google.colab import drive\n",
        "    drive.mount('/content/gdrive')\n",
        "\n",
        "    root_data_dir = '/content/gdrive/MyDrive/UPSaclay/LLMs/semantic_scholar'\n",
        "    ENVIRONMENT = 'colab'\n",
        "    api_key_dir = '/content/gdrive/MyDrive/UPSaclay'\n",
        "    \n",
        "elif 'kaggle' in os.environ.get('KAGGLE_URL_BASE', ''):\n",
        "    print(\"Running on Kaggle\")\n",
        "    root_data_dir = '/kaggle/input/semantic-scholar-metadata'\n",
        "    ENVIRONMENT = 'kaggle'\n",
        "else:\n",
        "    print(\"Running locally using Github repo\")\n",
        "    root_data_dir = './semantic_scholar'\n",
        "    ENVIRONMENT = 'local'\n",
        "    api_key_dir = '.'"
      ],
      "metadata": {
        "_uuid": "8f2839f25d086af736a60e9eeb907d3b93b6e0e5",
        "_cell_guid": "b1076dfc-b9ad-4769-8c92-a6c4dae69d19",
        "execution": {
          "iopub.status.busy": "2023-05-17T17:12:41.269079Z",
          "iopub.execute_input": "2023-05-17T17:12:41.269469Z",
          "iopub.status.idle": "2023-05-17T17:12:41.283374Z",
          "shell.execute_reply.started": "2023-05-17T17:12:41.269438Z",
          "shell.execute_reply": "2023-05-17T17:12:41.282372Z"
        },
        "trusted": true,
        "id": "yoyQ25eZcD0P",
        "outputId": "af50d6d7-8d91-4c42-e677-8838a483df2c",
        "colab": {
          "base_uri": "https://localhost:8080/"
        }
      },
      "execution_count": 1,
      "outputs": [
        {
          "output_type": "stream",
          "name": "stdout",
          "text": [
            "Running on Colab\n",
            "Drive already mounted at /content/gdrive; to attempt to forcibly remount, call drive.mount(\"/content/gdrive\", force_remount=True).\n"
          ]
        }
      ]
    },
    {
      "cell_type": "markdown",
      "source": [
        "# Modelling\n",
        "## User's config"
      ],
      "metadata": {
        "id": "A0Q9mgKocD0Q"
      }
    },
    {
      "cell_type": "code",
      "source": [
        "# ====================================================\n",
        "# CFG\n",
        "# ====================================================\n",
        "OUTPUT_DIR = \"./\"\n",
        "class CFG:\n",
        "    wandb=False\n",
        "    wandb_project_name = 'ReAIgen_predict_impact'\n",
        "    debug=False\n",
        "    apex=True\n",
        "    print_freq=20\n",
        "    num_workers=0\n",
        "    wandb_project_subname=\"ptuning_logimpact2018\"\n",
        "    gradient_checkpointing=True\n",
        "    scheduler='cosine' # ['linear', 'cosine']\n",
        "    batch_scheduler=True\n",
        "    num_cycles=0.5\n",
        "    num_warmup_steps=0\n",
        "    epochs=10\n",
        "    encoder_lr=2e-4\n",
        "    decoder_lr=2e-4\n",
        "    min_lr=1e-6\n",
        "    eps=1e-6\n",
        "    betas=(0.9, 0.999)\n",
        "    batch_size=1\n",
        "    max_len=3072\n",
        "    weight_decay=0.01\n",
        "    gradient_accumulation_steps=1\n",
        "    max_grad_norm=1000\n",
        "    input_csv_filename = 'semantic_scholar.csv'\n",
        "    target_cols=['log_citationCount'] #citationCount, influentialCitationCount\n",
        "    seed=42\n",
        "    n_fold=4\n",
        "    trn_fold=[0] #add more\n",
        "    train=True\n",
        "    model_name_or_path = \"microsoft/deberta-v3-large\"\n",
        "    fbprize_peft_model_name_or_path = f\"ktgiahieu/{model_name_or_path.split('/')[-1]}-peft-p-tuning-fbprize\"\n",
        "    fbprize_base_model_name_or_path = f\"ktgiahieu/base-{model_name_or_path.split('/')[-1]}-peft-p-tuning-fbprize\"\n",
        "    task = \"mrpc\"\n",
        "    \n",
        "if CFG.debug:\n",
        "    CFG.epochs = 3\n",
        "    CFG.trn_fold = [0]"
      ],
      "metadata": {
        "execution": {
          "iopub.status.busy": "2023-05-17T17:12:41.287111Z",
          "iopub.execute_input": "2023-05-17T17:12:41.287484Z",
          "iopub.status.idle": "2023-05-17T17:12:42.509458Z",
          "shell.execute_reply.started": "2023-05-17T17:12:41.287450Z",
          "shell.execute_reply": "2023-05-17T17:12:42.507895Z"
        },
        "trusted": true,
        "id": "VGvi29TmcD0R"
      },
      "execution_count": 56,
      "outputs": []
    },
    {
      "cell_type": "code",
      "source": [
        "# ====================================================\n",
        "# wandb\n",
        "# ====================================================\n",
        "if CFG.wandb:\n",
        "    import wandb\n",
        "    import json\n",
        "    try:\n",
        "        if ENVIRONMENT == 'kaggle':\n",
        "            from kaggle_secrets import UserSecretsClient\n",
        "            user_secrets = UserSecretsClient()\n",
        "            secret_value_0 = user_secrets.get_secret(\"wandb_api\")\n",
        "        else:\n",
        "            with open(os.path.join(api_key_dir, 'wandb_api_key,json'), 'r') as f:\n",
        "                secret_value_0 = json.load(f)['key']\n",
        "        \n",
        "        os.environ['WANDB_API_KEY'] = secret_value_0\n",
        "        wandb.login(key=secret_value_0, relogin=True)\n",
        "        anony = None\n",
        "    except:\n",
        "        anony = \"must\"\n",
        "        print('If you want to use your W&B account, go to Add-ons -> Secrets and provide your W&B access token. Use the Label name as wandb_api. \\nGet your W&B access token from here: https://wandb.ai/authorize')\n",
        "\n",
        "    def class2dict(f):\n",
        "        return dict((name, getattr(f, name)) for name in dir(f) if not name.startswith('__'))\n",
        "\n",
        "    run = wandb.init(project=CFG.wandb_project_name, \n",
        "                     name=CFG.model + '_' + CFG.wandb_project_subname,\n",
        "                     config=class2dict(CFG),\n",
        "                     group=CFG.model,\n",
        "                     job_type=\"train\",\n",
        "                     anonymous=anony)"
      ],
      "metadata": {
        "execution": {
          "iopub.status.busy": "2023-05-17T17:12:42.515264Z",
          "iopub.execute_input": "2023-05-17T17:12:42.515705Z",
          "iopub.status.idle": "2023-05-17T17:13:18.049957Z",
          "shell.execute_reply.started": "2023-05-17T17:12:42.515666Z",
          "shell.execute_reply": "2023-05-17T17:13:18.049025Z"
        },
        "trusted": true,
        "id": "E0pMdKYUcD0R"
      },
      "execution_count": 57,
      "outputs": []
    },
    {
      "cell_type": "code",
      "source": [
        "# ====================================================\n",
        "# Library\n",
        "# ====================================================\n",
        "import os\n",
        "import gc\n",
        "import re\n",
        "import ast\n",
        "import sys\n",
        "import copy\n",
        "import json\n",
        "import time\n",
        "import math\n",
        "import string\n",
        "import pickle\n",
        "import random\n",
        "import joblib\n",
        "import itertools\n",
        "import warnings\n",
        "warnings.filterwarnings(\"ignore\")\n",
        "\n",
        "import scipy as sp\n",
        "import numpy as np\n",
        "import pandas as pd\n",
        "import matplotlib.pyplot as plt\n",
        "import seaborn as sns\n",
        "pd.set_option('display.max_rows', 500)\n",
        "pd.set_option('display.max_columns', 500)\n",
        "pd.set_option('display.width', 1000)\n",
        "from tqdm.auto import tqdm\n",
        "from sklearn.metrics import mean_squared_error\n",
        "from sklearn.model_selection import StratifiedKFold, GroupKFold, KFold\n",
        "\n",
        "!pip install -q lifelines\n",
        "from scipy.stats import kendalltau\n",
        "from lifelines.utils import concordance_index\n",
        "\n",
        "os.system('pip install iterative-stratification')\n",
        "from iterstrat.ml_stratifiers import MultilabelStratifiedKFold\n",
        "\n",
        "import torch\n",
        "import torch.nn as nn\n",
        "from torch.nn import Parameter\n",
        "import torch.nn.functional as F\n",
        "from torch.optim import Adam, SGD, AdamW\n",
        "from torch.utils.data import DataLoader, Dataset\n",
        "from torch.utils.checkpoint import checkpoint\n",
        "\n",
        "import tokenizers\n",
        "import transformers\n",
        "print(f\"tokenizers.__version__: {tokenizers.__version__}\")\n",
        "print(f\"transformers.__version__: {transformers.__version__}\")\n",
        "from transformers import AutoTokenizer, AutoModel, AutoConfig, AutoModelForSequenceClassification\n",
        "from transformers import get_linear_schedule_with_warmup, get_cosine_schedule_with_warmup\n",
        "%env TOKENIZERS_PARALLELISM=true\n",
        "\n",
        "from peft import (\n",
        "    get_peft_config,\n",
        "    get_peft_model,\n",
        "    get_peft_model_state_dict,\n",
        "    set_peft_model_state_dict,\n",
        "    PeftType,\n",
        "    PrefixTuningConfig,\n",
        "    PromptEncoderConfig,\n",
        "    PeftConfig,\n",
        "    PeftModel\n",
        ")\n",
        "\n",
        "device = torch.device('cuda' if torch.cuda.is_available() else 'cpu')"
      ],
      "metadata": {
        "execution": {
          "iopub.status.busy": "2023-05-17T17:13:18.055091Z",
          "iopub.execute_input": "2023-05-17T17:13:18.058174Z",
          "iopub.status.idle": "2023-05-17T17:13:48.836070Z",
          "shell.execute_reply.started": "2023-05-17T17:13:18.058136Z",
          "shell.execute_reply": "2023-05-17T17:13:48.834901Z"
        },
        "trusted": true,
        "id": "V3s8shjgcD0R",
        "outputId": "159333b5-7dab-4dee-a066-171bf450cc5e",
        "colab": {
          "base_uri": "https://localhost:8080/"
        }
      },
      "execution_count": 58,
      "outputs": [
        {
          "output_type": "stream",
          "name": "stdout",
          "text": [
            "tokenizers.__version__: 0.13.3\n",
            "transformers.__version__: 4.30.1\n",
            "env: TOKENIZERS_PARALLELISM=true\n"
          ]
        }
      ]
    },
    {
      "cell_type": "code",
      "source": [
        "# ====================================================\n",
        "# Utils\n",
        "# ====================================================\n",
        "# The following 3 functions have been taken from Ben Hamner's github repository\n",
        "# https://github.com/benhamner/Metrics\n",
        "def Cmatrix(rater_a, rater_b, min_rating=None, max_rating=None):\n",
        "    \"\"\"\n",
        "    Returns the confusion matrix between rater's ratings\n",
        "    \"\"\"\n",
        "    assert(len(rater_a) == len(rater_b))\n",
        "    if min_rating is None:\n",
        "        min_rating = min(rater_a + rater_b)\n",
        "    if max_rating is None:\n",
        "        max_rating = max(rater_a + rater_b)\n",
        "    num_ratings = int(max_rating - min_rating + 1)\n",
        "    conf_mat = [[0 for i in range(num_ratings)]\n",
        "                for j in range(num_ratings)]\n",
        "    for a, b in zip(rater_a, rater_b):\n",
        "        conf_mat[a - min_rating][b - min_rating] += 1\n",
        "    return conf_mat\n",
        "\n",
        "\n",
        "def histogram(ratings, min_rating=None, max_rating=None):\n",
        "    \"\"\"\n",
        "    Returns the counts of each type of rating that a rater made\n",
        "    \"\"\"\n",
        "    if min_rating is None:\n",
        "        min_rating = min(ratings)\n",
        "    if max_rating is None:\n",
        "        max_rating = max(ratings)\n",
        "    num_ratings = int(max_rating - min_rating + 1)\n",
        "    hist_ratings = [0 for x in range(num_ratings)]\n",
        "    for r in ratings:\n",
        "        hist_ratings[r - min_rating] += 1\n",
        "    return hist_ratings\n",
        "\n",
        "\n",
        "def quadratic_weighted_kappa(y, y_pred):\n",
        "    \"\"\"\n",
        "    Calculates the quadratic weighted kappa\n",
        "    axquadratic_weighted_kappa calculates the quadratic weighted kappa\n",
        "    value, which is a measure of inter-rater agreement between two raters\n",
        "    that provide discrete numeric ratings.  Potential values range from -1\n",
        "    (representing complete disagreement) to 1 (representing complete\n",
        "    agreement).  A kappa value of 0 is expected if all agreement is due to\n",
        "    chance.\n",
        "    quadratic_weighted_kappa(rater_a, rater_b), where rater_a and rater_b\n",
        "    each correspond to a list of integer ratings.  These lists must have the\n",
        "    same length.\n",
        "    The ratings should be integers, and it is assumed that they contain\n",
        "    the complete range of possible ratings.\n",
        "    quadratic_weighted_kappa(X, min_rating, max_rating), where min_rating\n",
        "    is the minimum possible rating, and max_rating is the maximum possible\n",
        "    rating\n",
        "    \"\"\"\n",
        "    rater_a = y\n",
        "    rater_b = y_pred\n",
        "    min_rating=None\n",
        "    max_rating=None\n",
        "    rater_a = np.array(rater_a, dtype=int)\n",
        "    rater_b = np.array(rater_b, dtype=int)\n",
        "    assert(len(rater_a) == len(rater_b))\n",
        "    if min_rating is None:\n",
        "        min_rating = min(min(rater_a), min(rater_b))\n",
        "    if max_rating is None:\n",
        "        max_rating = max(max(rater_a), max(rater_b))\n",
        "    conf_mat = Cmatrix(rater_a, rater_b,\n",
        "                                min_rating, max_rating)\n",
        "    num_ratings = len(conf_mat)\n",
        "    num_scored_items = float(len(rater_a))\n",
        "\n",
        "    hist_rater_a = histogram(rater_a, min_rating, max_rating)\n",
        "    hist_rater_b = histogram(rater_b, min_rating, max_rating)\n",
        "\n",
        "    numerator = 0.0\n",
        "    denominator = 0.0\n",
        "\n",
        "    for i in range(num_ratings):\n",
        "        for j in range(num_ratings):\n",
        "            expected_count = (hist_rater_a[i] * hist_rater_b[j]\n",
        "                              / num_scored_items)\n",
        "            d = pow(i - j, 2.0) / pow(num_ratings - 1, 2.0)\n",
        "            numerator += d * conf_mat[i][j] / num_scored_items\n",
        "            denominator += d * expected_count / num_scored_items\n",
        "\n",
        "    return (1.0 - numerator / denominator)\n",
        "\n",
        "PADDED_Y_VALUE = -1\n",
        "\n",
        "def ndcg(y_pred, y_true, ats=None, gain_function=lambda x: torch.pow(2, x) - 1, padding_indicator=PADDED_Y_VALUE,\n",
        "         filler_value=1.0):\n",
        "    \"\"\"\n",
        "    Normalized Discounted Cumulative Gain at k.\n",
        "\n",
        "    Compute NDCG at ranks given by ats or at the maximum rank if ats is None.\n",
        "    :param y_pred: predictions from the model, shape [batch_size, slate_length]\n",
        "    :param y_true: ground truth labels, shape [batch_size, slate_length]\n",
        "    :param ats: optional list of ranks for NDCG evaluation, if None, maximum rank is used\n",
        "    :param gain_function: callable, gain function for the ground truth labels, e.g. torch.pow(2, x) - 1\n",
        "    :param padding_indicator: an indicator of the y_true index containing a padded item, e.g. -1\n",
        "    :param filler_value: a filler NDCG value to use when there are no relevant items in listing\n",
        "    :return: NDCG values for each slate and rank passed, shape [batch_size, len(ats)]\n",
        "    \"\"\"\n",
        "    idcg = dcg(y_true, y_true, ats, gain_function, padding_indicator)\n",
        "    ndcg_ = dcg(y_pred, y_true, ats, gain_function, padding_indicator) / idcg\n",
        "    idcg_mask = idcg == 0\n",
        "    ndcg_[idcg_mask] = filler_value  # if idcg == 0 , set ndcg to filler_value\n",
        "\n",
        "    assert (ndcg_ < 0.0).sum() >= 0, \"every ndcg should be non-negative\"\n",
        "\n",
        "    return ndcg_\n",
        "\n",
        "\n",
        "def __apply_mask_and_get_true_sorted_by_preds(y_pred, y_true, padding_indicator=PADDED_Y_VALUE):\n",
        "    mask = y_true == padding_indicator\n",
        "\n",
        "    y_pred[mask] = float('-inf')\n",
        "    y_true[mask] = 0.0\n",
        "\n",
        "    _, indices = y_pred.sort(descending=True, dim=-1)\n",
        "    return torch.gather(y_true, dim=1, index=indices)\n",
        "\n",
        "\n",
        "def dcg(y_pred, y_true, ats=None, gain_function=lambda x: torch.pow(2, x) - 1, padding_indicator=PADDED_Y_VALUE):\n",
        "    \"\"\"\n",
        "    Discounted Cumulative Gain at k.\n",
        "\n",
        "    Compute DCG at ranks given by ats or at the maximum rank if ats is None.\n",
        "    :param y_pred: predictions from the model, shape [batch_size, slate_length]\n",
        "    :param y_true: ground truth labels, shape [batch_size, slate_length]\n",
        "    :param ats: optional list of ranks for DCG evaluation, if None, maximum rank is used\n",
        "    :param gain_function: callable, gain function for the ground truth labels, e.g. torch.pow(2, x) - 1\n",
        "    :param padding_indicator: an indicator of the y_true index containing a padded item, e.g. -1\n",
        "    :return: DCG values for each slate and evaluation position, shape [batch_size, len(ats)]\n",
        "    \"\"\"\n",
        "    y_true = y_true.clone()\n",
        "    y_pred = y_pred.clone()\n",
        "\n",
        "    actual_length = y_true.shape[1]\n",
        "\n",
        "    if ats is None:\n",
        "        ats = [actual_length]\n",
        "    ats = [min(at, actual_length) for at in ats]\n",
        "\n",
        "    true_sorted_by_preds = __apply_mask_and_get_true_sorted_by_preds(y_pred, y_true, padding_indicator)\n",
        "\n",
        "    discounts = (torch.tensor(1) / torch.log2(torch.arange(true_sorted_by_preds.shape[1], dtype=torch.float) + 2.0)).to(\n",
        "        device=true_sorted_by_preds.device)\n",
        "\n",
        "    gains = gain_function(true_sorted_by_preds)\n",
        "\n",
        "    discounted_gains = (gains * discounts)[:, :np.max(ats)]\n",
        "\n",
        "    cum_dcg = torch.cumsum(discounted_gains, dim=1)\n",
        "\n",
        "    ats_tensor = torch.tensor(ats, dtype=torch.long) - torch.tensor(1)\n",
        "\n",
        "    dcg = cum_dcg[:, ats_tensor]\n",
        "\n",
        "    return dcg\n",
        "\n",
        "\n",
        "def mrr(y_pred, y_true, ats=None, padding_indicator=PADDED_Y_VALUE):\n",
        "    \"\"\"\n",
        "    Mean Reciprocal Rank at k.\n",
        "\n",
        "    Compute MRR at ranks given by ats or at the maximum rank if ats is None.\n",
        "    :param y_pred: predictions from the model, shape [batch_size, slate_length]\n",
        "    :param y_true: ground truth labels, shape [batch_size, slate_length]\n",
        "    :param ats: optional list of ranks for MRR evaluation, if None, maximum rank is used\n",
        "    :param padding_indicator: an indicator of the y_true index containing a padded item, e.g. -1\n",
        "    :return: MRR values for each slate and evaluation position, shape [batch_size, len(ats)]\n",
        "    \"\"\"\n",
        "    y_true = y_true.clone()\n",
        "    y_pred = y_pred.clone()\n",
        "\n",
        "    if ats is None:\n",
        "        ats = [y_true.shape[1]]\n",
        "\n",
        "    true_sorted_by_preds = __apply_mask_and_get_true_sorted_by_preds(y_pred, y_true, padding_indicator)\n",
        "\n",
        "    values, indices = torch.max(true_sorted_by_preds, dim=1)\n",
        "    indices = indices.type_as(values).unsqueeze(dim=0).t().expand(len(y_true), len(ats))\n",
        "\n",
        "    ats_rep = torch.tensor(data=ats, device=indices.device, dtype=torch.float32).expand(len(y_true), len(ats))\n",
        "\n",
        "    within_at_mask = (indices < ats_rep).type(torch.float32)\n",
        "\n",
        "    result = torch.tensor(1.0) / (indices + torch.tensor(1.0))\n",
        "\n",
        "    zero_sum_mask = torch.sum(values) == 0.0\n",
        "    result[zero_sum_mask] = 0.0\n",
        "\n",
        "    result = result * within_at_mask\n",
        "\n",
        "    return result\n",
        "\n",
        "\n",
        "def get_logger(filename=OUTPUT_DIR+'train'):\n",
        "    from logging import getLogger, INFO, StreamHandler, FileHandler, Formatter\n",
        "    logger = getLogger(__name__)\n",
        "    logger.setLevel(INFO)\n",
        "    handler1 = StreamHandler()\n",
        "    handler1.setFormatter(Formatter(\"%(message)s\"))\n",
        "    handler2 = FileHandler(filename=f\"{filename}.log\")\n",
        "    handler2.setFormatter(Formatter(\"%(message)s\"))\n",
        "    logger.addHandler(handler1)\n",
        "    logger.addHandler(handler2)\n",
        "    return logger\n",
        "\n",
        "LOGGER = get_logger()\n",
        "\n",
        "\n",
        "def seed_everything(seed=42):\n",
        "    random.seed(seed)\n",
        "    os.environ['PYTHONHASHSEED'] = str(seed)\n",
        "    np.random.seed(seed)\n",
        "    torch.manual_seed(seed)\n",
        "    torch.cuda.manual_seed(seed)\n",
        "    torch.backends.cudnn.deterministic = True\n",
        "    \n",
        "seed_everything(seed=42)"
      ],
      "metadata": {
        "execution": {
          "iopub.status.busy": "2023-05-17T17:13:48.843536Z",
          "iopub.execute_input": "2023-05-17T17:13:48.846577Z",
          "iopub.status.idle": "2023-05-17T17:13:48.900811Z",
          "shell.execute_reply.started": "2023-05-17T17:13:48.846538Z",
          "shell.execute_reply": "2023-05-17T17:13:48.899695Z"
        },
        "trusted": true,
        "id": "_xOtyYF-cD0S"
      },
      "execution_count": 59,
      "outputs": []
    },
    {
      "cell_type": "code",
      "source": [
        "# ====================================================\n",
        "# Data Loading\n",
        "# ====================================================\n",
        "def get_full_text(row):\n",
        "    with open(f\"/content/gdrive/MyDrive/UPSaclay/LLMs/semantic_scholar/parsed_data/{row['pdf_name']}/pdf/{row['pdf_name']}.json\", 'r') as f:\n",
        "        return f.read()\n",
        "train = pd.read_csv(os.path.join(root_data_dir, CFG.input_csv_filename))\n",
        "train = train[train['year']==2018].reset_index(drop=True)\n",
        "train['text'] = train.apply(get_full_text, axis=1)\n",
        "train['log_citationCount'] = train['citationCount'].apply(lambda x: np.log(x+1))\n",
        "\n",
        "print(f\"train.shape: {train.shape}\")\n",
        "display(train.head())"
      ],
      "metadata": {
        "execution": {
          "iopub.status.busy": "2023-05-17T17:13:48.906622Z",
          "iopub.execute_input": "2023-05-17T17:13:48.909762Z",
          "iopub.status.idle": "2023-05-17T17:13:49.799980Z",
          "shell.execute_reply.started": "2023-05-17T17:13:48.909727Z",
          "shell.execute_reply": "2023-05-17T17:13:49.799086Z"
        },
        "trusted": true,
        "id": "vU0mdzIMcD0T",
        "outputId": "810db825-ed50-4700-84c3-6023331688f6",
        "colab": {
          "base_uri": "https://localhost:8080/",
          "height": 722
        }
      },
      "execution_count": 55,
      "outputs": [
        {
          "output_type": "stream",
          "name": "stdout",
          "text": [
            "train.shape: (591, 16)\n"
          ]
        },
        {
          "output_type": "display_data",
          "data": {
            "text/plain": [
              "                        semantic_scholar_id                                              title                                           abstract  year                                            authors  citationCount                                     citationStyles                                      openAccessPdf                                   publicationVenue        publicationTypes                                    s2FieldsOfStudy  influentialCitationCount                  pdf_name                  topic                                               text  log_citationCount\n",
              "0  44cbf4240b017e997a6b3a478798e53f2b50761c  The Brisbane Declaration and Global Action Age...  A decade ago, scientists and practitioners wor...  2018  A. Arthington, A. Bhaduri, S. Bunn, S. Jackson...            231  {'bibtex': \"@['Review']{Arthington2018TheBD,\\n...  https://www.frontiersin.org/articles/10.3389/f...  {'id': 'c0ded351-0e49-473e-816e-23b84c9f8dd3',...                  Review                              Environmental Science                        11   environmental_science16  environmental_science  {\\n    \"authors\": \"Sergi Sabater; Gilles Pinay...           5.446737\n",
              "1  925ece7359af59ae033028e436545fd56279e84b  A Critical Time for Mercury Science to Inform ...  Mercury is a global pollutant released into th...  2018  Celia Y. Chen, C. Driscoll, C. Eagles‐Smith, C...             72  {'bibtex': \"@['JournalArticle']{Chen2018ACT,\\n...  https://dspace.mit.edu/bitstream/1721.1/123488...  {'id': '9efb20cf-7484-450d-8245-12dfbf639d3e',...          JournalArticle  Environmental Science, Medicine, Political Sci...                         2   environmental_science41  environmental_science  {\\n    \"authors\": \"Celia Y Chen; Charles Drisc...           4.290459\n",
              "2  ed89a76714e4e46c5d3fc48b892baca42efe5b3b  The discontinuity of environmental effects mon...  Long-term regional environmental monitoring, c...  2018                     Joshua G. Cronmiller, B. Noble             19  {'bibtex': \"@['Review']{Cronmiller2018TheDO,\\n...  https://tspace.library.utoronto.ca/bitstream/1...  {'id': '2115dc5e-9318-4ae7-b64c-0948fd079390',...                  Review       Environmental Science, Environmental Science                         1   environmental_science48  environmental_science  {\\n    \"authors\": \"Joshua G Cronmiller\",\\n    ...           2.995732\n",
              "3  5ceabacfa0939f948e395d1c99d988bf37c6dd44  Renewable Sources of Plant Biostimulation: Mic...  Plant biostimulants (PBs) attract interest in ...  2018  Pasquale Chiaiese, G. Corrado, G. Colla, M. Ky...            136  {'bibtex': \"@['Review', 'JournalArticle']{Chia...  https://www.frontiersin.org/articles/10.3389/f...  {'id': 'e110cc75-cd00-4b7f-968c-fd70b464a553',...  Review, JournalArticle       Environmental Science, Medicine, Engineering                         5  environmental_science101  environmental_science  {\\n    \"authors\": \"Antonio Ferrante; Alexandro...           4.919981\n",
              "4  cfaa5db0ba59ba0fe628ef858db50995acc9d6e7  Detection and Quantification of Graphene-Famil...  An increase in production of commercial produc...  2018  D. Goodwin, A. Adeleye, L. Sung, K. Ho, R. Bur...            120  {'bibtex': \"@['JournalArticle', 'Review']{Good...  https://europepmc.org/articles/pmc5940015?pdf=...  {'id': '9efb20cf-7484-450d-8245-12dfbf639d3e',...  JournalArticle, Review  Environmental Science, Medicine, Environmental...                         0  environmental_science105  environmental_science  {\\n    \"authors\": \"David G Goodwin; Adeyemi S ...           4.795791"
            ],
            "text/html": [
              "\n",
              "  <div id=\"df-b09d9947-7297-47ce-b841-1d1aca104b4c\">\n",
              "    <div class=\"colab-df-container\">\n",
              "      <div>\n",
              "<style scoped>\n",
              "    .dataframe tbody tr th:only-of-type {\n",
              "        vertical-align: middle;\n",
              "    }\n",
              "\n",
              "    .dataframe tbody tr th {\n",
              "        vertical-align: top;\n",
              "    }\n",
              "\n",
              "    .dataframe thead th {\n",
              "        text-align: right;\n",
              "    }\n",
              "</style>\n",
              "<table border=\"1\" class=\"dataframe\">\n",
              "  <thead>\n",
              "    <tr style=\"text-align: right;\">\n",
              "      <th></th>\n",
              "      <th>semantic_scholar_id</th>\n",
              "      <th>title</th>\n",
              "      <th>abstract</th>\n",
              "      <th>year</th>\n",
              "      <th>authors</th>\n",
              "      <th>citationCount</th>\n",
              "      <th>citationStyles</th>\n",
              "      <th>openAccessPdf</th>\n",
              "      <th>publicationVenue</th>\n",
              "      <th>publicationTypes</th>\n",
              "      <th>s2FieldsOfStudy</th>\n",
              "      <th>influentialCitationCount</th>\n",
              "      <th>pdf_name</th>\n",
              "      <th>topic</th>\n",
              "      <th>text</th>\n",
              "      <th>log_citationCount</th>\n",
              "    </tr>\n",
              "  </thead>\n",
              "  <tbody>\n",
              "    <tr>\n",
              "      <th>0</th>\n",
              "      <td>44cbf4240b017e997a6b3a478798e53f2b50761c</td>\n",
              "      <td>The Brisbane Declaration and Global Action Age...</td>\n",
              "      <td>A decade ago, scientists and practitioners wor...</td>\n",
              "      <td>2018</td>\n",
              "      <td>A. Arthington, A. Bhaduri, S. Bunn, S. Jackson...</td>\n",
              "      <td>231</td>\n",
              "      <td>{'bibtex': \"@['Review']{Arthington2018TheBD,\\n...</td>\n",
              "      <td>https://www.frontiersin.org/articles/10.3389/f...</td>\n",
              "      <td>{'id': 'c0ded351-0e49-473e-816e-23b84c9f8dd3',...</td>\n",
              "      <td>Review</td>\n",
              "      <td>Environmental Science</td>\n",
              "      <td>11</td>\n",
              "      <td>environmental_science16</td>\n",
              "      <td>environmental_science</td>\n",
              "      <td>{\\n    \"authors\": \"Sergi Sabater; Gilles Pinay...</td>\n",
              "      <td>5.446737</td>\n",
              "    </tr>\n",
              "    <tr>\n",
              "      <th>1</th>\n",
              "      <td>925ece7359af59ae033028e436545fd56279e84b</td>\n",
              "      <td>A Critical Time for Mercury Science to Inform ...</td>\n",
              "      <td>Mercury is a global pollutant released into th...</td>\n",
              "      <td>2018</td>\n",
              "      <td>Celia Y. Chen, C. Driscoll, C. Eagles‐Smith, C...</td>\n",
              "      <td>72</td>\n",
              "      <td>{'bibtex': \"@['JournalArticle']{Chen2018ACT,\\n...</td>\n",
              "      <td>https://dspace.mit.edu/bitstream/1721.1/123488...</td>\n",
              "      <td>{'id': '9efb20cf-7484-450d-8245-12dfbf639d3e',...</td>\n",
              "      <td>JournalArticle</td>\n",
              "      <td>Environmental Science, Medicine, Political Sci...</td>\n",
              "      <td>2</td>\n",
              "      <td>environmental_science41</td>\n",
              "      <td>environmental_science</td>\n",
              "      <td>{\\n    \"authors\": \"Celia Y Chen; Charles Drisc...</td>\n",
              "      <td>4.290459</td>\n",
              "    </tr>\n",
              "    <tr>\n",
              "      <th>2</th>\n",
              "      <td>ed89a76714e4e46c5d3fc48b892baca42efe5b3b</td>\n",
              "      <td>The discontinuity of environmental effects mon...</td>\n",
              "      <td>Long-term regional environmental monitoring, c...</td>\n",
              "      <td>2018</td>\n",
              "      <td>Joshua G. Cronmiller, B. Noble</td>\n",
              "      <td>19</td>\n",
              "      <td>{'bibtex': \"@['Review']{Cronmiller2018TheDO,\\n...</td>\n",
              "      <td>https://tspace.library.utoronto.ca/bitstream/1...</td>\n",
              "      <td>{'id': '2115dc5e-9318-4ae7-b64c-0948fd079390',...</td>\n",
              "      <td>Review</td>\n",
              "      <td>Environmental Science, Environmental Science</td>\n",
              "      <td>1</td>\n",
              "      <td>environmental_science48</td>\n",
              "      <td>environmental_science</td>\n",
              "      <td>{\\n    \"authors\": \"Joshua G Cronmiller\",\\n    ...</td>\n",
              "      <td>2.995732</td>\n",
              "    </tr>\n",
              "    <tr>\n",
              "      <th>3</th>\n",
              "      <td>5ceabacfa0939f948e395d1c99d988bf37c6dd44</td>\n",
              "      <td>Renewable Sources of Plant Biostimulation: Mic...</td>\n",
              "      <td>Plant biostimulants (PBs) attract interest in ...</td>\n",
              "      <td>2018</td>\n",
              "      <td>Pasquale Chiaiese, G. Corrado, G. Colla, M. Ky...</td>\n",
              "      <td>136</td>\n",
              "      <td>{'bibtex': \"@['Review', 'JournalArticle']{Chia...</td>\n",
              "      <td>https://www.frontiersin.org/articles/10.3389/f...</td>\n",
              "      <td>{'id': 'e110cc75-cd00-4b7f-968c-fd70b464a553',...</td>\n",
              "      <td>Review, JournalArticle</td>\n",
              "      <td>Environmental Science, Medicine, Engineering</td>\n",
              "      <td>5</td>\n",
              "      <td>environmental_science101</td>\n",
              "      <td>environmental_science</td>\n",
              "      <td>{\\n    \"authors\": \"Antonio Ferrante; Alexandro...</td>\n",
              "      <td>4.919981</td>\n",
              "    </tr>\n",
              "    <tr>\n",
              "      <th>4</th>\n",
              "      <td>cfaa5db0ba59ba0fe628ef858db50995acc9d6e7</td>\n",
              "      <td>Detection and Quantification of Graphene-Famil...</td>\n",
              "      <td>An increase in production of commercial produc...</td>\n",
              "      <td>2018</td>\n",
              "      <td>D. Goodwin, A. Adeleye, L. Sung, K. Ho, R. Bur...</td>\n",
              "      <td>120</td>\n",
              "      <td>{'bibtex': \"@['JournalArticle', 'Review']{Good...</td>\n",
              "      <td>https://europepmc.org/articles/pmc5940015?pdf=...</td>\n",
              "      <td>{'id': '9efb20cf-7484-450d-8245-12dfbf639d3e',...</td>\n",
              "      <td>JournalArticle, Review</td>\n",
              "      <td>Environmental Science, Medicine, Environmental...</td>\n",
              "      <td>0</td>\n",
              "      <td>environmental_science105</td>\n",
              "      <td>environmental_science</td>\n",
              "      <td>{\\n    \"authors\": \"David G Goodwin; Adeyemi S ...</td>\n",
              "      <td>4.795791</td>\n",
              "    </tr>\n",
              "  </tbody>\n",
              "</table>\n",
              "</div>\n",
              "      <button class=\"colab-df-convert\" onclick=\"convertToInteractive('df-b09d9947-7297-47ce-b841-1d1aca104b4c')\"\n",
              "              title=\"Convert this dataframe to an interactive table.\"\n",
              "              style=\"display:none;\">\n",
              "        \n",
              "  <svg xmlns=\"http://www.w3.org/2000/svg\" height=\"24px\"viewBox=\"0 0 24 24\"\n",
              "       width=\"24px\">\n",
              "    <path d=\"M0 0h24v24H0V0z\" fill=\"none\"/>\n",
              "    <path d=\"M18.56 5.44l.94 2.06.94-2.06 2.06-.94-2.06-.94-.94-2.06-.94 2.06-2.06.94zm-11 1L8.5 8.5l.94-2.06 2.06-.94-2.06-.94L8.5 2.5l-.94 2.06-2.06.94zm10 10l.94 2.06.94-2.06 2.06-.94-2.06-.94-.94-2.06-.94 2.06-2.06.94z\"/><path d=\"M17.41 7.96l-1.37-1.37c-.4-.4-.92-.59-1.43-.59-.52 0-1.04.2-1.43.59L10.3 9.45l-7.72 7.72c-.78.78-.78 2.05 0 2.83L4 21.41c.39.39.9.59 1.41.59.51 0 1.02-.2 1.41-.59l7.78-7.78 2.81-2.81c.8-.78.8-2.07 0-2.86zM5.41 20L4 18.59l7.72-7.72 1.47 1.35L5.41 20z\"/>\n",
              "  </svg>\n",
              "      </button>\n",
              "      \n",
              "  <style>\n",
              "    .colab-df-container {\n",
              "      display:flex;\n",
              "      flex-wrap:wrap;\n",
              "      gap: 12px;\n",
              "    }\n",
              "\n",
              "    .colab-df-convert {\n",
              "      background-color: #E8F0FE;\n",
              "      border: none;\n",
              "      border-radius: 50%;\n",
              "      cursor: pointer;\n",
              "      display: none;\n",
              "      fill: #1967D2;\n",
              "      height: 32px;\n",
              "      padding: 0 0 0 0;\n",
              "      width: 32px;\n",
              "    }\n",
              "\n",
              "    .colab-df-convert:hover {\n",
              "      background-color: #E2EBFA;\n",
              "      box-shadow: 0px 1px 2px rgba(60, 64, 67, 0.3), 0px 1px 3px 1px rgba(60, 64, 67, 0.15);\n",
              "      fill: #174EA6;\n",
              "    }\n",
              "\n",
              "    [theme=dark] .colab-df-convert {\n",
              "      background-color: #3B4455;\n",
              "      fill: #D2E3FC;\n",
              "    }\n",
              "\n",
              "    [theme=dark] .colab-df-convert:hover {\n",
              "      background-color: #434B5C;\n",
              "      box-shadow: 0px 1px 3px 1px rgba(0, 0, 0, 0.15);\n",
              "      filter: drop-shadow(0px 1px 2px rgba(0, 0, 0, 0.3));\n",
              "      fill: #FFFFFF;\n",
              "    }\n",
              "  </style>\n",
              "\n",
              "      <script>\n",
              "        const buttonEl =\n",
              "          document.querySelector('#df-b09d9947-7297-47ce-b841-1d1aca104b4c button.colab-df-convert');\n",
              "        buttonEl.style.display =\n",
              "          google.colab.kernel.accessAllowed ? 'block' : 'none';\n",
              "\n",
              "        async function convertToInteractive(key) {\n",
              "          const element = document.querySelector('#df-b09d9947-7297-47ce-b841-1d1aca104b4c');\n",
              "          const dataTable =\n",
              "            await google.colab.kernel.invokeFunction('convertToInteractive',\n",
              "                                                     [key], {});\n",
              "          if (!dataTable) return;\n",
              "\n",
              "          const docLinkHtml = 'Like what you see? Visit the ' +\n",
              "            '<a target=\"_blank\" href=https://colab.research.google.com/notebooks/data_table.ipynb>data table notebook</a>'\n",
              "            + ' to learn more about interactive tables.';\n",
              "          element.innerHTML = '';\n",
              "          dataTable['output_type'] = 'display_data';\n",
              "          await google.colab.output.renderOutput(dataTable, element);\n",
              "          const docLink = document.createElement('div');\n",
              "          docLink.innerHTML = docLinkHtml;\n",
              "          element.appendChild(docLink);\n",
              "        }\n",
              "      </script>\n",
              "    </div>\n",
              "  </div>\n",
              "  "
            ]
          },
          "metadata": {}
        }
      ]
    },
    {
      "cell_type": "code",
      "source": [
        "train.to_csv('/content/gdrive/MyDrive/UPSaclay/LLMs/semantic_scholar/full_text_semantic_scholar.csv', index=False)"
      ],
      "metadata": {
        "id": "mhpRzKcQB66B"
      },
      "execution_count": null,
      "outputs": []
    },
    {
      "cell_type": "code",
      "source": [
        "# ====================================================\n",
        "# CV split\n",
        "# ====================================================\n",
        "if len(CFG.target_cols) >= 2:\n",
        "    Fold = MultilabelStratifiedKFold(n_splits=CFG.n_fold, shuffle=True, random_state=CFG.seed)\n",
        "    for n, (train_index, val_index) in enumerate(Fold.split(train, train[CFG.target_cols])):\n",
        "        train.loc[val_index, 'fold'] = int(n)\n",
        "    train['fold'] = train['fold'].astype(int)\n",
        "else:\n",
        "    train['grp'] = pd.cut(train[CFG.target_cols[0]], 10, labels=False)\n",
        "    Fold = StratifiedKFold(n_splits=CFG.n_fold, shuffle=True, random_state=CFG.seed)\n",
        "    train['fold']=-1\n",
        "    for n, (train_index, val_index) in enumerate(Fold.split(train['grp'], train['grp'])):\n",
        "        train.loc[val_index, 'fold'] = int(n)      \n",
        "    train['fold'] = train['fold'].astype(int)\n",
        "    \n",
        "# train = train.groupby('fold').sample(n=100, random_state=0).reset_index(drop=True)\n",
        "display(train.groupby('fold').size())\n",
        "\n",
        "# Histogram of the target value\n",
        "sns.histplot(train[CFG.target_cols])\n",
        "plt.show()"
      ],
      "metadata": {
        "execution": {
          "iopub.status.busy": "2023-05-17T17:13:49.804138Z",
          "iopub.execute_input": "2023-05-17T17:13:49.807965Z",
          "iopub.status.idle": "2023-05-17T17:13:50.280046Z",
          "shell.execute_reply.started": "2023-05-17T17:13:49.807930Z",
          "shell.execute_reply": "2023-05-17T17:13:50.278905Z"
        },
        "trusted": true,
        "id": "X88HL64wcD0T",
        "outputId": "e0833bc1-3bd9-4cc7-ed31-290c211238a5",
        "colab": {
          "base_uri": "https://localhost:8080/",
          "height": 552
        }
      },
      "execution_count": 60,
      "outputs": [
        {
          "output_type": "display_data",
          "data": {
            "text/plain": [
              "fold\n",
              "0    148\n",
              "1    148\n",
              "2    148\n",
              "3    147\n",
              "dtype: int64"
            ]
          },
          "metadata": {}
        },
        {
          "output_type": "display_data",
          "data": {
            "text/plain": [
              "<Figure size 640x480 with 1 Axes>"
            ],
            "image/png": "[encoded data removed]"
          },
          "metadata": {}
        }
      ]
    },
    {
      "cell_type": "code",
      "source": [
        "if CFG.debug:\n",
        "    train = train.groupby('fold').sample(n=3, random_state=0).reset_index(drop=True)\n",
        "    display(train.groupby('fold').size())"
      ],
      "metadata": {
        "execution": {
          "iopub.status.busy": "2023-05-17T17:13:50.285646Z",
          "iopub.execute_input": "2023-05-17T17:13:50.288796Z",
          "iopub.status.idle": "2023-05-17T17:13:50.297088Z",
          "shell.execute_reply.started": "2023-05-17T17:13:50.288758Z",
          "shell.execute_reply": "2023-05-17T17:13:50.295894Z"
        },
        "trusted": true,
        "id": "zomCHpdQcD0T"
      },
      "execution_count": 61,
      "outputs": []
    },
    {
      "cell_type": "code",
      "source": [
        "# ===== Tokenizers ===== \n",
        "\n",
        "if any(k in CFG.model_name_or_path for k in (\"gpt\", \"opt\", \"bloom\")):\n",
        "    padding_side = \"left\"\n",
        "else:\n",
        "    padding_side = \"right\"\n",
        "\n",
        "tokenizer = AutoTokenizer.from_pretrained(CFG.model_name_or_path, padding_side=padding_side)\n",
        "if getattr(tokenizer, \"pad_token_id\") is None:\n",
        "    tokenizer.pad_token_id = tokenizer.eos_token_id\n",
        "tokenizer.save_pretrained(OUTPUT_DIR+'tokenizer/')\n",
        "CFG.tokenizer = tokenizer"
      ],
      "metadata": {
        "execution": {
          "iopub.status.busy": "2023-05-17T17:13:50.299019Z",
          "iopub.execute_input": "2023-05-17T17:13:50.300605Z",
          "iopub.status.idle": "2023-05-17T17:13:51.884429Z",
          "shell.execute_reply.started": "2023-05-17T17:13:50.300565Z",
          "shell.execute_reply": "2023-05-17T17:13:51.879924Z"
        },
        "trusted": true,
        "id": "6qoVMjmVcD0T",
        "colab": {
          "base_uri": "https://localhost:8080/"
        },
        "outputId": "230c71bd-7783-485b-b06c-f0e801f91f4e"
      },
      "execution_count": 62,
      "outputs": [
        {
          "output_type": "stream",
          "name": "stderr",
          "text": [
            "Special tokens have been added in the vocabulary, make sure the associated word embeddings are fine-tuned or trained.\n",
            "Special tokens have been added in the vocabulary, make sure the associated word embeddings are fine-tuned or trained.\n"
          ]
        }
      ]
    },
    {
      "cell_type": "code",
      "source": [
        "# ====================================================\n",
        "# Define max_len\n",
        "# ====================================================\n",
        "lengths = []\n",
        "tk0 = tqdm(train['text'].fillna(\"\").values, total=len(train))\n",
        "for text in tk0:\n",
        "    length = len(tokenizer(text, add_special_tokens=False)['input_ids'])\n",
        "    lengths.append(length)\n",
        "# CFG.max_len = max(lengths) + 3 # cls & sep & sep\n",
        "\n",
        "sns.histplot(lengths)\n",
        "plt.show()\n",
        "LOGGER.info(f\"maximum sequence length: {max(lengths) + 3}\")"
      ],
      "metadata": {
        "execution": {
          "iopub.status.busy": "2023-05-17T17:13:51.885933Z",
          "iopub.execute_input": "2023-05-17T17:13:51.886273Z",
          "iopub.status.idle": "2023-05-17T17:13:54.901220Z",
          "shell.execute_reply.started": "2023-05-17T17:13:51.886237Z",
          "shell.execute_reply": "2023-05-17T17:13:54.900280Z"
        },
        "trusted": true,
        "id": "-7XPQQE1cD0T",
        "outputId": "cd3e8740-c5d6-46bb-a50f-9ba7ba6ab17e",
        "colab": {
          "referenced_widgets": [
            "5dab7e9e16b746ddaeffc712bcb78f98",
            "2daeea34f223424dae5d84dc817be920",
            "918e839ef26b48939bbff96a9e0500ef",
            "73c13dc05b4543abb9901b550111c7fb",
            "b608bbfb6e494e2cb6b5dcd2d8290156",
            "32adb20e9f89476183306d6c49e9fd7f",
            "4f54135e719446b49f50a007c588496b",
            "497f3a2c66e348daa5b627cbea3be13f",
            "ccec6d19a6364f258c554baf7a42cae9",
            "cb20495d3bab490bae3d8980deccfb33",
            "6811c1d3b2834599930e207769413c38"
          ],
          "base_uri": "https://localhost:8080/",
          "height": 548
        }
      },
      "execution_count": 63,
      "outputs": [
        {
          "output_type": "display_data",
          "data": {
            "text/plain": [
              "  0%|          | 0/591 [00:00<?, ?it/s]"
            ],
            "application/vnd.jupyter.widget-view+json": {
              "version_major": 2,
              "version_minor": 0,
              "model_id": "5dab7e9e16b746ddaeffc712bcb78f98"
            }
          },
          "metadata": {}
        },
        {
          "output_type": "display_data",
          "data": {
            "text/plain": [
              "<Figure size 640x480 with 1 Axes>"
            ],
            "image/png": "[encoded data removed]"
          },
          "metadata": {}
        },
        {
          "output_type": "stream",
          "name": "stderr",
          "text": [
            "maximum sequence length: 327347\n",
            "maximum sequence length: 327347\n",
            "maximum sequence length: 327347\n",
            "INFO:__main__:maximum sequence length: 327347\n"
          ]
        }
      ]
    },
    {
      "cell_type": "code",
      "source": [
        "print(\"Number of samples:\")\n",
        "print(np.array(lengths).shape[0])\n",
        "print(f\"Number of samples with token length > {CFG.max_len}:\")\n",
        "print((np.array(lengths) > CFG.max_len).sum())\n",
        "print(f\"Percentage of samples with token length > {CFG.max_len}:\")\n",
        "print((np.array(lengths) > CFG.max_len).sum()*100/np.array(lengths).shape[0], '%')"
      ],
      "metadata": {
        "execution": {
          "iopub.status.busy": "2023-05-17T17:13:54.905805Z",
          "iopub.execute_input": "2023-05-17T17:13:54.906122Z",
          "iopub.status.idle": "2023-05-17T17:13:54.926030Z",
          "shell.execute_reply.started": "2023-05-17T17:13:54.906092Z",
          "shell.execute_reply": "2023-05-17T17:13:54.925184Z"
        },
        "trusted": true,
        "id": "Z07IbqFPcD0U",
        "outputId": "9d3a0a65-70f0-4805-a9e1-ff6135a85756",
        "colab": {
          "base_uri": "https://localhost:8080/"
        }
      },
      "execution_count": 64,
      "outputs": [
        {
          "output_type": "stream",
          "name": "stdout",
          "text": [
            "Number of samples:\n",
            "591\n",
            "Number of samples with token length > 3072:\n",
            "563\n",
            "Percentage of samples with token length > 3072:\n",
            "95.26226734348562 %\n"
          ]
        }
      ]
    },
    {
      "cell_type": "markdown",
      "source": [
        "Because there is little to no samples that exceeds the current `max_len`, we will use the current `max_len`"
      ],
      "metadata": {
        "id": "ethDIPYucD0U"
      }
    },
    {
      "cell_type": "code",
      "source": [
        "# ====================================================\n",
        "# Dataset\n",
        "# ====================================================\n",
        "def prepare_input(cfg, text):\n",
        "    inputs = cfg.tokenizer.encode_plus(\n",
        "        text, \n",
        "        return_tensors=None, \n",
        "        add_special_tokens=True, \n",
        "        max_length=CFG.max_len,\n",
        "        pad_to_max_length=True,\n",
        "        truncation=True\n",
        "    )\n",
        "    for k, v in inputs.items():\n",
        "        inputs[k] = torch.tensor(v, dtype=torch.long)\n",
        "    return inputs\n",
        "\n",
        "\n",
        "class TrainDataset(Dataset):\n",
        "    def __init__(self, cfg, df):\n",
        "        self.cfg = cfg\n",
        "        self.texts = df['text'].values\n",
        "        self.labels = df[cfg.target_cols].values\n",
        "\n",
        "    def __len__(self):\n",
        "        return len(self.texts)\n",
        "\n",
        "    def __getitem__(self, item):\n",
        "        inputs = prepare_input(self.cfg, self.texts[item])\n",
        "        label = torch.tensor(self.labels[item], dtype=torch.float)\n",
        "        return inputs, label\n",
        "    \n",
        "\n",
        "def collate(inputs):\n",
        "    mask_len = int(inputs[\"attention_mask\"].sum(axis=1).max())\n",
        "    for k, v in inputs.items():\n",
        "        inputs[k] = inputs[k][:,:mask_len]\n",
        "    return inputs"
      ],
      "metadata": {
        "execution": {
          "iopub.status.busy": "2023-05-17T17:13:54.927540Z",
          "iopub.execute_input": "2023-05-17T17:13:54.927897Z",
          "iopub.status.idle": "2023-05-17T17:13:54.938178Z",
          "shell.execute_reply.started": "2023-05-17T17:13:54.927865Z",
          "shell.execute_reply": "2023-05-17T17:13:54.937114Z"
        },
        "trusted": true,
        "id": "J3ovDJ20cD0U"
      },
      "execution_count": 65,
      "outputs": []
    },
    {
      "cell_type": "markdown",
      "source": [
        "## Model, metrics and loss"
      ],
      "metadata": {
        "id": "RXCWBAtVcD0U"
      }
    },
    {
      "cell_type": "code",
      "source": [
        "# ====================================================\n",
        "# Model\n",
        "# ====================================================\n",
        "class MeanPooling(nn.Module):\n",
        "    def __init__(self):\n",
        "        super(MeanPooling, self).__init__()\n",
        "        \n",
        "    def forward(self, last_hidden_state, attention_mask):\n",
        "        input_mask_expanded = attention_mask.unsqueeze(-1).expand(last_hidden_state.size()).float()\n",
        "        sum_embeddings = torch.sum(last_hidden_state * input_mask_expanded, 1)\n",
        "        sum_mask = input_mask_expanded.sum(1)\n",
        "        sum_mask = torch.clamp(sum_mask, min=1e-9)\n",
        "        mean_embeddings = sum_embeddings / sum_mask\n",
        "        return mean_embeddings\n",
        "    \n",
        "\n",
        "class CustomModel(nn.Module):\n",
        "    def __init__(self, cfg, config_path=None, pretrained=False):\n",
        "        super().__init__()\n",
        "        self.cfg = cfg\n",
        "        if config_path is None:\n",
        "            self.config = AutoConfig.from_pretrained(cfg.model, output_hidden_states=True)\n",
        "            LOGGER.info(self.config)\n",
        "        else:\n",
        "            self.config = torch.load(config_path)\n",
        "        if pretrained:\n",
        "            self.model = AutoModel.from_pretrained(cfg.model, config=self.config)\n",
        "        else:\n",
        "            self.model = AutoModel(self.config)\n",
        "\n",
        "\n",
        "\n",
        "\n",
        "        if self.cfg.gradient_checkpointing:\n",
        "            self.model.gradient_checkpointing_enable()\n",
        "        self.pool = MeanPooling()\n",
        "        self.fc = nn.Linear(self.config.hidden_size, len(CFG.target_cols))\n",
        "        self._init_weights(self.fc)\n",
        "        \n",
        "    def _init_weights(self, module):\n",
        "        if isinstance(module, nn.Linear):\n",
        "            module.weight.data.normal_(mean=0.0, std=self.config.initializer_range)\n",
        "            if module.bias is not None:\n",
        "                module.bias.data.zero_()\n",
        "        elif isinstance(module, nn.Embedding):\n",
        "            module.weight.data.normal_(mean=0.0, std=self.config.initializer_range)\n",
        "            if module.padding_idx is not None:\n",
        "                module.weight.data[module.padding_idx].zero_()\n",
        "        elif isinstance(module, nn.LayerNorm):\n",
        "            module.bias.data.zero_()\n",
        "            module.weight.data.fill_(1.0)\n",
        "        \n",
        "    def feature(self, inputs):\n",
        "        outputs = self.model(**inputs)\n",
        "        last_hidden_states = outputs[0]\n",
        "        feature = self.pool(last_hidden_states, inputs['attention_mask'])\n",
        "        return feature\n",
        "\n",
        "    def forward(self, inputs):\n",
        "        feature = self.feature(inputs)\n",
        "        output = self.fc(feature)\n",
        "        return output"
      ],
      "metadata": {
        "execution": {
          "iopub.status.busy": "2023-05-17T17:13:54.943895Z",
          "iopub.execute_input": "2023-05-17T17:13:54.944785Z",
          "iopub.status.idle": "2023-05-17T17:13:54.960185Z",
          "shell.execute_reply.started": "2023-05-17T17:13:54.944752Z",
          "shell.execute_reply": "2023-05-17T17:13:54.959081Z"
        },
        "trusted": true,
        "id": "Fsm8ly_PcD0U"
      },
      "execution_count": 66,
      "outputs": []
    },
    {
      "cell_type": "code",
      "source": [
        "# ====================================================\n",
        "# Evaluation metric\n",
        "# ====================================================\n",
        "class QuadraticKappaMetric(nn.Module):\n",
        "    def __init__(self, weights=None):\n",
        "        super().__init__()\n",
        "        self.weights = torch.tensor(weights)\n",
        "\n",
        "    def get_score(self, y_trues, y_preds):\n",
        "        print(y_trues.shape, y_preds.shape, self.weights.shape)\n",
        "        if len(y_trues.shape)==1 or y_trues.shape[1]==1:\n",
        "            return quadratic_weighted_kappa(y_trues.reshape(-1), y_preds.reshape(-1))\n",
        "        else:\n",
        "            assert self.weights.shape[0] == y_trues.shape[1]\n",
        "            score = 0\n",
        "            for i, w in enumerate(self.weights):\n",
        "                score += w * quadratic_weighted_kappa(y_trues[:,i], y_preds[:,i])\n",
        "            return score\n",
        "    \n",
        "    def is_left_score_better(self, left_score, right_score):\n",
        "        return left_score > right_score\n",
        "    \n",
        "class KendallTauMetric(nn.Module):\n",
        "    def __init__(self, weights=None):\n",
        "        super().__init__()\n",
        "        self.weights = torch.tensor(weights)\n",
        "\n",
        "    def get_score(self, y_trues, y_preds):\n",
        "        if len(y_trues.shape)==1 or y_trues.shape[1]==1:\n",
        "            return kendalltau(y_trues.reshape(-1), y_preds.reshape(-1)).correlation\n",
        "        else:\n",
        "            assert self.weights.shape[0] == y_trues.shape[1]\n",
        "            score = 0\n",
        "            for i, w in enumerate(self.weights):\n",
        "                score += w * kendalltau(y_trues[:,i], y_preds[:,i]).correlation\n",
        "            return score\n",
        "    \n",
        "    def is_left_score_better(self, left_score, right_score):\n",
        "        return left_score > right_score\n",
        "    \n",
        "MODEL_EVALUATION_FUNCTION = KendallTauMetric(weights=[1.0])"
      ],
      "metadata": {
        "execution": {
          "iopub.status.busy": "2023-05-17T17:13:54.961647Z",
          "iopub.execute_input": "2023-05-17T17:13:54.962033Z",
          "iopub.status.idle": "2023-05-17T17:13:54.977363Z",
          "shell.execute_reply.started": "2023-05-17T17:13:54.962000Z",
          "shell.execute_reply": "2023-05-17T17:13:54.976461Z"
        },
        "trusted": true,
        "id": "390chy1-cD0U"
      },
      "execution_count": 67,
      "outputs": []
    },
    {
      "cell_type": "code",
      "source": [
        "# ====================================================\n",
        "# Loss\n",
        "# ====================================================\n",
        "class RMSELoss(nn.Module):\n",
        "    def __init__(self, reduction='mean', eps=1e-9, weights = None):\n",
        "        super().__init__()\n",
        "        self.mse = nn.MSELoss(reduction='none')\n",
        "        self.reduction = reduction\n",
        "        self.eps = eps\n",
        "        self.weights = torch.tensor(weights).to(device)\n",
        "\n",
        "    def forward(self, y_pred, y_true):\n",
        "        loss = torch.sqrt(self.mse(y_pred, y_true) + self.eps)\n",
        "        if self.reduction == 'none':\n",
        "            loss = loss\n",
        "        elif self.reduction == 'sum':\n",
        "            loss = loss.sum()\n",
        "        elif self.reduction == 'mean':\n",
        "            loss = loss.mean()\n",
        "        elif self.reduction == 'weighted':\n",
        "            assert self.weights.shape[0] == loss.shape[1]\n",
        "            loss = (loss * self.weights.reshape(1, self.weights.shape[0])).sum(dim=1).mean()\n",
        "        return loss\n",
        "    \n",
        "    def is_left_score_better(self, left_score, right_score):\n",
        "        return left_score > right_score\n",
        "    \n",
        "MODEL_LOSS_FUNCTION = RMSELoss(reduction=\"weighted\", weights=[1.0])"
      ],
      "metadata": {
        "execution": {
          "iopub.status.busy": "2023-05-17T17:13:54.979046Z",
          "iopub.execute_input": "2023-05-17T17:13:54.979603Z",
          "iopub.status.idle": "2023-05-17T17:13:54.991160Z",
          "shell.execute_reply.started": "2023-05-17T17:13:54.979563Z",
          "shell.execute_reply": "2023-05-17T17:13:54.989302Z"
        },
        "trusted": true,
        "id": "7_CbkKmIcD0V"
      },
      "execution_count": 68,
      "outputs": []
    },
    {
      "cell_type": "code",
      "source": [
        "# ====================================================\n",
        "# Helper functions\n",
        "# ====================================================\n",
        "class AverageMeter(object):\n",
        "    \"\"\"Computes and stores the average and current value\"\"\"\n",
        "    def __init__(self):\n",
        "        self.reset()\n",
        "\n",
        "    def reset(self):\n",
        "        self.val = 0\n",
        "        self.avg = 0\n",
        "        self.sum = 0\n",
        "        self.count = 0\n",
        "\n",
        "    def update(self, val, n=1):\n",
        "        self.val = val\n",
        "        self.sum += val * n\n",
        "        self.count += n\n",
        "        self.avg = self.sum / self.count\n",
        "\n",
        "\n",
        "def asMinutes(s):\n",
        "    m = math.floor(s / 60)\n",
        "    s -= m * 60\n",
        "    return '%dm %ds' % (m, s)\n",
        "\n",
        "\n",
        "def timeSince(since, percent):\n",
        "    now = time.time()\n",
        "    s = now - since\n",
        "    es = s / (percent)\n",
        "    rs = es - s\n",
        "    return '%s (remain %s)' % (asMinutes(s), asMinutes(rs))\n",
        "\n",
        "\n",
        "def train_fn(fold, train_loader, model, criterion, optimizer, epoch, scheduler, device):\n",
        "    model.train()\n",
        "    scaler = torch.cuda.amp.GradScaler(enabled=CFG.apex)\n",
        "    losses = AverageMeter()\n",
        "    start = end = time.time()\n",
        "    global_step = 0\n",
        "    for step, (inputs, labels) in enumerate(train_loader):\n",
        "        inputs = collate(inputs)\n",
        "        for k, v in inputs.items():\n",
        "            inputs[k] = v.to(device)\n",
        "        labels = labels.to(device)\n",
        "        batch_size = labels.size(0)\n",
        "        with torch.cuda.amp.autocast(enabled=CFG.apex):\n",
        "            y_preds = model(**inputs).logits\n",
        "            loss = criterion(y_preds, labels)\n",
        "        if CFG.gradient_accumulation_steps > 1:\n",
        "            loss = loss / CFG.gradient_accumulation_steps\n",
        "        losses.update(loss.item(), batch_size)\n",
        "        scaler.scale(loss).backward()\n",
        "        grad_norm = torch.nn.utils.clip_grad_norm_(model.parameters(), CFG.max_grad_norm)\n",
        "        if (step + 1) % CFG.gradient_accumulation_steps == 0:\n",
        "            scaler.step(optimizer)\n",
        "            scaler.update()\n",
        "            optimizer.zero_grad()\n",
        "            global_step += 1\n",
        "            if CFG.batch_scheduler:\n",
        "                scheduler.step()\n",
        "        end = time.time()\n",
        "        if step % CFG.print_freq == 0 or step == (len(train_loader)-1):\n",
        "            print('Epoch: [{0}][{1}/{2}] '\n",
        "                  'Elapsed {remain:s} '\n",
        "                  'Loss: {loss.val:.4f}({loss.avg:.4f}) '\n",
        "                  'Grad: {grad_norm:.4f}  '\n",
        "                  'LR: {lr:.8f}  '\n",
        "                  .format(epoch+1, step, len(train_loader), \n",
        "                          remain=timeSince(start, float(step+1)/len(train_loader)),\n",
        "                          loss=losses,\n",
        "                          grad_norm=grad_norm,\n",
        "                          lr=scheduler.get_lr()[0]))\n",
        "        if CFG.wandb:\n",
        "            wandb.log({f\"[fold{fold}] loss\": losses.val,\n",
        "                       f\"[fold{fold}] lr\": scheduler.get_lr()[0]})\n",
        "    return losses.avg\n",
        "\n",
        "\n",
        "def valid_fn(valid_loader, model, criterion, device):\n",
        "    losses = AverageMeter()\n",
        "    model.eval()\n",
        "    preds = []\n",
        "    start = end = time.time()\n",
        "    for step, (inputs, labels) in enumerate(valid_loader):\n",
        "        inputs = collate(inputs)\n",
        "        for k, v in inputs.items():\n",
        "            inputs[k] = v.to(device)\n",
        "        labels = labels.to(device)\n",
        "        batch_size = labels.size(0)\n",
        "        with torch.no_grad():\n",
        "            y_preds = model(**inputs).logits\n",
        "            loss = criterion(y_preds, labels)\n",
        "        if CFG.gradient_accumulation_steps > 1:\n",
        "            loss = loss / CFG.gradient_accumulation_steps\n",
        "        losses.update(loss.item(), batch_size)\n",
        "        preds.append(y_preds.detach().to('cpu').numpy())\n",
        "        end = time.time()\n",
        "        if step % CFG.print_freq == 0 or step == (len(valid_loader)-1):\n",
        "            print('EVAL: [{0}/{1}] '\n",
        "                  'Elapsed {remain:s} '\n",
        "                  'Loss: {loss.val:.4f}({loss.avg:.4f}) '\n",
        "                  .format(step, len(valid_loader),\n",
        "                          loss=losses,\n",
        "                          remain=timeSince(start, float(step+1)/len(valid_loader))))\n",
        "    preds = np.concatenate(preds)\n",
        "    return losses.avg, preds\n"
      ],
      "metadata": {
        "execution": {
          "iopub.status.busy": "2023-05-17T17:13:54.992562Z",
          "iopub.execute_input": "2023-05-17T17:13:54.992976Z",
          "iopub.status.idle": "2023-05-17T17:13:55.018420Z",
          "shell.execute_reply.started": "2023-05-17T17:13:54.992940Z",
          "shell.execute_reply": "2023-05-17T17:13:55.017659Z"
        },
        "trusted": true,
        "id": "nBul7CKacD0V"
      },
      "execution_count": 69,
      "outputs": []
    },
    {
      "cell_type": "code",
      "source": [
        "# ====================================================\n",
        "# train loop\n",
        "# ====================================================\n",
        "def train_loop(folds, fold):\n",
        "    \n",
        "    LOGGER.info(f\"========== fold: {fold} training ==========\")\n",
        "\n",
        "    # ====================================================\n",
        "    # loader\n",
        "    # ====================================================\n",
        "    train_folds = folds[folds['fold'] != fold].reset_index(drop=True)\n",
        "    valid_folds = folds[folds['fold'] == fold].reset_index(drop=True)\n",
        "    valid_labels = valid_folds[CFG.target_cols].values\n",
        "    \n",
        "    train_dataset = TrainDataset(CFG, train_folds)\n",
        "    valid_dataset = TrainDataset(CFG, valid_folds)\n",
        "\n",
        "    train_loader = DataLoader(train_dataset,\n",
        "                              batch_size=CFG.batch_size,\n",
        "                              shuffle=True,\n",
        "                              num_workers=CFG.num_workers, pin_memory=True, drop_last=True)\n",
        "    valid_loader = DataLoader(valid_dataset,\n",
        "                              batch_size=CFG.batch_size * 2,\n",
        "                              shuffle=False,\n",
        "                              num_workers=CFG.num_workers, pin_memory=True, drop_last=False)\n",
        "\n",
        "    # ====================================================\n",
        "    # model & optimizer\n",
        "    # ====================================================\n",
        "    # model = CustomModel(CFG, config_path=None, pretrained=True)\n",
        "    peft_type = PeftType.P_TUNING\n",
        "    peft_config = PromptEncoderConfig(task_type=\"SEQ_CLS\", num_virtual_tokens=20, encoder_hidden_size=128, inference_mode=False)\n",
        "    model = AutoModelForSequenceClassification.from_pretrained(CFG.fbprize_base_model_name_or_path, return_dict=True, num_labels=len(CFG.target_cols), problem_type = \"regression\")\n",
        "    model = get_peft_model(model, peft_config)\n",
        "\n",
        "    # torch.save(model.config, OUTPUT_DIR+'config.pth')\n",
        "    model.to(device)\n",
        "    \n",
        "    # def get_optimizer_params(model, encoder_lr, decoder_lr, weight_decay=0.0):\n",
        "    #     param_optimizer = list(model.named_parameters())\n",
        "    #     no_decay = [\"bias\", \"LayerNorm.bias\", \"LayerNorm.weight\"]\n",
        "    #     optimizer_parameters = [\n",
        "    #         {'params': [p for n, p in model.named_parameters() if not any(nd in n for nd in no_decay)],\n",
        "    #          'lr': encoder_lr, 'weight_decay': weight_decay},\n",
        "    #         {'params': [p for n, p in model.named_parameters() if any(nd in n for nd in no_decay)],\n",
        "    #          'lr': encoder_lr, 'weight_decay': 0.0},\n",
        "    #         {'params': [p for n, p in model.named_parameters() if \"model\" not in n],\n",
        "    #          'lr': decoder_lr, 'weight_decay': 0.0}\n",
        "    #     ]\n",
        "    #     return optimizer_parameters\n",
        "\n",
        "    # optimizer_parameters = get_optimizer_params(model,\n",
        "    #                                             encoder_lr=CFG.encoder_lr, \n",
        "    #                                             decoder_lr=CFG.decoder_lr,\n",
        "    #                                             weight_decay=CFG.weight_decay)\n",
        "    optimizer = AdamW(model.parameters(), lr=CFG.encoder_lr, eps=CFG.eps, betas=CFG.betas)\n",
        "    \n",
        "    # ====================================================\n",
        "    # scheduler\n",
        "    # ====================================================\n",
        "    def get_scheduler(cfg, optimizer, num_train_steps):\n",
        "        if cfg.scheduler == 'linear':\n",
        "            scheduler = get_linear_schedule_with_warmup(\n",
        "                optimizer, num_warmup_steps=cfg.num_warmup_steps, num_training_steps=num_train_steps\n",
        "            )\n",
        "        elif cfg.scheduler == 'cosine':\n",
        "            scheduler = get_cosine_schedule_with_warmup(\n",
        "                optimizer, num_warmup_steps=cfg.num_warmup_steps, num_training_steps=num_train_steps, num_cycles=cfg.num_cycles\n",
        "            )\n",
        "        return scheduler\n",
        "    \n",
        "    num_train_steps = int(len(train_folds) / CFG.batch_size * CFG.epochs)\n",
        "    scheduler = get_scheduler(CFG, optimizer, num_train_steps)\n",
        "\n",
        "    # ====================================================\n",
        "    # loop\n",
        "    # ====================================================\n",
        "    criterion = MODEL_LOSS_FUNCTION\n",
        "    \n",
        "    best_score = -1\n",
        "\n",
        "    for epoch in range(CFG.epochs):\n",
        "\n",
        "        start_time = time.time()\n",
        "        \n",
        "        # train\n",
        "        avg_loss = train_fn(fold, train_loader, model, criterion, optimizer, epoch, scheduler, device)\n",
        "\n",
        "        # eval\n",
        "        avg_val_loss, predictions = valid_fn(valid_loader, model, criterion, device)\n",
        "\n",
        "        # scoring\n",
        "        score = MODEL_EVALUATION_FUNCTION.get_score(valid_labels, predictions)\n",
        "\n",
        "        elapsed = time.time() - start_time\n",
        "\n",
        "        LOGGER.info(f'Epoch {epoch+1} - avg_train_loss: {avg_loss:.4f}  avg_val_loss: {avg_val_loss:.4f}  time: {elapsed:.0f}s')\n",
        "        LOGGER.info(f'Epoch {epoch+1} - score: {score:.4f}')\n",
        "        if CFG.wandb:\n",
        "            wandb.log({f\"[fold{fold}] epoch\": epoch+1, \n",
        "                       f\"[fold{fold}] avg_train_loss\": avg_loss, \n",
        "                       f\"[fold{fold}] avg_val_loss\": avg_val_loss,\n",
        "                       f\"[fold{fold}] score\": score})\n",
        "        \n",
        "        if MODEL_EVALUATION_FUNCTION.is_left_score_better(score, best_score):\n",
        "            best_score = score\n",
        "            LOGGER.info(f'Epoch {epoch+1} - Save Best Score: {best_score:.4f} Model')\n",
        "            torch.save({'model': model.state_dict()}, OUTPUT_DIR+f\"{CFG.model_name_or_path.replace('/', '-')}_fold{fold}_best.pth\")\n",
        "            torch.save({'predictions': predictions},  OUTPUT_DIR+f\"{CFG.model_name_or_path.replace('/', '-')}_fold{fold}_best_predictions.pth\")\n",
        "\n",
        "    predictions = torch.load(OUTPUT_DIR+f\"{CFG.model_name_or_path.replace('/', '-')}_fold{fold}_best_predictions.pth\", \n",
        "                             map_location=torch.device('cpu'))['predictions']\n",
        "\n",
        "    torch.cuda.empty_cache()\n",
        "    gc.collect()\n",
        "    \n",
        "    return valid_folds, predictions"
      ],
      "metadata": {
        "execution": {
          "iopub.status.busy": "2023-05-17T17:13:55.019864Z",
          "iopub.execute_input": "2023-05-17T17:13:55.020519Z",
          "iopub.status.idle": "2023-05-17T17:13:55.044966Z",
          "shell.execute_reply.started": "2023-05-17T17:13:55.020480Z",
          "shell.execute_reply": "2023-05-17T17:13:55.043734Z"
        },
        "trusted": true,
        "id": "AgY_zVqhcD0V"
      },
      "execution_count": 70,
      "outputs": []
    },
    {
      "cell_type": "markdown",
      "source": [
        "## Let's start training\n",
        "All the plot and results are collected using the link below (on the `wandb.ai` server)"
      ],
      "metadata": {
        "id": "g2lay8-hcD0V"
      }
    },
    {
      "cell_type": "code",
      "source": [
        "if __name__ == '__main__':\n",
        "    \n",
        "    def get_result(oof_df, oof_predictions):\n",
        "        labels = oof_df[CFG.target_cols].values\n",
        "        preds = oof_predictions\n",
        "        score = MODEL_EVALUATION_FUNCTION.get_score(labels, preds)\n",
        "        LOGGER.info(f'score: {score:.4f}')\n",
        "    \n",
        "    if CFG.train:\n",
        "        oof_df = pd.DataFrame()\n",
        "        oof_predictions = []\n",
        "        for fold in range(CFG.n_fold):\n",
        "            if fold in CFG.trn_fold:\n",
        "                _oof_df, _oof_predictions = train_loop(train, fold)\n",
        "                oof_df = pd.concat([oof_df, _oof_df])\n",
        "                oof_predictions.append(_oof_predictions)\n",
        "                LOGGER.info(f\"========== fold: {fold} result ==========\")\n",
        "                get_result(_oof_df, _oof_predictions)\n",
        "        oof_df = oof_df.reset_index(drop=True)\n",
        "        oof_predictions = np.concatenate(oof_predictions, axis=0)\n",
        "        LOGGER.info(f\"========== CV ==========\")\n",
        "        get_result(oof_df, oof_predictions)\n",
        "        for target_i, target_col in enumerate(CFG.target_cols):\n",
        "            oof_df['oof_pred_'+target_col] = oof_predictions[:, target_i]\n",
        "        oof_df.to_pickle(OUTPUT_DIR+'oof_df.pkl')\n",
        "        \n",
        "    if CFG.wandb:\n",
        "        wandb.finish()"
      ],
      "metadata": {
        "execution": {
          "iopub.status.busy": "2023-05-17T17:13:55.046761Z",
          "iopub.execute_input": "2023-05-17T17:13:55.047311Z",
          "iopub.status.idle": "2023-05-17T17:20:43.297158Z",
          "shell.execute_reply.started": "2023-05-17T17:13:55.047180Z",
          "shell.execute_reply": "2023-05-17T17:20:43.296197Z"
        },
        "trusted": true,
        "id": "ewnI6S1FcD0V",
        "outputId": "be79d12f-4c2a-405c-8ad7-d859f7511483",
        "colab": {
          "base_uri": "https://localhost:8080/",
          "height": 1000
        }
      },
      "execution_count": 71,
      "outputs": [
        {
          "metadata": {
            "tags": null
          },
          "name": "stderr",
          "output_type": "stream",
          "text": [
            "========== fold: 0 training ==========\n",
            "========== fold: 0 training ==========\n",
            "========== fold: 0 training ==========\n",
            "INFO:__main__:========== fold: 0 training ==========\n",
            "Some weights of the model checkpoint at ktgiahieu/base-deberta-v3-large-peft-p-tuning-fbprize were not used when initializing DebertaV2ForSequenceClassification: ['classifier.modules_to_save.default.weight', 'classifier.original_module.bias', 'classifier.modules_to_save.default.bias', 'classifier.original_module.weight']\n",
            "- This IS expected if you are initializing DebertaV2ForSequenceClassification from the checkpoint of a model trained on another task or with another architecture (e.g. initializing a BertForSequenceClassification model from a BertForPreTraining model).\n",
            "- This IS NOT expected if you are initializing DebertaV2ForSequenceClassification from the checkpoint of a model that you expect to be exactly identical (initializing a BertForSequenceClassification model from a BertForSequenceClassification model).\n",
            "Some weights of DebertaV2ForSequenceClassification were not initialized from the model checkpoint at ktgiahieu/base-deberta-v3-large-peft-p-tuning-fbprize and are newly initialized: ['classifier.weight', 'classifier.bias']\n",
            "You should probably TRAIN this model on a down-stream task to be able to use it for predictions and inference.\n"
          ]
        },
        {
          "output_type": "stream",
          "name": "stdout",
          "text": [
            "Epoch: [1][0/443] Elapsed 0m 1s (remain 8m 2s) Loss: 4.3864(4.3864) Grad: nan  LR: 0.00020000  \n",
            "Epoch: [1][20/443] Elapsed 0m 39s (remain 13m 6s) Loss: 2.8169(3.3264) Grad: 242756.4219  LR: 0.00019999  \n",
            "Epoch: [1][40/443] Elapsed 1m 0s (remain 9m 57s) Loss: 1.7119(2.6351) Grad: 244537.7812  LR: 0.00019996  \n",
            "Epoch: [1][60/443] Elapsed 1m 34s (remain 9m 52s) Loss: 0.2238(2.3431) Grad: 266994.6562  LR: 0.00019991  \n",
            "Epoch: [1][80/443] Elapsed 1m 58s (remain 8m 49s) Loss: 0.2116(2.0276) Grad: 246116.9844  LR: 0.00019984  \n",
            "Epoch: [1][100/443] Elapsed 2m 24s (remain 8m 7s) Loss: 0.8792(1.7504) Grad: 239356.9062  LR: 0.00019974  \n",
            "Epoch: [1][120/443] Elapsed 2m 47s (remain 7m 24s) Loss: 2.0496(1.6479) Grad: 236250.7812  LR: 0.00019963  \n",
            "Epoch: [1][140/443] Elapsed 3m 16s (remain 7m 0s) Loss: 1.8185(1.5955) Grad: 246616.2969  LR: 0.00019950  \n",
            "Epoch: [1][160/443] Elapsed 3m 55s (remain 6m 52s) Loss: 0.6202(1.4995) Grad: 265474.8438  LR: 0.00019935  \n",
            "Epoch: [1][180/443] Elapsed 4m 26s (remain 6m 25s) Loss: 0.1050(1.4309) Grad: 240272.0312  LR: 0.00019918  \n",
            "Epoch: [1][200/443] Elapsed 5m 13s (remain 6m 17s) Loss: 0.0688(1.3719) Grad: 264593.2500  LR: 0.00019899  \n",
            "Epoch: [1][220/443] Elapsed 5m 39s (remain 5m 40s) Loss: 1.2632(1.3360) Grad: 236403.3125  LR: 0.00019877  \n",
            "Epoch: [1][240/443] Elapsed 6m 0s (remain 5m 1s) Loss: 0.3405(1.3154) Grad: 252461.6562  LR: 0.00019854  \n",
            "Epoch: [1][260/443] Elapsed 6m 28s (remain 4m 31s) Loss: 1.5623(1.3000) Grad: 253492.4062  LR: 0.00019829  \n",
            "Epoch: [1][280/443] Elapsed 6m 59s (remain 4m 2s) Loss: 0.6753(1.2734) Grad: 340952.9375  LR: 0.00019802  \n",
            "Epoch: [1][300/443] Elapsed 7m 24s (remain 3m 29s) Loss: 0.5493(1.2478) Grad: 234530.9219  LR: 0.00019773  \n",
            "Epoch: [1][320/443] Elapsed 7m 48s (remain 2m 58s) Loss: 0.2590(1.2256) Grad: 243580.2969  LR: 0.00019742  \n",
            "Epoch: [1][340/443] Elapsed 8m 13s (remain 2m 27s) Loss: 0.3980(1.2105) Grad: 242431.1719  LR: 0.00019709  \n",
            "Epoch: [1][360/443] Elapsed 8m 38s (remain 1m 57s) Loss: 3.4397(1.2117) Grad: 262215.9688  LR: 0.00019674  \n",
            "Epoch: [1][380/443] Elapsed 9m 1s (remain 1m 28s) Loss: 0.7280(1.1931) Grad: 120903.8047  LR: 0.00019637  \n",
            "Epoch: [1][400/443] Elapsed 9m 23s (remain 0m 58s) Loss: 0.0503(1.1756) Grad: 114596.8906  LR: 0.00019598  \n",
            "Epoch: [1][420/443] Elapsed 9m 46s (remain 0m 30s) Loss: 0.8301(1.1547) Grad: 115741.2031  LR: 0.00019558  \n",
            "Epoch: [1][440/443] Elapsed 10m 17s (remain 0m 2s) Loss: 0.1729(1.1328) Grad: 109109.1953  LR: 0.00019515  \n",
            "Epoch: [1][442/443] Elapsed 10m 19s (remain 0m 0s) Loss: 1.0769(1.1329) Grad: 112774.6094  LR: 0.00019511  \n",
            "EVAL: [0/74] Elapsed 0m 1s (remain 1m 58s) Loss: 1.3020(1.3020) \n",
            "EVAL: [20/74] Elapsed 0m 36s (remain 1m 32s) Loss: 0.3378(1.0463) \n",
            "EVAL: [40/74] Elapsed 1m 7s (remain 0m 54s) Loss: 0.4952(0.9369) \n",
            "EVAL: [60/74] Elapsed 4m 37s (remain 0m 59s) Loss: 0.3787(0.8758) \n"
          ]
        },
        {
          "output_type": "stream",
          "name": "stderr",
          "text": [
            "Epoch 1 - avg_train_loss: 1.1329  avg_val_loss: 0.8737  time: 919s\n",
            "Epoch 1 - avg_train_loss: 1.1329  avg_val_loss: 0.8737  time: 919s\n",
            "Epoch 1 - avg_train_loss: 1.1329  avg_val_loss: 0.8737  time: 919s\n",
            "INFO:__main__:Epoch 1 - avg_train_loss: 1.1329  avg_val_loss: 0.8737  time: 919s\n",
            "Epoch 1 - score: 0.3573\n",
            "Epoch 1 - score: 0.3573\n",
            "Epoch 1 - score: 0.3573\n",
            "INFO:__main__:Epoch 1 - score: 0.3573\n",
            "Epoch 1 - Save Best Score: 0.3573 Model\n",
            "Epoch 1 - Save Best Score: 0.3573 Model\n",
            "Epoch 1 - Save Best Score: 0.3573 Model\n",
            "INFO:__main__:Epoch 1 - Save Best Score: 0.3573 Model\n"
          ]
        },
        {
          "output_type": "stream",
          "name": "stdout",
          "text": [
            "EVAL: [73/74] Elapsed 4m 59s (remain 0m 0s) Loss: 1.0731(0.8737) \n",
            "Epoch: [2][0/443] Elapsed 0m 1s (remain 7m 45s) Loss: 2.2746(2.2746) Grad: nan  LR: 0.00019508  \n",
            "Epoch: [2][20/443] Elapsed 0m 47s (remain 15m 53s) Loss: 0.5062(0.9747) Grad: 15855.9746  LR: 0.00019463  \n",
            "Epoch: [2][40/443] Elapsed 1m 17s (remain 12m 37s) Loss: 0.2035(0.9250) Grad: 14936.3730  LR: 0.00019417  \n",
            "Epoch: [2][60/443] Elapsed 1m 42s (remain 10m 42s) Loss: 0.9922(0.8913) Grad: 15570.8516  LR: 0.00019368  \n",
            "Epoch: [2][80/443] Elapsed 2m 5s (remain 9m 21s) Loss: 0.6434(0.8937) Grad: 16310.9736  LR: 0.00019317  \n",
            "Epoch: [2][100/443] Elapsed 2m 28s (remain 8m 23s) Loss: 0.5196(0.8877) Grad: 15097.6377  LR: 0.00019265  \n",
            "Epoch: [2][120/443] Elapsed 2m 55s (remain 7m 47s) Loss: 1.1308(0.9094) Grad: 15737.3057  LR: 0.00019211  \n",
            "Epoch: [2][140/443] Elapsed 3m 22s (remain 7m 14s) Loss: 1.3055(0.9040) Grad: 16207.5527  LR: 0.00019155  \n",
            "Epoch: [2][160/443] Elapsed 3m 43s (remain 6m 30s) Loss: 0.5888(0.9198) Grad: 15652.8037  LR: 0.00019097  \n",
            "Epoch: [2][180/443] Elapsed 4m 20s (remain 6m 16s) Loss: 0.5466(0.9090) Grad: 15002.9961  LR: 0.00019037  \n",
            "Epoch: [2][200/443] Elapsed 4m 47s (remain 5m 45s) Loss: 0.1742(0.8954) Grad: 14013.2598  LR: 0.00018975  \n",
            "Epoch: [2][220/443] Elapsed 5m 9s (remain 5m 11s) Loss: 0.4170(0.8825) Grad: 14542.6719  LR: 0.00018912  \n",
            "Epoch: [2][240/443] Elapsed 5m 54s (remain 4m 56s) Loss: 0.1673(0.8799) Grad: 14962.9395  LR: 0.00018846  \n",
            "Epoch: [2][260/443] Elapsed 6m 24s (remain 4m 28s) Loss: 1.2747(0.8925) Grad: 14937.2002  LR: 0.00018779  \n",
            "Epoch: [2][280/443] Elapsed 6m 55s (remain 3m 59s) Loss: 1.4065(0.8854) Grad: 14248.9902  LR: 0.00018711  \n",
            "Epoch: [2][300/443] Elapsed 7m 22s (remain 3m 28s) Loss: 1.1791(0.9004) Grad: 15494.0605  LR: 0.00018640  \n",
            "Epoch: [2][320/443] Elapsed 7m 45s (remain 2m 57s) Loss: 1.2904(0.8888) Grad: 14898.1816  LR: 0.00018568  \n",
            "Epoch: [2][340/443] Elapsed 8m 8s (remain 2m 26s) Loss: 0.7850(0.8784) Grad: 14144.6562  LR: 0.00018494  \n",
            "Epoch: [2][360/443] Elapsed 8m 40s (remain 1m 58s) Loss: 1.1204(0.8799) Grad: 14688.7666  LR: 0.00018418  \n",
            "Epoch: [2][380/443] Elapsed 9m 7s (remain 1m 29s) Loss: 0.8669(0.8755) Grad: 15294.8242  LR: 0.00018341  \n",
            "Epoch: [2][400/443] Elapsed 9m 30s (remain 0m 59s) Loss: 1.1692(0.8903) Grad: 14750.6680  LR: 0.00018262  \n",
            "Epoch: [2][420/443] Elapsed 9m 52s (remain 0m 30s) Loss: 0.1669(0.8812) Grad: 14267.5889  LR: 0.00018181  \n",
            "Epoch: [2][440/443] Elapsed 10m 16s (remain 0m 2s) Loss: 1.1512(0.8809) Grad: 14773.7090  LR: 0.00018098  \n",
            "Epoch: [2][442/443] Elapsed 10m 18s (remain 0m 0s) Loss: 1.6733(0.8832) Grad: 14778.1895  LR: 0.00018090  \n",
            "EVAL: [0/74] Elapsed 0m 1s (remain 1m 35s) Loss: 1.3608(1.3608) \n",
            "EVAL: [20/74] Elapsed 0m 36s (remain 1m 31s) Loss: 0.3476(0.8646) \n",
            "EVAL: [40/74] Elapsed 1m 7s (remain 0m 54s) Loss: 0.6873(0.8150) \n",
            "EVAL: [60/74] Elapsed 4m 35s (remain 0m 58s) Loss: 0.3642(0.8071) \n"
          ]
        },
        {
          "output_type": "stream",
          "name": "stderr",
          "text": [
            "Epoch 2 - avg_train_loss: 0.8832  avg_val_loss: 0.8269  time: 916s\n",
            "Epoch 2 - avg_train_loss: 0.8832  avg_val_loss: 0.8269  time: 916s\n",
            "Epoch 2 - avg_train_loss: 0.8832  avg_val_loss: 0.8269  time: 916s\n",
            "INFO:__main__:Epoch 2 - avg_train_loss: 0.8832  avg_val_loss: 0.8269  time: 916s\n",
            "Epoch 2 - score: 0.3839\n",
            "Epoch 2 - score: 0.3839\n",
            "Epoch 2 - score: 0.3839\n",
            "INFO:__main__:Epoch 2 - score: 0.3839\n",
            "Epoch 2 - Save Best Score: 0.3839 Model\n",
            "Epoch 2 - Save Best Score: 0.3839 Model\n",
            "Epoch 2 - Save Best Score: 0.3839 Model\n",
            "INFO:__main__:Epoch 2 - Save Best Score: 0.3839 Model\n"
          ]
        },
        {
          "output_type": "stream",
          "name": "stdout",
          "text": [
            "EVAL: [73/74] Elapsed 4m 57s (remain 0m 0s) Loss: 1.2174(0.8269) \n",
            "Epoch: [3][0/443] Elapsed 0m 1s (remain 8m 36s) Loss: 1.4136(1.4136) Grad: nan  LR: 0.00018086  \n",
            "Epoch: [3][20/443] Elapsed 0m 36s (remain 12m 6s) Loss: 0.2918(0.6788) Grad: 115836.6562  LR: 0.00018002  \n",
            "Epoch: [3][40/443] Elapsed 1m 17s (remain 12m 43s) Loss: 0.8528(0.7476) Grad: 113878.9375  LR: 0.00017916  \n",
            "Epoch: [3][60/443] Elapsed 1m 41s (remain 10m 34s) Loss: 1.0874(0.8194) Grad: 127741.7344  LR: 0.00017828  \n",
            "Epoch: [3][80/443] Elapsed 2m 3s (remain 9m 10s) Loss: 1.8984(0.7966) Grad: 116683.2031  LR: 0.00017739  \n",
            "Epoch: [3][100/443] Elapsed 2m 30s (remain 8m 27s) Loss: 0.7876(0.7709) Grad: 115307.0078  LR: 0.00017649  \n",
            "Epoch: [3][120/443] Elapsed 2m 53s (remain 7m 43s) Loss: 1.3626(0.7593) Grad: 62226.1562  LR: 0.00017557  \n",
            "Epoch: [3][140/443] Elapsed 3m 16s (remain 7m 0s) Loss: 0.8218(0.7574) Grad: 58830.0859  LR: 0.00017463  \n",
            "Epoch: [3][160/443] Elapsed 3m 44s (remain 6m 33s) Loss: 0.7136(0.7836) Grad: 58570.6719  LR: 0.00017368  \n",
            "Epoch: [3][180/443] Elapsed 4m 7s (remain 5m 58s) Loss: 1.5768(0.7760) Grad: 56422.6328  LR: 0.00017271  \n",
            "Epoch: [3][200/443] Elapsed 4m 50s (remain 5m 49s) Loss: 1.2652(0.7822) Grad: 59891.4180  LR: 0.00017173  \n",
            "Epoch: [3][220/443] Elapsed 5m 12s (remain 5m 14s) Loss: 0.6630(0.7830) Grad: 57667.5156  LR: 0.00017074  \n",
            "Epoch: [3][240/443] Elapsed 5m 39s (remain 4m 44s) Loss: 0.5230(0.7676) Grad: 58982.4688  LR: 0.00016973  \n",
            "Epoch: [3][260/443] Elapsed 6m 18s (remain 4m 23s) Loss: 0.3561(0.7687) Grad: 57911.1406  LR: 0.00016870  \n",
            "Epoch: [3][280/443] Elapsed 6m 46s (remain 3m 54s) Loss: 1.2871(0.7844) Grad: 58131.7578  LR: 0.00016766  \n",
            "Epoch: [3][300/443] Elapsed 7m 16s (remain 3m 25s) Loss: 1.4418(0.7986) Grad: 60076.9219  LR: 0.00016661  \n",
            "Epoch: [3][320/443] Elapsed 7m 44s (remain 2m 56s) Loss: 0.5343(0.7890) Grad: 61065.2070  LR: 0.00016555  \n",
            "Epoch: [3][340/443] Elapsed 8m 10s (remain 2m 26s) Loss: 0.7712(0.7901) Grad: 61164.3906  LR: 0.00016447  \n",
            "Epoch: [3][360/443] Elapsed 8m 34s (remain 1m 56s) Loss: 0.3525(0.7811) Grad: 59468.6367  LR: 0.00016338  \n",
            "Epoch: [3][380/443] Elapsed 9m 4s (remain 1m 28s) Loss: 1.0721(0.7740) Grad: 58994.0078  LR: 0.00016228  \n",
            "Epoch: [3][400/443] Elapsed 9m 28s (remain 0m 59s) Loss: 1.0016(0.7837) Grad: 59729.6680  LR: 0.00016116  \n",
            "Epoch: [3][420/443] Elapsed 9m 50s (remain 0m 30s) Loss: 1.4664(0.7899) Grad: 62286.8281  LR: 0.00016003  \n",
            "Epoch: [3][440/443] Elapsed 10m 15s (remain 0m 2s) Loss: 1.5301(0.8011) Grad: 57651.1875  LR: 0.00015889  \n",
            "Epoch: [3][442/443] Elapsed 10m 17s (remain 0m 0s) Loss: 1.2715(0.8010) Grad: 63750.3477  LR: 0.00015878  \n",
            "EVAL: [0/74] Elapsed 0m 1s (remain 1m 36s) Loss: 1.3732(1.3732) \n",
            "EVAL: [20/74] Elapsed 0m 36s (remain 1m 31s) Loss: 0.4119(0.7950) \n",
            "EVAL: [40/74] Elapsed 1m 7s (remain 0m 54s) Loss: 0.4996(0.7454) \n",
            "EVAL: [60/74] Elapsed 4m 36s (remain 0m 58s) Loss: 0.5994(0.7549) \n"
          ]
        },
        {
          "output_type": "stream",
          "name": "stderr",
          "text": [
            "Epoch 3 - avg_train_loss: 0.8010  avg_val_loss: 0.7845  time: 916s\n",
            "Epoch 3 - avg_train_loss: 0.8010  avg_val_loss: 0.7845  time: 916s\n",
            "Epoch 3 - avg_train_loss: 0.8010  avg_val_loss: 0.7845  time: 916s\n",
            "INFO:__main__:Epoch 3 - avg_train_loss: 0.8010  avg_val_loss: 0.7845  time: 916s\n",
            "Epoch 3 - score: 0.4211\n",
            "Epoch 3 - score: 0.4211\n",
            "Epoch 3 - score: 0.4211\n",
            "INFO:__main__:Epoch 3 - score: 0.4211\n",
            "Epoch 3 - Save Best Score: 0.4211 Model\n",
            "Epoch 3 - Save Best Score: 0.4211 Model\n",
            "Epoch 3 - Save Best Score: 0.4211 Model\n",
            "INFO:__main__:Epoch 3 - Save Best Score: 0.4211 Model\n"
          ]
        },
        {
          "output_type": "stream",
          "name": "stdout",
          "text": [
            "EVAL: [73/74] Elapsed 4m 58s (remain 0m 0s) Loss: 1.0101(0.7845) \n",
            "Epoch: [4][0/443] Elapsed 0m 1s (remain 8m 10s) Loss: 0.0040(0.0040) Grad: nan  LR: 0.00015872  \n",
            "Epoch: [4][20/443] Elapsed 0m 24s (remain 8m 12s) Loss: 1.1616(0.8861) Grad: 236605.3281  LR: 0.00015757  \n",
            "Epoch: [4][40/443] Elapsed 0m 57s (remain 9m 27s) Loss: 0.4567(0.9456) Grad: 242582.7344  LR: 0.00015640  \n",
            "Epoch: [4][60/443] Elapsed 1m 22s (remain 8m 34s) Loss: 1.5066(0.9048) Grad: 232912.3594  LR: 0.00015522  \n",
            "Epoch: [4][80/443] Elapsed 1m 45s (remain 7m 52s) Loss: 0.7806(0.9164) Grad: 237173.1719  LR: 0.00015404  \n",
            "Epoch: [4][100/443] Elapsed 2m 9s (remain 7m 18s) Loss: 0.3775(0.9216) Grad: 243259.4531  LR: 0.00015284  \n",
            "Epoch: [4][120/443] Elapsed 2m 35s (remain 6m 54s) Loss: 0.6773(0.8737) Grad: 245585.0156  LR: 0.00015163  \n",
            "Epoch: [4][140/443] Elapsed 2m 58s (remain 6m 21s) Loss: 0.9720(0.8302) Grad: 231876.5625  LR: 0.00015041  \n",
            "Epoch: [4][160/443] Elapsed 3m 27s (remain 6m 3s) Loss: 2.0716(0.8252) Grad: 114868.0391  LR: 0.00014918  \n",
            "Epoch: [4][180/443] Elapsed 3m 53s (remain 5m 38s) Loss: 1.0971(0.8268) Grad: 61668.8125  LR: 0.00014794  \n",
            "Epoch: [4][200/443] Elapsed 4m 17s (remain 5m 10s) Loss: 0.4556(0.8201) Grad: 54695.5000  LR: 0.00014669  \n",
            "Epoch: [4][220/443] Elapsed 4m 53s (remain 4m 55s) Loss: 0.8238(0.8211) Grad: 55230.4375  LR: 0.00014543  \n",
            "Epoch: [4][240/443] Elapsed 5m 18s (remain 4m 27s) Loss: 1.4702(0.8163) Grad: 57100.5391  LR: 0.00014416  \n",
            "Epoch: [4][260/443] Elapsed 5m 38s (remain 3m 56s) Loss: 0.7200(0.8076) Grad: 56175.4570  LR: 0.00014289  \n",
            "Epoch: [4][280/443] Elapsed 6m 14s (remain 3m 36s) Loss: 1.2384(0.8112) Grad: 56432.5664  LR: 0.00014160  \n",
            "Epoch: [4][300/443] Elapsed 6m 39s (remain 3m 8s) Loss: 2.9248(0.8077) Grad: 61219.0234  LR: 0.00014031  \n",
            "Epoch: [4][320/443] Elapsed 7m 6s (remain 2m 42s) Loss: 1.1031(0.8047) Grad: 57134.8086  LR: 0.00013900  \n",
            "Epoch: [4][340/443] Elapsed 7m 31s (remain 2m 15s) Loss: 1.1242(0.8031) Grad: 61703.1641  LR: 0.00013769  \n",
            "Epoch: [4][360/443] Elapsed 8m 13s (remain 1m 52s) Loss: 0.1416(0.7931) Grad: 60174.1094  LR: 0.00013638  \n",
            "Epoch: [4][380/443] Elapsed 8m 42s (remain 1m 25s) Loss: 0.6352(0.7936) Grad: 57232.5352  LR: 0.00013505  \n",
            "Epoch: [4][400/443] Elapsed 9m 7s (remain 0m 57s) Loss: 1.2048(0.7957) Grad: 59208.6562  LR: 0.00013372  \n",
            "Epoch: [4][420/443] Elapsed 9m 37s (remain 0m 30s) Loss: 0.5748(0.7898) Grad: 59722.5703  LR: 0.00013238  \n",
            "Epoch: [4][440/443] Elapsed 10m 15s (remain 0m 2s) Loss: 0.6877(0.7825) Grad: 58731.4961  LR: 0.00013104  \n",
            "Epoch: [4][442/443] Elapsed 10m 18s (remain 0m 0s) Loss: 0.4407(0.7818) Grad: 56490.6875  LR: 0.00013090  \n",
            "EVAL: [0/74] Elapsed 0m 1s (remain 1m 36s) Loss: 1.1078(1.1078) \n",
            "EVAL: [20/74] Elapsed 0m 36s (remain 1m 32s) Loss: 0.5798(0.8132) \n",
            "EVAL: [40/74] Elapsed 1m 7s (remain 0m 54s) Loss: 0.5272(0.7740) \n",
            "EVAL: [60/74] Elapsed 4m 38s (remain 0m 59s) Loss: 0.6333(0.7681) \n"
          ]
        },
        {
          "output_type": "stream",
          "name": "stderr",
          "text": [
            "Epoch 4 - avg_train_loss: 0.7818  avg_val_loss: 0.8048  time: 919s\n",
            "Epoch 4 - avg_train_loss: 0.7818  avg_val_loss: 0.8048  time: 919s\n",
            "Epoch 4 - avg_train_loss: 0.7818  avg_val_loss: 0.8048  time: 919s\n",
            "INFO:__main__:Epoch 4 - avg_train_loss: 0.7818  avg_val_loss: 0.8048  time: 919s\n",
            "Epoch 4 - score: 0.4132\n",
            "Epoch 4 - score: 0.4132\n",
            "Epoch 4 - score: 0.4132\n",
            "INFO:__main__:Epoch 4 - score: 0.4132\n"
          ]
        },
        {
          "output_type": "stream",
          "name": "stdout",
          "text": [
            "EVAL: [73/74] Elapsed 5m 0s (remain 0m 0s) Loss: 0.9082(0.8048) \n",
            "Epoch: [5][0/443] Elapsed 0m 1s (remain 7m 45s) Loss: 0.4090(0.4090) Grad: nan  LR: 0.00013083  \n",
            "Epoch: [5][20/443] Elapsed 0m 25s (remain 8m 23s) Loss: 0.2354(0.7238) Grad: 117898.1328  LR: 0.00012948  \n",
            "Epoch: [5][40/443] Elapsed 0m 50s (remain 8m 12s) Loss: 0.2030(0.7025) Grad: 112491.9688  LR: 0.00012812  \n",
            "Epoch: [5][60/443] Elapsed 1m 21s (remain 8m 30s) Loss: 1.1501(0.7092) Grad: 117554.0000  LR: 0.00012676  \n",
            "Epoch: [5][80/443] Elapsed 2m 1s (remain 9m 3s) Loss: 0.8082(0.7295) Grad: nan  LR: 0.00012539  \n",
            "Epoch: [5][100/443] Elapsed 2m 21s (remain 7m 57s) Loss: 2.9844(0.7583) Grad: 61567.9648  LR: 0.00012402  \n",
            "Epoch: [5][120/443] Elapsed 2m 44s (remain 7m 18s) Loss: 0.8212(0.7500) Grad: 58207.6367  LR: 0.00012264  \n",
            "Epoch: [5][140/443] Elapsed 3m 11s (remain 6m 50s) Loss: 0.2023(0.7709) Grad: 60847.8867  LR: 0.00012125  \n",
            "Epoch: [5][160/443] Elapsed 3m 36s (remain 6m 19s) Loss: 0.3391(0.7541) Grad: 60352.0039  LR: 0.00011987  \n",
            "Epoch: [5][180/443] Elapsed 4m 1s (remain 5m 50s) Loss: 0.9654(0.7310) Grad: 56603.8711  LR: 0.00011847  \n",
            "Epoch: [5][200/443] Elapsed 4m 37s (remain 5m 33s) Loss: 0.0298(0.7410) Grad: 64967.7539  LR: 0.00011708  \n",
            "Epoch: [5][220/443] Elapsed 5m 3s (remain 5m 4s) Loss: 0.9780(0.7312) Grad: 62928.1562  LR: 0.00011568  \n",
            "Epoch: [5][240/443] Elapsed 5m 33s (remain 4m 39s) Loss: 0.8786(0.7264) Grad: 57321.8320  LR: 0.00011428  \n",
            "Epoch: [5][260/443] Elapsed 5m 58s (remain 4m 9s) Loss: 0.7773(0.7486) Grad: 59055.7031  LR: 0.00011287  \n",
            "Epoch: [5][280/443] Elapsed 6m 27s (remain 3m 43s) Loss: 0.1705(0.7485) Grad: 57109.3047  LR: 0.00011146  \n",
            "Epoch: [5][300/443] Elapsed 6m 52s (remain 3m 14s) Loss: 0.5087(0.7467) Grad: 58157.2383  LR: 0.00011005  \n",
            "Epoch: [5][320/443] Elapsed 7m 16s (remain 2m 45s) Loss: 0.9581(0.7505) Grad: 58087.2148  LR: 0.00010864  \n",
            "Epoch: [5][340/443] Elapsed 7m 38s (remain 2m 17s) Loss: 0.5985(0.7490) Grad: 56582.4688  LR: 0.00010723  \n",
            "Epoch: [5][360/443] Elapsed 8m 2s (remain 1m 49s) Loss: 0.7496(0.7508) Grad: 57601.0703  LR: 0.00010581  \n",
            "Epoch: [5][380/443] Elapsed 8m 28s (remain 1m 22s) Loss: 0.3953(0.7556) Grad: 58308.7344  LR: 0.00010440  \n",
            "Epoch: [5][400/443] Elapsed 9m 1s (remain 0m 56s) Loss: 0.5610(0.7684) Grad: 58137.1211  LR: 0.00010298  \n",
            "Epoch: [5][420/443] Elapsed 9m 42s (remain 0m 30s) Loss: 0.0958(0.7621) Grad: 57525.4375  LR: 0.00010156  \n",
            "Epoch: [5][440/443] Elapsed 10m 16s (remain 0m 2s) Loss: 0.0862(0.7599) Grad: 60370.9375  LR: 0.00010014  \n",
            "Epoch: [5][442/443] Elapsed 10m 18s (remain 0m 0s) Loss: 0.0046(0.7583) Grad: 56981.9609  LR: 0.00010000  \n",
            "EVAL: [0/74] Elapsed 0m 1s (remain 1m 36s) Loss: 1.4228(1.4228) \n",
            "EVAL: [20/74] Elapsed 0m 36s (remain 1m 32s) Loss: 0.5021(0.7673) \n",
            "EVAL: [40/74] Elapsed 1m 7s (remain 0m 54s) Loss: 0.5937(0.7093) \n",
            "EVAL: [60/74] Elapsed 4m 36s (remain 0m 58s) Loss: 0.9329(0.7328) \n"
          ]
        },
        {
          "output_type": "stream",
          "name": "stderr",
          "text": [
            "Epoch 5 - avg_train_loss: 0.7583  avg_val_loss: 0.7550  time: 918s\n",
            "Epoch 5 - avg_train_loss: 0.7583  avg_val_loss: 0.7550  time: 918s\n",
            "Epoch 5 - avg_train_loss: 0.7583  avg_val_loss: 0.7550  time: 918s\n",
            "INFO:__main__:Epoch 5 - avg_train_loss: 0.7583  avg_val_loss: 0.7550  time: 918s\n",
            "Epoch 5 - score: 0.4387\n",
            "Epoch 5 - score: 0.4387\n",
            "Epoch 5 - score: 0.4387\n",
            "INFO:__main__:Epoch 5 - score: 0.4387\n",
            "Epoch 5 - Save Best Score: 0.4387 Model\n",
            "Epoch 5 - Save Best Score: 0.4387 Model\n",
            "Epoch 5 - Save Best Score: 0.4387 Model\n",
            "INFO:__main__:Epoch 5 - Save Best Score: 0.4387 Model\n"
          ]
        },
        {
          "output_type": "stream",
          "name": "stdout",
          "text": [
            "EVAL: [73/74] Elapsed 4m 58s (remain 0m 0s) Loss: 0.5595(0.7550) \n",
            "Epoch: [6][0/443] Elapsed 0m 1s (remain 7m 41s) Loss: 1.4453(1.4453) Grad: nan  LR: 0.00009993  \n"
          ]
        },
        {
          "output_type": "display_data",
          "data": {
            "text/plain": [
              "\u001b[31m╭─\u001b[0m\u001b[31m──────────────────────────────\u001b[0m\u001b[31m \u001b[0m\u001b[1;31mTraceback \u001b[0m\u001b[1;2;31m(most recent call last)\u001b[0m\u001b[31m \u001b[0m\u001b[31m───────────────────────────────\u001b[0m\u001b[31m─╮\u001b[0m\n",
              "\u001b[31m│\u001b[0m in \u001b[92m<cell line: 1>\u001b[0m:\u001b[94m14\u001b[0m                                                                             \u001b[31m│\u001b[0m\n",
              "\u001b[31m│\u001b[0m in \u001b[92mtrain_loop\u001b[0m:\u001b[94m87\u001b[0m                                                                                 \u001b[31m│\u001b[0m\n",
              "\u001b[31m│\u001b[0m in \u001b[92mtrain_fn\u001b[0m:\u001b[94m54\u001b[0m                                                                                   \u001b[31m│\u001b[0m\n",
              "\u001b[31m│\u001b[0m                                                                                                  \u001b[31m│\u001b[0m\n",
              "\u001b[31m│\u001b[0m \u001b[2;33m/usr/local/lib/python3.10/dist-packages/torch/\u001b[0m\u001b[1;33m_tensor.py\u001b[0m:\u001b[94m487\u001b[0m in \u001b[92mbackward\u001b[0m                         \u001b[31m│\u001b[0m\n",
              "\u001b[31m│\u001b[0m                                                                                                  \u001b[31m│\u001b[0m\n",
              "\u001b[31m│\u001b[0m   \u001b[2m 484 \u001b[0m\u001b[2m│   │   │   │   \u001b[0mcreate_graph=create_graph,                                                \u001b[31m│\u001b[0m\n",
              "\u001b[31m│\u001b[0m   \u001b[2m 485 \u001b[0m\u001b[2m│   │   │   │   \u001b[0minputs=inputs,                                                            \u001b[31m│\u001b[0m\n",
              "\u001b[31m│\u001b[0m   \u001b[2m 486 \u001b[0m\u001b[2m│   │   │   \u001b[0m)                                                                             \u001b[31m│\u001b[0m\n",
              "\u001b[31m│\u001b[0m \u001b[31m❱ \u001b[0m 487 \u001b[2m│   │   \u001b[0mtorch.autograd.backward(                                                          \u001b[31m│\u001b[0m\n",
              "\u001b[31m│\u001b[0m   \u001b[2m 488 \u001b[0m\u001b[2m│   │   │   \u001b[0m\u001b[96mself\u001b[0m, gradient, retain_graph, create_graph, inputs=inputs                     \u001b[31m│\u001b[0m\n",
              "\u001b[31m│\u001b[0m   \u001b[2m 489 \u001b[0m\u001b[2m│   │   \u001b[0m)                                                                                 \u001b[31m│\u001b[0m\n",
              "\u001b[31m│\u001b[0m   \u001b[2m 490 \u001b[0m                                                                                          \u001b[31m│\u001b[0m\n",
              "\u001b[31m│\u001b[0m                                                                                                  \u001b[31m│\u001b[0m\n",
              "\u001b[31m│\u001b[0m \u001b[2;33m/usr/local/lib/python3.10/dist-packages/torch/autograd/\u001b[0m\u001b[1;33m__init__.py\u001b[0m:\u001b[94m200\u001b[0m in \u001b[92mbackward\u001b[0m               \u001b[31m│\u001b[0m\n",
              "\u001b[31m│\u001b[0m                                                                                                  \u001b[31m│\u001b[0m\n",
              "\u001b[31m│\u001b[0m   \u001b[2m197 \u001b[0m\u001b[2m│   \u001b[0m\u001b[2m# The reason we repeat same the comment below is that\u001b[0m                                  \u001b[31m│\u001b[0m\n",
              "\u001b[31m│\u001b[0m   \u001b[2m198 \u001b[0m\u001b[2m│   \u001b[0m\u001b[2m# some Python versions print out the first line of a multi-line function\u001b[0m               \u001b[31m│\u001b[0m\n",
              "\u001b[31m│\u001b[0m   \u001b[2m199 \u001b[0m\u001b[2m│   \u001b[0m\u001b[2m# calls in the traceback and some print out the last line\u001b[0m                              \u001b[31m│\u001b[0m\n",
              "\u001b[31m│\u001b[0m \u001b[31m❱ \u001b[0m200 \u001b[2m│   \u001b[0mVariable._execution_engine.run_backward(  \u001b[2m# Calls into the C++ engine to run the bac\u001b[0m   \u001b[31m│\u001b[0m\n",
              "\u001b[31m│\u001b[0m   \u001b[2m201 \u001b[0m\u001b[2m│   │   \u001b[0mtensors, grad_tensors_, retain_graph, create_graph, inputs,                        \u001b[31m│\u001b[0m\n",
              "\u001b[31m│\u001b[0m   \u001b[2m202 \u001b[0m\u001b[2m│   │   \u001b[0mallow_unreachable=\u001b[94mTrue\u001b[0m, accumulate_grad=\u001b[94mTrue\u001b[0m)  \u001b[2m# Calls into the C++ engine to ru\u001b[0m   \u001b[31m│\u001b[0m\n",
              "\u001b[31m│\u001b[0m   \u001b[2m203 \u001b[0m                                                                                           \u001b[31m│\u001b[0m\n",
              "\u001b[31m╰──────────────────────────────────────────────────────────────────────────────────────────────────╯\u001b[0m\n",
              "\u001b[1;91mKeyboardInterrupt\u001b[0m\n"
            ],
            "text/html": [
              "<pre style=\"white-space:pre;overflow-x:auto;line-height:normal;font-family:Menlo,'DejaVu Sans Mono',consolas,'Courier New',monospace\"><span style=\"color: #800000; text-decoration-color: #800000\">╭─────────────────────────────── </span><span style=\"color: #800000; text-decoration-color: #800000; font-weight: bold\">Traceback </span><span style=\"color: #bf7f7f; text-decoration-color: #bf7f7f; font-weight: bold\">(most recent call last)</span><span style=\"color: #800000; text-decoration-color: #800000\"> ────────────────────────────────╮</span>\n",
              "<span style=\"color: #800000; text-decoration-color: #800000\">│</span> in <span style=\"color: #00ff00; text-decoration-color: #00ff00\">&lt;cell line: 1&gt;</span>:<span style=\"color: #0000ff; text-decoration-color: #0000ff\">14</span>                                                                             <span style=\"color: #800000; text-decoration-color: #800000\">│</span>\n",
              "<span style=\"color: #800000; text-decoration-color: #800000\">│</span> in <span style=\"color: #00ff00; text-decoration-color: #00ff00\">train_loop</span>:<span style=\"color: #0000ff; text-decoration-color: #0000ff\">87</span>                                                                                 <span style=\"color: #800000; text-decoration-color: #800000\">│</span>\n",
              "<span style=\"color: #800000; text-decoration-color: #800000\">│</span> in <span style=\"color: #00ff00; text-decoration-color: #00ff00\">train_fn</span>:<span style=\"color: #0000ff; text-decoration-color: #0000ff\">54</span>                                                                                   <span style=\"color: #800000; text-decoration-color: #800000\">│</span>\n",
              "<span style=\"color: #800000; text-decoration-color: #800000\">│</span>                                                                                                  <span style=\"color: #800000; text-decoration-color: #800000\">│</span>\n",
              "<span style=\"color: #800000; text-decoration-color: #800000\">│</span> <span style=\"color: #bfbf7f; text-decoration-color: #bfbf7f\">/usr/local/lib/python3.10/dist-packages/torch/</span><span style=\"color: #808000; text-decoration-color: #808000; font-weight: bold\">_tensor.py</span>:<span style=\"color: #0000ff; text-decoration-color: #0000ff\">487</span> in <span style=\"color: #00ff00; text-decoration-color: #00ff00\">backward</span>                         <span style=\"color: #800000; text-decoration-color: #800000\">│</span>\n",
              "<span style=\"color: #800000; text-decoration-color: #800000\">│</span>                                                                                                  <span style=\"color: #800000; text-decoration-color: #800000\">│</span>\n",
              "<span style=\"color: #800000; text-decoration-color: #800000\">│</span>   <span style=\"color: #7f7f7f; text-decoration-color: #7f7f7f\"> 484 │   │   │   │   </span>create_graph=create_graph,                                                <span style=\"color: #800000; text-decoration-color: #800000\">│</span>\n",
              "<span style=\"color: #800000; text-decoration-color: #800000\">│</span>   <span style=\"color: #7f7f7f; text-decoration-color: #7f7f7f\"> 485 │   │   │   │   </span>inputs=inputs,                                                            <span style=\"color: #800000; text-decoration-color: #800000\">│</span>\n",
              "<span style=\"color: #800000; text-decoration-color: #800000\">│</span>   <span style=\"color: #7f7f7f; text-decoration-color: #7f7f7f\"> 486 │   │   │   </span>)                                                                             <span style=\"color: #800000; text-decoration-color: #800000\">│</span>\n",
              "<span style=\"color: #800000; text-decoration-color: #800000\">│</span> <span style=\"color: #800000; text-decoration-color: #800000\">❱ </span> 487 <span style=\"color: #7f7f7f; text-decoration-color: #7f7f7f\">│   │   </span>torch.autograd.backward(                                                          <span style=\"color: #800000; text-decoration-color: #800000\">│</span>\n",
              "<span style=\"color: #800000; text-decoration-color: #800000\">│</span>   <span style=\"color: #7f7f7f; text-decoration-color: #7f7f7f\"> 488 │   │   │   </span><span style=\"color: #00ffff; text-decoration-color: #00ffff\">self</span>, gradient, retain_graph, create_graph, inputs=inputs                     <span style=\"color: #800000; text-decoration-color: #800000\">│</span>\n",
              "<span style=\"color: #800000; text-decoration-color: #800000\">│</span>   <span style=\"color: #7f7f7f; text-decoration-color: #7f7f7f\"> 489 │   │   </span>)                                                                                 <span style=\"color: #800000; text-decoration-color: #800000\">│</span>\n",
              "<span style=\"color: #800000; text-decoration-color: #800000\">│</span>   <span style=\"color: #7f7f7f; text-decoration-color: #7f7f7f\"> 490 </span>                                                                                          <span style=\"color: #800000; text-decoration-color: #800000\">│</span>\n",
              "<span style=\"color: #800000; text-decoration-color: #800000\">│</span>                                                                                                  <span style=\"color: #800000; text-decoration-color: #800000\">│</span>\n",
              "<span style=\"color: #800000; text-decoration-color: #800000\">│</span> <span style=\"color: #bfbf7f; text-decoration-color: #bfbf7f\">/usr/local/lib/python3.10/dist-packages/torch/autograd/</span><span style=\"color: #808000; text-decoration-color: #808000; font-weight: bold\">__init__.py</span>:<span style=\"color: #0000ff; text-decoration-color: #0000ff\">200</span> in <span style=\"color: #00ff00; text-decoration-color: #00ff00\">backward</span>               <span style=\"color: #800000; text-decoration-color: #800000\">│</span>\n",
              "<span style=\"color: #800000; text-decoration-color: #800000\">│</span>                                                                                                  <span style=\"color: #800000; text-decoration-color: #800000\">│</span>\n",
              "<span style=\"color: #800000; text-decoration-color: #800000\">│</span>   <span style=\"color: #7f7f7f; text-decoration-color: #7f7f7f\">197 │   # The reason we repeat same the comment below is that</span>                                  <span style=\"color: #800000; text-decoration-color: #800000\">│</span>\n",
              "<span style=\"color: #800000; text-decoration-color: #800000\">│</span>   <span style=\"color: #7f7f7f; text-decoration-color: #7f7f7f\">198 │   # some Python versions print out the first line of a multi-line function</span>               <span style=\"color: #800000; text-decoration-color: #800000\">│</span>\n",
              "<span style=\"color: #800000; text-decoration-color: #800000\">│</span>   <span style=\"color: #7f7f7f; text-decoration-color: #7f7f7f\">199 │   # calls in the traceback and some print out the last line</span>                              <span style=\"color: #800000; text-decoration-color: #800000\">│</span>\n",
              "<span style=\"color: #800000; text-decoration-color: #800000\">│</span> <span style=\"color: #800000; text-decoration-color: #800000\">❱ </span>200 <span style=\"color: #7f7f7f; text-decoration-color: #7f7f7f\">│   </span>Variable._execution_engine.run_backward(  <span style=\"color: #7f7f7f; text-decoration-color: #7f7f7f\"># Calls into the C++ engine to run the bac</span>   <span style=\"color: #800000; text-decoration-color: #800000\">│</span>\n",
              "<span style=\"color: #800000; text-decoration-color: #800000\">│</span>   <span style=\"color: #7f7f7f; text-decoration-color: #7f7f7f\">201 │   │   </span>tensors, grad_tensors_, retain_graph, create_graph, inputs,                        <span style=\"color: #800000; text-decoration-color: #800000\">│</span>\n",
              "<span style=\"color: #800000; text-decoration-color: #800000\">│</span>   <span style=\"color: #7f7f7f; text-decoration-color: #7f7f7f\">202 │   │   </span>allow_unreachable=<span style=\"color: #0000ff; text-decoration-color: #0000ff\">True</span>, accumulate_grad=<span style=\"color: #0000ff; text-decoration-color: #0000ff\">True</span>)  <span style=\"color: #7f7f7f; text-decoration-color: #7f7f7f\"># Calls into the C++ engine to ru</span>   <span style=\"color: #800000; text-decoration-color: #800000\">│</span>\n",
              "<span style=\"color: #800000; text-decoration-color: #800000\">│</span>   <span style=\"color: #7f7f7f; text-decoration-color: #7f7f7f\">203 </span>                                                                                           <span style=\"color: #800000; text-decoration-color: #800000\">│</span>\n",
              "<span style=\"color: #800000; text-decoration-color: #800000\">╰──────────────────────────────────────────────────────────────────────────────────────────────────╯</span>\n",
              "<span style=\"color: #ff0000; text-decoration-color: #ff0000; font-weight: bold\">KeyboardInterrupt</span>\n",
              "</pre>\n"
            ]
          },
          "metadata": {}
        }
      ]
    },
    {
      "cell_type": "code",
      "source": [],
      "metadata": {
        "id": "Ijk_8tnzW4M3"
      },
      "execution_count": null,
      "outputs": []
    },
    {
      "cell_type": "markdown",
      "source": [
        "# Eval"
      ],
      "metadata": {
        "id": "zdd4-5EzWu_D"
      }
    },
    {
      "cell_type": "code",
      "source": [
        "# ====================================================\n",
        "# eval loop\n",
        "# ====================================================\n",
        "def eval_loop(folds, fold):\n",
        "    \n",
        "    LOGGER.info(f\"========== fold: {fold} training ==========\")\n",
        "\n",
        "    # ====================================================\n",
        "    # loader\n",
        "    # ====================================================\n",
        "    train_folds = folds[folds['fold'] != fold].reset_index(drop=True)\n",
        "    valid_folds = folds[folds['fold'] == fold].reset_index(drop=True)\n",
        "    valid_labels = valid_folds[CFG.target_cols].values\n",
        "    \n",
        "    train_dataset = TrainDataset(CFG, train_folds)\n",
        "    valid_dataset = TrainDataset(CFG, valid_folds)\n",
        "\n",
        "    train_loader = DataLoader(train_dataset,\n",
        "                              batch_size=CFG.batch_size,\n",
        "                              shuffle=True,\n",
        "                              num_workers=CFG.num_workers, pin_memory=True, drop_last=True)\n",
        "    valid_loader = DataLoader(valid_dataset,\n",
        "                              batch_size=CFG.batch_size * 2,\n",
        "                              shuffle=False,\n",
        "                              num_workers=CFG.num_workers, pin_memory=True, drop_last=False)\n",
        "\n",
        "    # ====================================================\n",
        "    # model & optimizer\n",
        "    # ====================================================\n",
        "    # model = CustomModel(CFG, config_path=None, pretrained=True)\n",
        "    peft_type = PeftType.P_TUNING\n",
        "    peft_config = PromptEncoderConfig(task_type=\"SEQ_CLS\", num_virtual_tokens=20, encoder_hidden_size=128, inference_mode=False)\n",
        "    model = AutoModelForSequenceClassification.from_pretrained(CFG.fbprize_base_model_name_or_path, return_dict=True, num_labels=len(CFG.target_cols), problem_type = \"regression\")\n",
        "    model = get_peft_model(model, peft_config)\n",
        "\n",
        "    model.load_state_dict(torch.load(OUTPUT_DIR+f\"{CFG.model_name_or_path.replace('/', '-')}_fold{fold}_best.pth\", \n",
        "                             map_location=torch.device(device))['model'])\n",
        "\n",
        "    # torch.save(model.config, OUTPUT_DIR+'config.pth')\n",
        "    model.to(device)\n",
        "    \n",
        "    # def get_optimizer_params(model, encoder_lr, decoder_lr, weight_decay=0.0):\n",
        "    #     param_optimizer = list(model.named_parameters())\n",
        "    #     no_decay = [\"bias\", \"LayerNorm.bias\", \"LayerNorm.weight\"]\n",
        "    #     optimizer_parameters = [\n",
        "    #         {'params': [p for n, p in model.named_parameters() if not any(nd in n for nd in no_decay)],\n",
        "    #          'lr': encoder_lr, 'weight_decay': weight_decay},\n",
        "    #         {'params': [p for n, p in model.named_parameters() if any(nd in n for nd in no_decay)],\n",
        "    #          'lr': encoder_lr, 'weight_decay': 0.0},\n",
        "    #         {'params': [p for n, p in model.named_parameters() if \"model\" not in n],\n",
        "    #          'lr': decoder_lr, 'weight_decay': 0.0}\n",
        "    #     ]\n",
        "    #     return optimizer_parameters\n",
        "\n",
        "    # optimizer_parameters = get_optimizer_params(model,\n",
        "    #                                             encoder_lr=CFG.encoder_lr, \n",
        "    #                                             decoder_lr=CFG.decoder_lr,\n",
        "    #                                             weight_decay=CFG.weight_decay)\n",
        "    # optimizer = AdamW(model.parameters(), lr=CFG.encoder_lr, eps=CFG.eps, betas=CFG.betas)\n",
        "    \n",
        "    # # ====================================================\n",
        "    # # scheduler\n",
        "    # # ====================================================\n",
        "    # def get_scheduler(cfg, optimizer, num_train_steps):\n",
        "    #     if cfg.scheduler == 'linear':\n",
        "    #         scheduler = get_linear_schedule_with_warmup(\n",
        "    #             optimizer, num_warmup_steps=cfg.num_warmup_steps, num_training_steps=num_train_steps\n",
        "    #         )\n",
        "    #     elif cfg.scheduler == 'cosine':\n",
        "    #         scheduler = get_cosine_schedule_with_warmup(\n",
        "    #             optimizer, num_warmup_steps=cfg.num_warmup_steps, num_training_steps=num_train_steps, num_cycles=cfg.num_cycles\n",
        "    #         )\n",
        "    #     return scheduler\n",
        "    \n",
        "    # num_train_steps = int(len(train_folds) / CFG.batch_size * CFG.epochs)\n",
        "    # scheduler = get_scheduler(CFG, optimizer, num_train_steps)\n",
        "\n",
        "    # # ====================================================\n",
        "    # # loop\n",
        "    # # ====================================================\n",
        "    criterion = MODEL_LOSS_FUNCTION\n",
        "    \n",
        "    # best_score = -1\n",
        "\n",
        "\n",
        "    start_time = time.time()\n",
        "    \n",
        "    # train\n",
        "    # avg_loss = train_fn(fold, train_loader, model, criterion, optimizer, epoch, scheduler, device)\n",
        "\n",
        "    # eval\n",
        "    avg_val_loss, predictions = valid_fn(valid_loader, model, criterion, device)\n",
        "\n",
        "    # scoring\n",
        "    score = MODEL_EVALUATION_FUNCTION.get_score(valid_labels, predictions)\n",
        "\n",
        "    elapsed = time.time() - start_time\n",
        "\n",
        "    # LOGGER.info(f'Epoch {epoch+1} - avg_train_loss: {avg_loss:.4f}  avg_val_loss: {avg_val_loss:.4f}  time: {elapsed:.0f}s')\n",
        "    # if CFG.wandb:\n",
        "    #     wandb.log({f\"[fold{fold}] epoch\": epoch+1, \n",
        "    #                f\"[fold{fold}] avg_train_loss\": avg_loss, \n",
        "    #                f\"[fold{fold}] avg_val_loss\": avg_val_loss,\n",
        "    #                f\"[fold{fold}] score\": score})\n",
        "    \n",
        "    # if MODEL_EVALUATION_FUNCTION.is_left_score_better(score, best_score):\n",
        "    #     best_score = score\n",
        "    #     LOGGER.info(f'Epoch {epoch+1} - Save Best Score: {best_score:.4f} Model')\n",
        "    #     torch.save({'model': model.state_dict()}, OUTPUT_DIR+f\"{CFG.model_name_or_path.replace('/', '-')}_fold{fold}_best.pth\")\n",
        "    #     torch.save({'predictions': predictions},  OUTPUT_DIR+f\"{CFG.model_name_or_path.replace('/', '-')}_fold{fold}_best_predictions.pth\")\n",
        "\n",
        "    # predictions = torch.load(OUTPUT_DIR+f\"{CFG.model_name_or_path.replace('/', '-')}_fold{fold}_best_predictions.pth\", \n",
        "    #                          map_location=torch.device('cpu'))['predictions']\n",
        "\n",
        "    torch.cuda.empty_cache()\n",
        "    gc.collect()\n",
        "    \n",
        "    return valid_folds, predictions"
      ],
      "metadata": {
        "id": "mEdf_Sg9W4r6"
      },
      "execution_count": 81,
      "outputs": []
    },
    {
      "cell_type": "code",
      "source": [
        "if __name__ == '__main__':\n",
        "    \n",
        "    def get_result(oof_df, oof_predictions):\n",
        "        labels = oof_df[CFG.target_cols].values\n",
        "        preds = oof_predictions\n",
        "        score = MODEL_EVALUATION_FUNCTION.get_score(labels, preds)\n",
        "        LOGGER.info(f'score: {score:.4f}')\n",
        "    \n",
        "    if CFG.train:\n",
        "        oof_df = pd.DataFrame()\n",
        "        oof_predictions = []\n",
        "        for fold in range(CFG.n_fold):\n",
        "            if fold in CFG.trn_fold:\n",
        "                _oof_df, _oof_predictions = eval_loop(train, fold)\n",
        "                oof_df = pd.concat([oof_df, _oof_df])\n",
        "                oof_predictions.append(_oof_predictions)\n",
        "                LOGGER.info(f\"========== fold: {fold} result ==========\")\n",
        "                get_result(_oof_df, _oof_predictions)\n",
        "        oof_df = oof_df.reset_index(drop=True)\n",
        "        oof_predictions = np.concatenate(oof_predictions, axis=0)\n",
        "        LOGGER.info(f\"========== CV ==========\")\n",
        "        get_result(oof_df, oof_predictions)\n",
        "        for target_i, target_col in enumerate(CFG.target_cols):\n",
        "            oof_df['oof_pred_'+target_col] = oof_predictions[:, target_i]\n",
        "        oof_df.to_pickle(OUTPUT_DIR+'oof_df.pkl')\n",
        "        \n",
        "    if CFG.wandb:\n",
        "        wandb.finish()"
      ],
      "metadata": {
        "colab": {
          "base_uri": "https://localhost:8080/"
        },
        "id": "eG2JXjTgWuXv",
        "outputId": "cb5fc044-d56a-4ef4-c231-de4e8b5f9b8b"
      },
      "execution_count": 87,
      "outputs": [
        {
          "metadata": {
            "tags": null
          },
          "name": "stderr",
          "output_type": "stream",
          "text": [
            "========== fold: 0 training ==========\n",
            "========== fold: 0 training ==========\n",
            "========== fold: 0 training ==========\n",
            "INFO:__main__:========== fold: 0 training ==========\n",
            "Some weights of the model checkpoint at ktgiahieu/base-deberta-v3-large-peft-p-tuning-fbprize were not used when initializing DebertaV2ForSequenceClassification: ['classifier.modules_to_save.default.weight', 'classifier.original_module.bias', 'classifier.modules_to_save.default.bias', 'classifier.original_module.weight']\n",
            "- This IS expected if you are initializing DebertaV2ForSequenceClassification from the checkpoint of a model trained on another task or with another architecture (e.g. initializing a BertForSequenceClassification model from a BertForPreTraining model).\n",
            "- This IS NOT expected if you are initializing DebertaV2ForSequenceClassification from the checkpoint of a model that you expect to be exactly identical (initializing a BertForSequenceClassification model from a BertForSequenceClassification model).\n",
            "Some weights of DebertaV2ForSequenceClassification were not initialized from the model checkpoint at ktgiahieu/base-deberta-v3-large-peft-p-tuning-fbprize and are newly initialized: ['classifier.weight', 'classifier.bias']\n",
            "You should probably TRAIN this model on a down-stream task to be able to use it for predictions and inference.\n"
          ]
        },
        {
          "output_type": "stream",
          "name": "stdout",
          "text": [
            "EVAL: [0/74] Elapsed 0m 1s (remain 1m 38s) Loss: 1.4228(1.4228) \n",
            "EVAL: [20/74] Elapsed 0m 36s (remain 1m 32s) Loss: 0.5021(0.7673) \n",
            "EVAL: [40/74] Elapsed 1m 7s (remain 0m 54s) Loss: 0.5937(0.7093) \n",
            "EVAL: [60/74] Elapsed 4m 25s (remain 0m 56s) Loss: 0.9329(0.7328) \n",
            "EVAL: [73/74] Elapsed 4m 47s (remain 0m 0s) Loss: 0.5595(0.7550) \n"
          ]
        },
        {
          "output_type": "stream",
          "name": "stderr",
          "text": [
            "========== fold: 0 result ==========\n",
            "========== fold: 0 result ==========\n",
            "========== fold: 0 result ==========\n",
            "INFO:__main__:========== fold: 0 result ==========\n",
            "score: 0.4387\n",
            "score: 0.4387\n",
            "score: 0.4387\n",
            "INFO:__main__:score: 0.4387\n",
            "========== CV ==========\n",
            "========== CV ==========\n",
            "========== CV ==========\n",
            "INFO:__main__:========== CV ==========\n",
            "score: 0.4387\n",
            "score: 0.4387\n",
            "score: 0.4387\n",
            "INFO:__main__:score: 0.4387\n"
          ]
        }
      ]
    },
    {
      "cell_type": "markdown",
      "source": [
        "# Push to the hub"
      ],
      "metadata": {
        "id": "kUOVY0X3YHrA"
      }
    },
    {
      "cell_type": "code",
      "source": [
        "!huggingface-cli login"
      ],
      "metadata": {
        "colab": {
          "base_uri": "https://localhost:8080/"
        },
        "id": "wwYVUdgOYJ6K",
        "outputId": "d0c712cd-499c-4afe-bc7b-8568f927b4d8"
      },
      "execution_count": 85,
      "outputs": [
        {
          "output_type": "stream",
          "name": "stdout",
          "text": [
            "\n",
            "    _|    _|  _|    _|    _|_|_|    _|_|_|  _|_|_|  _|      _|    _|_|_|      _|_|_|_|    _|_|      _|_|_|  _|_|_|_|\n",
            "    _|    _|  _|    _|  _|        _|          _|    _|_|    _|  _|            _|        _|    _|  _|        _|\n",
            "    _|_|_|_|  _|    _|  _|  _|_|  _|  _|_|    _|    _|  _|  _|  _|  _|_|      _|_|_|    _|_|_|_|  _|        _|_|_|\n",
            "    _|    _|  _|    _|  _|    _|  _|    _|    _|    _|    _|_|  _|    _|      _|        _|    _|  _|        _|\n",
            "    _|    _|    _|_|      _|_|_|    _|_|_|  _|_|_|  _|      _|    _|_|_|      _|        _|    _|    _|_|_|  _|_|_|_|\n",
            "    \n",
            "    To login, `huggingface_hub` requires a token generated from https://huggingface.co/settings/tokens .\n",
            "Token: \n",
            "Add token as git credential? (Y/n) n\n",
            "Token is valid (permission: write).\n",
            "Your token has been saved to /root/.cache/huggingface/token\n",
            "Login successful\n"
          ]
        }
      ]
    },
    {
      "cell_type": "code",
      "source": [
        "peft_type = PeftType.P_TUNING\n",
        "peft_config = PromptEncoderConfig(task_type=\"SEQ_CLS\", num_virtual_tokens=20, encoder_hidden_size=128, inference_mode=False)\n",
        "model = AutoModelForSequenceClassification.from_pretrained(CFG.fbprize_base_model_name_or_path, return_dict=True, num_labels=len(CFG.target_cols), problem_type = \"regression\")\n",
        "model = get_peft_model(model, peft_config)\n",
        "\n",
        "model.load_state_dict(torch.load(OUTPUT_DIR+f\"{CFG.model_name_or_path.replace('/', '-')}_fold0_best.pth\", \n",
        "                             map_location=torch.device(device))['model'])"
      ],
      "metadata": {
        "colab": {
          "base_uri": "https://localhost:8080/"
        },
        "id": "cfPlR0NWYLmx",
        "outputId": "f0bf7c40-c84a-4ad4-a653-ff4679748244"
      },
      "execution_count": 82,
      "outputs": [
        {
          "output_type": "stream",
          "name": "stderr",
          "text": [
            "Some weights of the model checkpoint at ktgiahieu/base-deberta-v3-large-peft-p-tuning-fbprize were not used when initializing DebertaV2ForSequenceClassification: ['classifier.modules_to_save.default.weight', 'classifier.original_module.bias', 'classifier.modules_to_save.default.bias', 'classifier.original_module.weight']\n",
            "- This IS expected if you are initializing DebertaV2ForSequenceClassification from the checkpoint of a model trained on another task or with another architecture (e.g. initializing a BertForSequenceClassification model from a BertForPreTraining model).\n",
            "- This IS NOT expected if you are initializing DebertaV2ForSequenceClassification from the checkpoint of a model that you expect to be exactly identical (initializing a BertForSequenceClassification model from a BertForSequenceClassification model).\n",
            "Some weights of DebertaV2ForSequenceClassification were not initialized from the model checkpoint at ktgiahieu/base-deberta-v3-large-peft-p-tuning-fbprize and are newly initialized: ['classifier.weight', 'classifier.bias']\n",
            "You should probably TRAIN this model on a down-stream task to be able to use it for predictions and inference.\n"
          ]
        },
        {
          "output_type": "execute_result",
          "data": {
            "text/plain": [
              "<All keys matched successfully>"
            ]
          },
          "metadata": {},
          "execution_count": 82
        }
      ]
    },
    {
      "cell_type": "code",
      "source": [
        "model.push_to_hub('ktgiahieu/deberta-v3-large-ptuning-logimpact-fullpaper', use_auth_token=True)"
      ],
      "metadata": {
        "colab": {
          "base_uri": "https://localhost:8080/",
          "height": 276,
          "referenced_widgets": [
            "84de599be20b4e73bff36260407c3ada",
            "b91c52fb84014f339eaa144789e6dba5",
            "86d72fff9a324398bd5b677019b7fb0e",
            "f4ba3cbade3e44889ebfc2b597e028f8",
            "fa6d889f6b7d4f50b59c2b4de39415e6",
            "f6dbbbef57734bda8eda2c952a40a299",
            "173ba3e3543b424b875caff299ccd0f6",
            "ca49a391c5a9486790828d0a0a5ba830",
            "fbf483d123884382ac3839463577bbf7",
            "42a680b98a4a4807aeef8c41ed7c5f85",
            "8a86f79e8d654996a6ab071954922688",
            "79a3f21ec7034317968c2ef8d39ba6a6",
            "26a597cd6c91419c872dc2d25c9047bb",
            "cc4b73a61e4c4b4abba1bdfc65ccb2b8",
            "ab0c25c4f5d949c895803bbd6f2e2ab7",
            "51d7b3d549e1436e9baaf3e29d74c4b9",
            "6c65c834704943ac9b5c4c4c00399ea8",
            "488c6102a64b44dba2a5aed275280728",
            "becf0a2bd90640b4bdfd7cce3f22db6d",
            "4eeb78d5ae30419fbf51cf1778f91479",
            "e4b5ae31578945ed9841264bd07cd6cd",
            "dca64d09cd874219af51e2c9c771acf7",
            "9d5d7a1603384071ada34fbae7e838c7",
            "1f197c65657f4d3a9e1edca33404f583",
            "2013cb7eabd248c2aca14e6116199819",
            "0f8010b4cb1c4c0d83060235d60f75f7",
            "b8edfca6ff1049a9b906ad8c3fc21ca5",
            "51c9ff8dc7a7489d9a932dea0c8ff6e1",
            "3f6f99d37e2e40a7993b3e47d91ec6c5",
            "43a0d9139e3c4046885a1589433c8ba6",
            "0e8993770fa84a9dae706ba2bc652f70",
            "6712230e4c044409a84db1daf2290581",
            "68b34ea76585473bb5fd02be9af5d737"
          ]
        },
        "id": "psDLamd3YVTV",
        "outputId": "b1a816c5-8b68-4fcd-b983-5db4e6623fc9"
      },
      "execution_count": 86,
      "outputs": [
        {
          "output_type": "display_data",
          "data": {
            "text/plain": [
              "Upload 2 LFS files:   0%|          | 0/2 [00:00<?, ?it/s]"
            ],
            "application/vnd.jupyter.widget-view+json": {
              "version_major": 2,
              "version_minor": 0,
              "model_id": "84de599be20b4e73bff36260407c3ada"
            }
          },
          "metadata": {}
        },
        {
          "output_type": "display_data",
          "data": {
            "text/plain": [
              "adapter_model.bin:   0%|          | 0.00/87.4k [00:00<?, ?B/s]"
            ],
            "application/vnd.jupyter.widget-view+json": {
              "version_major": 2,
              "version_minor": 0,
              "model_id": "79a3f21ec7034317968c2ef8d39ba6a6"
            }
          },
          "metadata": {}
        },
        {
          "output_type": "display_data",
          "data": {
            "text/plain": [
              "adapter_model.bin:   0%|          | 0.00/87.4k [00:00<?, ?B/s]"
            ],
            "application/vnd.jupyter.widget-view+json": {
              "version_major": 2,
              "version_minor": 0,
              "model_id": "9d5d7a1603384071ada34fbae7e838c7"
            }
          },
          "metadata": {}
        },
        {
          "output_type": "execute_result",
          "data": {
            "text/plain": [
              "CommitInfo(commit_url='https://huggingface.co/ktgiahieu/deberta-v3-large-ptuning-logimpact-fullpaper/commit/8024acd01629366db09c368d843f0a3d7cad9a29', commit_message='Upload model', commit_description='', oid='8024acd01629366db09c368d843f0a3d7cad9a29', pr_url=None, pr_revision=None, pr_num=None)"
            ]
          },
          "metadata": {},
          "execution_count": 86
        }
      ]
    },
    {
      "cell_type": "markdown",
      "source": [
        "# Summarization on all data\n"
      ],
      "metadata": {
        "id": "HLWSQrTacD0V"
      }
    },
    {
      "cell_type": "markdown",
      "source": [
        "## Test scores"
      ],
      "metadata": {
        "id": "PVDVMyGocD0W"
      }
    },
    {
      "cell_type": "code",
      "source": [
        "# Citation counts prediction score\n",
        "\n",
        "oof_labels = oof_df[CFG.target_cols[0]].values\n",
        "oof_preds = oof_df['oof_pred_' + CFG.target_cols[0]].values\n",
        "\n",
        "kendall_tau_score = kendalltau(oof_labels, oof_preds)\n",
        "print(\"Kendall Tau score:\\n\\tCorrelation:\", kendall_tau_score.correlation, \"\\n\\tp-value:\", kendall_tau_score.pvalue, '\\n')\n",
        "\n",
        "print(\"Concordance index:\", concordance_index(oof_labels, oof_preds), \"\\n\")\n",
        "\n",
        "print(\"Quadratic Kappa score:\", quadratic_weighted_kappa(oof_labels, oof_preds), \"\\n\")\n",
        "\n",
        "# print(\"NDCG score:\", ndcg(torch.tensor(oof_preds.reshape(1,-1)), torch.tensor(oof_labels.reshape(1,-1))).numpy()[0][0], \"\\n\")"
      ],
      "metadata": {
        "execution": {
          "iopub.status.busy": "2023-05-17T17:21:50.610156Z",
          "iopub.execute_input": "2023-05-17T17:21:50.610549Z",
          "iopub.status.idle": "2023-05-17T17:21:50.631856Z",
          "shell.execute_reply.started": "2023-05-17T17:21:50.610515Z",
          "shell.execute_reply": "2023-05-17T17:21:50.630583Z"
        },
        "trusted": true,
        "id": "MND43-7QcD0W",
        "outputId": "c410d459-df85-4bbc-888a-39e47467c1f5",
        "colab": {
          "base_uri": "https://localhost:8080/"
        }
      },
      "execution_count": 88,
      "outputs": [
        {
          "output_type": "stream",
          "name": "stdout",
          "text": [
            "Kendall Tau score:\n",
            "\tCorrelation: 0.43867613760144547 \n",
            "\tp-value: 3.159922281192237e-15 \n",
            "\n",
            "Concordance index: 0.7201185075455976 \n",
            "\n",
            "Quadratic Kappa score: 0.5197765638477021 \n",
            "\n"
          ]
        }
      ]
    },
    {
      "cell_type": "markdown",
      "source": [
        "## Histograms"
      ],
      "metadata": {
        "id": "cMs7NUFmcD0W"
      }
    },
    {
      "cell_type": "markdown",
      "source": [
        "### Marginal histogram"
      ],
      "metadata": {
        "id": "6GWSb84fcD0W"
      }
    },
    {
      "cell_type": "code",
      "source": [
        "def marginal_histogram_plot():\n",
        "    ax1 = sns.jointplot(x=oof_labels, y=oof_preds, kind=\"hist\")\n",
        "    plt.xlabel('Ground truth')\n",
        "    plt.ylabel('Prediction')\n",
        "marginal_histogram_plot()"
      ],
      "metadata": {
        "execution": {
          "iopub.status.busy": "2023-05-17T17:21:51.089116Z",
          "iopub.execute_input": "2023-05-17T17:21:51.089500Z",
          "iopub.status.idle": "2023-05-17T17:21:51.734207Z",
          "shell.execute_reply.started": "2023-05-17T17:21:51.089469Z",
          "shell.execute_reply": "2023-05-17T17:21:51.733271Z"
        },
        "trusted": true,
        "id": "cOGf34_4cD0W",
        "outputId": "efbcb2b4-2586-424f-c531-46833a74d0ac",
        "colab": {
          "base_uri": "https://localhost:8080/",
          "height": 605
        }
      },
      "execution_count": 89,
      "outputs": [
        {
          "output_type": "display_data",
          "data": {
            "text/plain": [
              "<Figure size 600x600 with 3 Axes>"
            ],
            "image/png": "[encoded data removed]"
          },
          "metadata": {}
        }
      ]
    },
    {
      "cell_type": "markdown",
      "source": [
        "### Normalized occurences"
      ],
      "metadata": {
        "id": "7iY73w5AcD0W"
      }
    },
    {
      "cell_type": "code",
      "source": [
        "def normalized_occurences_plot(labels, preds, num_bins=20):\n",
        "    df_plot = pd.DataFrame({'label': labels, 'pred': preds})\n",
        "    # Calculation\n",
        "    N = df_plot.count().iloc[0]\n",
        "    \n",
        "    # Cut labels and preds to bins\n",
        "    df_plot['label'], retbin = pd.cut(df_plot['label'], num_bins, labels=False, retbins=True,include_lowest=False)\n",
        "    df_plot['pred'] = pd.cut(df_plot['pred'], bins=retbin, labels=False).fillna(-1)\n",
        "    \n",
        "    heatmap = np.zeros((num_bins,num_bins))\n",
        "    for i in range(num_bins):\n",
        "        for j in range(num_bins):\n",
        "            heatmap[i,j] = len(df_plot[(df_plot['label']==j)&(df_plot[\"pred\"]==i)])/N\n",
        "    heatmap_df = pd.DataFrame(heatmap, columns=[str(int(x)) if x.is_integer() else f'{x:.2f}' for x in retbin[:-1]])\n",
        "    heatmap_df.index=[str(int(x)) if x.is_integer() else f'{x:.2f}' for x in retbin[:-1]]\n",
        "\n",
        "    # Plot\n",
        "    plt.rcParams.update({'font.size': 22})\n",
        "\n",
        "    ax = sns.heatmap(heatmap_df, cmap=sns.color_palette(\"viridis\", as_cmap=True))\n",
        "    plt.yticks(rotation=0) \n",
        "    ax.invert_yaxis()\n",
        "    plt.title('Normalized Occurence')\n",
        "    plt.ylabel('Predition')\n",
        "    plt.xlabel('Ground truth')\n",
        "    plt.show()\n",
        "    \n",
        "normalized_occurences_plot(oof_labels, oof_preds)"
      ],
      "metadata": {
        "execution": {
          "iopub.status.busy": "2023-05-17T17:21:51.738251Z",
          "iopub.execute_input": "2023-05-17T17:21:51.738558Z",
          "iopub.status.idle": "2023-05-17T17:21:52.362070Z",
          "shell.execute_reply.started": "2023-05-17T17:21:51.738527Z",
          "shell.execute_reply": "2023-05-17T17:21:52.361102Z"
        },
        "trusted": true,
        "id": "PBGIlzRFcD0W",
        "outputId": "e495e420-92df-47f4-bb67-e815a65509dc",
        "colab": {
          "base_uri": "https://localhost:8080/",
          "height": 539
        }
      },
      "execution_count": 90,
      "outputs": [
        {
          "output_type": "display_data",
          "data": {
            "text/plain": [
              "<Figure size 640x480 with 2 Axes>"
            ],
            "image/png": "[encoded data removed]"
          },
          "metadata": {}
        }
      ]
    },
    {
      "cell_type": "markdown",
      "source": [
        "### Marginal product"
      ],
      "metadata": {
        "id": "tAd2lZwPcD0W"
      }
    },
    {
      "cell_type": "code",
      "source": [
        "def marginal_product_plot(labels, preds, num_bins=20):\n",
        "    df_plot = pd.DataFrame({'label': labels, 'pred': preds})\n",
        "    # Calculation\n",
        "    N = df_plot.count().iloc[0]\n",
        "    \n",
        "    # Cut labels and preds to bins\n",
        "    df_plot['label'], retbin = pd.cut(df_plot['label'], num_bins, labels=False, retbins=True,include_lowest=False)\n",
        "    df_plot['pred'] = pd.cut(df_plot['pred'], bins=retbin, labels=False).fillna(-1)\n",
        "    \n",
        "    heatmap = np.zeros((num_bins,num_bins))\n",
        "    for i in range(num_bins):\n",
        "        for j in range(num_bins):\n",
        "            N_i = len(df_plot[(df_plot['pred']==i)])\n",
        "            N_j = len(df_plot[(df_plot['label']==j)])\n",
        "            \n",
        "            heatmap[i,j] = N_i*N_j/N**2\n",
        "    heatmap_df = pd.DataFrame(heatmap, columns=[str(int(x)) if x.is_integer() else f'{x:.2f}' for x in retbin[:-1]])\n",
        "    heatmap_df.index=[str(int(x)) if x.is_integer() else f'{x:.2f}' for x in retbin[:-1]]\n",
        "\n",
        "    # Plot\n",
        "    plt.rcParams.update({'font.size': 22})\n",
        "\n",
        "    ax = sns.heatmap(heatmap_df, cmap=sns.color_palette(\"viridis\", as_cmap=True))\n",
        "    plt.yticks(rotation=0) \n",
        "    ax.invert_yaxis()\n",
        "    plt.title('Marginal Product')\n",
        "    plt.ylabel('Predition')\n",
        "    plt.xlabel('Ground truth')\n",
        "    plt.show()\n",
        "    \n",
        "marginal_product_plot(oof_labels, oof_preds)"
      ],
      "metadata": {
        "execution": {
          "iopub.status.busy": "2023-05-17T17:21:52.363753Z",
          "iopub.execute_input": "2023-05-17T17:21:52.364696Z",
          "iopub.status.idle": "2023-05-17T17:21:53.046179Z",
          "shell.execute_reply.started": "2023-05-17T17:21:52.364661Z",
          "shell.execute_reply": "2023-05-17T17:21:53.045291Z"
        },
        "trusted": true,
        "id": "ntP5CyNwcD0W",
        "outputId": "c3da38a9-32c2-4896-e491-ae8fec8b0082",
        "colab": {
          "base_uri": "https://localhost:8080/",
          "height": 539
        }
      },
      "execution_count": 91,
      "outputs": [
        {
          "output_type": "display_data",
          "data": {
            "text/plain": [
              "<Figure size 640x480 with 2 Axes>"
            ],
            "image/png": "[encoded data removed]"
          },
          "metadata": {}
        }
      ]
    },
    {
      "cell_type": "markdown",
      "source": [
        "### Normalized occurences / Marginal product"
      ],
      "metadata": {
        "id": "-rRc_Mn5cD0W"
      }
    },
    {
      "cell_type": "code",
      "source": [
        "def marginal_product_plot(labels, preds, num_bins=20):\n",
        "    df_plot = pd.DataFrame({'label': labels, 'pred': preds})\n",
        "    # Calculation\n",
        "    N = df_plot.count().iloc[0]\n",
        "    \n",
        "    # Cut labels and preds to bins\n",
        "    df_plot['label'], retbin = pd.cut(df_plot['label'], num_bins, labels=False, retbins=True,include_lowest=False)\n",
        "    df_plot['pred'] = pd.cut(df_plot['pred'], bins=retbin, labels=False).fillna(-1)\n",
        "    \n",
        "    heatmap = np.zeros((num_bins,num_bins))\n",
        "    for i in range(num_bins):\n",
        "        for j in range(num_bins):\n",
        "            N_i = len(df_plot[(df_plot['pred']==i)])\n",
        "            N_j = len(df_plot[(df_plot['label']==j)])\n",
        "            N_ij = len(df_plot[(df_plot['pred']==i)&(df_plot['label']==j)])\n",
        "            \n",
        "            eps = 1\n",
        "            heatmap[i,j] = N_ij*N / ((N_i+eps) * (N_j+eps))\n",
        "    heatmap_df = pd.DataFrame(heatmap, columns=[str(int(x)) if x.is_integer() else f'{x:.2f}' for x in retbin[:-1]])\n",
        "    heatmap_df.index=[str(int(x)) if x.is_integer() else f'{x:.2f}' for x in retbin[:-1]]\n",
        "\n",
        "    # Plot\n",
        "    plt.rcParams.update({'font.size': 22})\n",
        "\n",
        "    ax = sns.heatmap(heatmap_df, cmap=sns.color_palette(\"viridis\", as_cmap=True))\n",
        "    plt.yticks(rotation=0) \n",
        "    ax.invert_yaxis()\n",
        "    plt.title('Marginal Product')\n",
        "    plt.ylabel('Predition')\n",
        "    plt.xlabel('Ground truth')\n",
        "    plt.show()\n",
        "    \n",
        "marginal_product_plot(oof_labels, oof_preds)"
      ],
      "metadata": {
        "execution": {
          "iopub.status.busy": "2023-05-17T17:21:58.899329Z",
          "iopub.execute_input": "2023-05-17T17:21:58.899710Z",
          "iopub.status.idle": "2023-05-17T17:21:59.996630Z",
          "shell.execute_reply.started": "2023-05-17T17:21:58.899681Z",
          "shell.execute_reply": "2023-05-17T17:21:59.995626Z"
        },
        "trusted": true,
        "id": "zzH4bOcmcD0X",
        "outputId": "80966d6e-8947-45da-8a6f-159dcd90741a",
        "colab": {
          "base_uri": "https://localhost:8080/",
          "height": 563
        }
      },
      "execution_count": 92,
      "outputs": [
        {
          "output_type": "display_data",
          "data": {
            "text/plain": [
              "<Figure size 640x480 with 2 Axes>"
            ],
            "image/png": "[encoded data removed]"
          },
          "metadata": {}
        }
      ]
    },
    {
      "cell_type": "markdown",
      "source": [
        "# Summarization on top 5% citations\n"
      ],
      "metadata": {
        "id": "rWtan31OcD0X"
      }
    },
    {
      "cell_type": "markdown",
      "source": [
        "## Test scores"
      ],
      "metadata": {
        "id": "jL0MK_jDcD0X"
      }
    },
    {
      "cell_type": "code",
      "source": [
        "# Citation counts prediction score\n",
        "\n",
        "oof_labels = oof_df[oof_df['citationCount'] > oof_df['citationCount'].quantile(0.95)][CFG.target_cols[0]].values\n",
        "oof_preds = oof_df[oof_df['citationCount'] > oof_df['citationCount'].quantile(0.95)]['oof_pred_' + CFG.target_cols[0]].values\n",
        "\n",
        "kendall_tau_score = kendalltau(oof_labels, oof_preds)\n",
        "print(\"Kendall Tau score:\\n\\tCorrelation:\", kendall_tau_score.correlation, \"\\n\\tp-value:\", kendall_tau_score.pvalue, '\\n')\n",
        "\n",
        "print(\"Concordance index:\", concordance_index(oof_labels, oof_preds), \"\\n\")\n",
        "\n",
        "print(\"Quadratic Kappa score:\", quadratic_weighted_kappa(oof_labels, oof_preds), \"\\n\")\n",
        "\n",
        "# print(\"NDCG score:\", ndcg(torch.tensor(oof_preds.reshape(1,-1)), torch.tensor(oof_labels.reshape(1,-1))).numpy()[0][0], \"\\n\")"
      ],
      "metadata": {
        "execution": {
          "iopub.status.busy": "2023-05-17T17:22:05.759157Z",
          "iopub.execute_input": "2023-05-17T17:22:05.759608Z",
          "iopub.status.idle": "2023-05-17T17:22:05.778987Z",
          "shell.execute_reply.started": "2023-05-17T17:22:05.759576Z",
          "shell.execute_reply": "2023-05-17T17:22:05.777497Z"
        },
        "trusted": true,
        "id": "yyrpFI-McD0X",
        "outputId": "32cdea6e-3484-4052-d383-0755ea4ddc00",
        "colab": {
          "base_uri": "https://localhost:8080/"
        }
      },
      "execution_count": 93,
      "outputs": [
        {
          "output_type": "stream",
          "name": "stdout",
          "text": [
            "Kendall Tau score:\n",
            "\tCorrelation: 0.3571428571428571 \n",
            "\tp-value: 0.27509920634920637 \n",
            "\n",
            "Concordance index: 0.6785714285714286 \n",
            "\n",
            "Quadratic Kappa score: 0.03703703703703709 \n",
            "\n"
          ]
        }
      ]
    },
    {
      "cell_type": "markdown",
      "source": [
        "## Histograms"
      ],
      "metadata": {
        "id": "y3cexLkBcD0X"
      }
    },
    {
      "cell_type": "markdown",
      "source": [
        "### Marginal histogram"
      ],
      "metadata": {
        "id": "gznORRurcD0d"
      }
    },
    {
      "cell_type": "code",
      "source": [
        "def marginal_histogram_plot():\n",
        "    ax1 = sns.jointplot(x=oof_labels, y=oof_preds, kind=\"hist\")\n",
        "    plt.xlabel('Ground truth')\n",
        "    plt.ylabel('Prediction')\n",
        "marginal_histogram_plot()"
      ],
      "metadata": {
        "execution": {
          "iopub.status.busy": "2023-05-17T17:22:06.570301Z",
          "iopub.execute_input": "2023-05-17T17:22:06.570686Z",
          "iopub.status.idle": "2023-05-17T17:22:07.170086Z",
          "shell.execute_reply.started": "2023-05-17T17:22:06.570654Z",
          "shell.execute_reply": "2023-05-17T17:22:07.169108Z"
        },
        "trusted": true,
        "id": "SkbTEEY-cD0d",
        "outputId": "d43603f4-c82c-4cf2-e1ee-c6abe2aac037",
        "colab": {
          "base_uri": "https://localhost:8080/",
          "height": 605
        }
      },
      "execution_count": 94,
      "outputs": [
        {
          "output_type": "display_data",
          "data": {
            "text/plain": [
              "<Figure size 600x600 with 3 Axes>"
            ],
            "image/png": "[encoded data removed]"
          },
          "metadata": {}
        }
      ]
    },
    {
      "cell_type": "markdown",
      "source": [
        "### Normalized occurences"
      ],
      "metadata": {
        "id": "uK_KqVVhcD0d"
      }
    },
    {
      "cell_type": "code",
      "source": [
        "def normalized_occurences_plot(labels, preds, num_bins=20):\n",
        "    df_plot = pd.DataFrame({'label': labels, 'pred': preds})\n",
        "    # Calculation\n",
        "    N = df_plot.count().iloc[0]\n",
        "    \n",
        "    # Cut labels and preds to bins\n",
        "    df_plot['label'], retbin = pd.cut(df_plot['label'], num_bins, labels=False, retbins=True,include_lowest=False)\n",
        "    df_plot['pred'] = pd.cut(df_plot['pred'], bins=retbin, labels=False).fillna(-1)\n",
        "    \n",
        "    heatmap = np.zeros((num_bins,num_bins))\n",
        "    for i in range(num_bins):\n",
        "        for j in range(num_bins):\n",
        "            heatmap[i,j] = len(df_plot[(df_plot['label']==j)&(df_plot[\"pred\"]==i)])/N\n",
        "    heatmap_df = pd.DataFrame(heatmap, columns=[str(int(x)) if x.is_integer() else f'{x:.2f}' for x in retbin[:-1]])\n",
        "    heatmap_df.index=[str(int(x)) if x.is_integer() else f'{x:.2f}' for x in retbin[:-1]]\n",
        "\n",
        "    # Plot\n",
        "    plt.rcParams.update({'font.size': 22})\n",
        "\n",
        "    ax = sns.heatmap(heatmap_df, cmap=sns.color_palette(\"viridis\", as_cmap=True))\n",
        "    plt.yticks(rotation=0) \n",
        "    ax.invert_yaxis()\n",
        "    plt.title('Normalized Occurence')\n",
        "    plt.ylabel('Predition')\n",
        "    plt.xlabel('Ground truth')\n",
        "    plt.show()\n",
        "    \n",
        "normalized_occurences_plot(oof_labels, oof_preds)"
      ],
      "metadata": {
        "execution": {
          "iopub.status.busy": "2023-05-17T17:22:07.181793Z",
          "iopub.execute_input": "2023-05-17T17:22:07.182095Z",
          "iopub.status.idle": "2023-05-17T17:22:07.851198Z",
          "shell.execute_reply.started": "2023-05-17T17:22:07.182068Z",
          "shell.execute_reply": "2023-05-17T17:22:07.850269Z"
        },
        "trusted": true,
        "id": "iHw8mDPmcD0d",
        "outputId": "38ba1740-a01b-4bd7-cbca-e6f0cd56edb1",
        "colab": {
          "base_uri": "https://localhost:8080/",
          "height": 518
        }
      },
      "execution_count": 95,
      "outputs": [
        {
          "output_type": "display_data",
          "data": {
            "text/plain": [
              "<Figure size 640x480 with 2 Axes>"
            ],
            "image/png": "[encoded data removed]"
          },
          "metadata": {}
        }
      ]
    },
    {
      "cell_type": "markdown",
      "source": [
        "### Marginal product"
      ],
      "metadata": {
        "id": "HXjN-6yLcD0d"
      }
    },
    {
      "cell_type": "code",
      "source": [
        "def marginal_product_plot(labels, preds, num_bins=20):\n",
        "    df_plot = pd.DataFrame({'label': labels, 'pred': preds})\n",
        "    # Calculation\n",
        "    N = df_plot.count().iloc[0]\n",
        "    \n",
        "    # Cut labels and preds to bins\n",
        "    df_plot['label'], retbin = pd.cut(df_plot['label'], num_bins, labels=False, retbins=True,include_lowest=False)\n",
        "    df_plot['pred'] = pd.cut(df_plot['pred'], bins=retbin, labels=False).fillna(-1)\n",
        "    \n",
        "    heatmap = np.zeros((num_bins,num_bins))\n",
        "    for i in range(num_bins):\n",
        "        for j in range(num_bins):\n",
        "            N_i = len(df_plot[(df_plot['pred']==i)])\n",
        "            N_j = len(df_plot[(df_plot['label']==j)])\n",
        "            \n",
        "            heatmap[i,j] = N_i*N_j/N**2\n",
        "    heatmap_df = pd.DataFrame(heatmap, columns=[str(int(x)) if x.is_integer() else f'{x:.2f}' for x in retbin[:-1]])\n",
        "    heatmap_df.index=[str(int(x)) if x.is_integer() else f'{x:.2f}' for x in retbin[:-1]]\n",
        "\n",
        "    # Plot\n",
        "    plt.rcParams.update({'font.size': 22})\n",
        "\n",
        "    ax = sns.heatmap(heatmap_df, cmap=sns.color_palette(\"viridis\", as_cmap=True))\n",
        "    plt.yticks(rotation=0) \n",
        "    ax.invert_yaxis()\n",
        "    plt.title('Marginal Product')\n",
        "    plt.ylabel('Predition')\n",
        "    plt.xlabel('Ground truth')\n",
        "    plt.show()\n",
        "    \n",
        "marginal_product_plot(oof_labels, oof_preds)"
      ],
      "metadata": {
        "execution": {
          "iopub.status.busy": "2023-05-17T17:22:08.190298Z",
          "iopub.execute_input": "2023-05-17T17:22:08.191037Z",
          "iopub.status.idle": "2023-05-17T17:22:08.835257Z",
          "shell.execute_reply.started": "2023-05-17T17:22:08.190990Z",
          "shell.execute_reply": "2023-05-17T17:22:08.834295Z"
        },
        "trusted": true,
        "id": "G53Z92GfcD0d",
        "outputId": "0cb89f51-9c30-4356-9c3b-5a72299c4a7d",
        "colab": {
          "base_uri": "https://localhost:8080/",
          "height": 518
        }
      },
      "execution_count": 96,
      "outputs": [
        {
          "output_type": "display_data",
          "data": {
            "text/plain": [
              "<Figure size 640x480 with 2 Axes>"
            ],
            "image/png": "[encoded data removed]"
          },
          "metadata": {}
        }
      ]
    },
    {
      "cell_type": "markdown",
      "source": [
        "### Normalized occurences / Marginal product"
      ],
      "metadata": {
        "id": "hzpTMYSRcD0d"
      }
    },
    {
      "cell_type": "code",
      "source": [
        "def marginal_product_plot(labels, preds, num_bins=20):\n",
        "    df_plot = pd.DataFrame({'label': labels, 'pred': preds})\n",
        "    # Calculation\n",
        "    N = df_plot.count().iloc[0]\n",
        "    \n",
        "    # Cut labels and preds to bins\n",
        "    df_plot['label'], retbin = pd.cut(df_plot['label'], num_bins, labels=False, retbins=True,include_lowest=False)\n",
        "    df_plot['pred'] = pd.cut(df_plot['pred'], bins=retbin, labels=False).fillna(-1)\n",
        "    \n",
        "    heatmap = np.zeros((num_bins,num_bins))\n",
        "    for i in range(num_bins):\n",
        "        for j in range(num_bins):\n",
        "            N_i = len(df_plot[(df_plot['pred']==i)])\n",
        "            N_j = len(df_plot[(df_plot['label']==j)])\n",
        "            N_ij = len(df_plot[(df_plot['pred']==i)&(df_plot['label']==j)])\n",
        "            \n",
        "            eps = 1\n",
        "            heatmap[i,j] = N_ij*N / ((N_i+eps) * (N_j+eps))\n",
        "    heatmap_df = pd.DataFrame(heatmap, columns=[str(int(x)) if x.is_integer() else f'{x:.2f}' for x in retbin[:-1]])\n",
        "    heatmap_df.index=[str(int(x)) if x.is_integer() else f'{x:.2f}' for x in retbin[:-1]]\n",
        "\n",
        "    # Plot\n",
        "    plt.rcParams.update({'font.size': 22})\n",
        "\n",
        "    ax = sns.heatmap(heatmap_df, cmap=sns.color_palette(\"viridis\", as_cmap=True))\n",
        "    plt.yticks(rotation=0) \n",
        "    ax.invert_yaxis()\n",
        "    plt.title('Marginal Product')\n",
        "    plt.ylabel('Predition')\n",
        "    plt.xlabel('Ground truth')\n",
        "    plt.show()\n",
        "    \n",
        "marginal_product_plot(oof_labels, oof_preds)"
      ],
      "metadata": {
        "execution": {
          "iopub.status.busy": "2023-05-17T17:22:12.085470Z",
          "iopub.execute_input": "2023-05-17T17:22:12.086040Z",
          "iopub.status.idle": "2023-05-17T17:22:13.015290Z",
          "shell.execute_reply.started": "2023-05-17T17:22:12.086008Z",
          "shell.execute_reply": "2023-05-17T17:22:13.014355Z"
        },
        "trusted": true,
        "id": "0hhQXXSlcD0d",
        "outputId": "970e5e96-cda2-47ea-9e78-259218cc5a22",
        "colab": {
          "base_uri": "https://localhost:8080/",
          "height": 518
        }
      },
      "execution_count": 97,
      "outputs": [
        {
          "output_type": "display_data",
          "data": {
            "text/plain": [
              "<Figure size 640x480 with 2 Axes>"
            ],
            "image/png": "[encoded data removed]"
          },
          "metadata": {}
        }
      ]
    },
    {
      "cell_type": "code",
      "source": [],
      "metadata": {
        "id": "MS44L4JNcD0e"
      },
      "execution_count": 97,
      "outputs": []
    },
    {
      "cell_type": "code",
      "source": [],
      "metadata": {
        "id": "6I2N142YcD0e"
      },
      "execution_count": null,
      "outputs": []
    }
  ]
}